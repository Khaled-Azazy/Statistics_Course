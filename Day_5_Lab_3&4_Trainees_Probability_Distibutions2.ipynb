{
  "cells": [
    {
      "cell_type": "code",
      "execution_count": 1,
      "id": "8ce7dc96",
      "metadata": {},
      "outputs": [],
      "source": [
        "import numpy as np\n",
        "from scipy import stats\n",
        "import matplotlib.pyplot as plt\n",
        "import seaborn as sns\n",
        "import statistics as stat"
      ]
    },
    {
      "cell_type": "markdown",
      "id": "b4e49380",
      "metadata": {
        "id": "b4e49380"
      },
      "source": [
        "## Bernoulli"
      ]
    },
    {
      "cell_type": "markdown",
      "id": "995c9210",
      "metadata": {
        "id": "995c9210"
      },
      "source": [
        "### Create random sample data from a Bernoulli distribution with p=0.6 and size=1000.\n",
        "### For the created data perform the following:\n",
        "- Count plot.\n",
        "- Hist plot with y-axis represents the proportion.\n",
        "- Calculate mean, variance, standard deviation, median, and mode."
      ]
    },
    {
      "cell_type": "code",
      "execution_count": 2,
      "id": "7815ce19",
      "metadata": {
        "id": "7815ce19"
      },
      "outputs": [],
      "source": [
        "x = np.random.binomial(n=1, p=0.6, size=1000)"
      ]
    },
    {
      "cell_type": "code",
      "execution_count": 4,
      "id": "a6b92b5c",
      "metadata": {},
      "outputs": [
        {
          "data": {
            "text/plain": [
              "<AxesSubplot:ylabel='count'>"
            ]
          },
          "execution_count": 4,
          "metadata": {},
          "output_type": "execute_result"
        },
        {
          "data": {
            "image/png": "[encoded data removed]",
            "text/plain": [
              "<Figure size 432x288 with 1 Axes>"
            ]
          },
          "metadata": {
            "needs_background": "light"
          },
          "output_type": "display_data"
        }
      ],
      "source": [
        "sns.countplot(x=x)"
      ]
    },
    {
      "cell_type": "code",
      "execution_count": null,
      "id": "d862ccb0",
      "metadata": {
        "id": "d862ccb0",
        "outputId": "4e3479f0-a095-473e-ccfd-95d21942a7a2"
      },
      "outputs": [
        {
          "data": {
            "text/plain": [
              "<AxesSubplot:ylabel='count'>"
            ]
          },
          "execution_count": 3,
          "metadata": {},
          "output_type": "execute_result"
        },
        {
          "data": {
            "image/png": "[encoded data removed]",
            "text/plain": [
              "<Figure size 432x288 with 1 Axes>"
            ]
          },
          "metadata": {
            "needs_background": "light"
          },
          "output_type": "display_data"
        }
      ],
      "source": []
    },
    {
      "cell_type": "code",
      "execution_count": 6,
      "id": "3252fcde",
      "metadata": {},
      "outputs": [
        {
          "data": {
            "text/plain": [
              "<AxesSubplot:ylabel='Proportion'>"
            ]
          },
          "execution_count": 6,
          "metadata": {},
          "output_type": "execute_result"
        },
        {
          "data": {
            "image/png": "[encoded data removed]",
            "text/plain": [
              "<Figure size 432x288 with 1 Axes>"
            ]
          },
          "metadata": {
            "needs_background": "light"
          },
          "output_type": "display_data"
        }
      ],
      "source": [
        "sns.histplot(x,stat='proportion')"
      ]
    },
    {
      "cell_type": "code",
      "execution_count": null,
      "id": "23df7c60",
      "metadata": {
        "id": "23df7c60",
        "outputId": "806d59c0-f904-4213-f161-b69e54964c91"
      },
      "outputs": [
        {
          "data": {
            "text/plain": [
              "<AxesSubplot:ylabel='Proportion'>"
            ]
          },
          "execution_count": 4,
          "metadata": {},
          "output_type": "execute_result"
        },
        {
          "data": {
            "image/png": "[encoded data removed]",
            "text/plain": [
              "<Figure size 432x288 with 1 Axes>"
            ]
          },
          "metadata": {
            "needs_background": "light"
          },
          "output_type": "display_data"
        }
      ],
      "source": []
    },
    {
      "cell_type": "code",
      "execution_count": 12,
      "id": "5ae9fff1",
      "metadata": {},
      "outputs": [
        {
          "name": "stdout",
          "output_type": "stream",
          "text": [
            "Mean: 0.608\n",
            "Var: 0.23833600000000008\n",
            "Std: 0.4881966816765555\n",
            "Median: 1.0\n",
            "Mode: ModeResult(mode=array([1]), count=array([608]))\n"
          ]
        }
      ],
      "source": [
        "print(\"Mean: \"+ str(x.mean()))\n",
        "print(\"Var: \"+ str((x.var())))\n",
        "print(\"Std: \"+ str(x.std()))\n",
        "print(\"Median: \"+ str(np.median(x)))\n",
        "print(\"Mode: \"+ str(stats.mode(x)))"
      ]
    },
    {
      "cell_type": "code",
      "execution_count": null,
      "id": "77052712",
      "metadata": {
        "id": "77052712",
        "outputId": "7fdb4738-8450-4e6a-a259-c261a597d85f",
        "scrolled": false
      },
      "outputs": [
        {
          "name": "stdout",
          "output_type": "stream",
          "text": [
            "Mean: 0.614\n",
            "Var: 0.23700399999999996\n",
            "Std: 0.48683056600833924\n",
            "Median: 1.0\n",
            "Mode: ModeResult(mode=array([1]), count=array([614]))\n"
          ]
        }
      ],
      "source": []
    },
    {
      "cell_type": "markdown",
      "id": "29e2fcdd",
      "metadata": {
        "id": "29e2fcdd"
      },
      "source": [
        "### Use scipy.stats.bernoulli.pmf\n",
        "- Calculate the probabilities of success and failure. "
      ]
    },
    {
      "cell_type": "code",
      "execution_count": 18,
      "id": "84808282",
      "metadata": {
        "id": "84808282"
      },
      "outputs": [
        {
          "name": "stdout",
          "output_type": "stream",
          "text": [
            "P(0): 0.4\n",
            "P(1): 0.6\n"
          ]
        }
      ],
      "source": [
        "print(\"P(0): \"+ str(stats.bernoulli.pmf(p=0.6,k=0)))\n",
        "print(\"P(1): \"+ str(stats.bernoulli.pmf(p=0.6,k=1)))\n"
      ]
    },
    {
      "cell_type": "code",
      "execution_count": null,
      "id": "c1a94fe4",
      "metadata": {
        "id": "c1a94fe4",
        "outputId": "e13e9bb7-7626-4011-d685-601dd9aefddd"
      },
      "outputs": [
        {
          "name": "stdout",
          "output_type": "stream",
          "text": [
            "P(1): 0.6\n",
            "P(0): 0.4\n"
          ]
        }
      ],
      "source": []
    },
    {
      "cell_type": "markdown",
      "id": "ad3ecf24",
      "metadata": {
        "id": "ad3ecf24"
      },
      "source": [
        "### Repeat with other values of probability of success.\n",
        "##### The following results uses p=0.5, p=0.9, and p=0.2"
      ]
    },
    {
      "cell_type": "code",
      "execution_count": 27,
      "id": "89f2c443",
      "metadata": {},
      "outputs": [
        {
          "data": {
            "image/png": "[encoded data removed]",
            "text/plain": [
              "<Figure size 432x288 with 1 Axes>"
            ]
          },
          "metadata": {
            "needs_background": "light"
          },
          "output_type": "display_data"
        },
        {
          "name": "stdout",
          "output_type": "stream",
          "text": [
            "Mean: 0.506\n",
            "Var: 0.24996399999999994\n",
            "Std: 0.4999639987039066\n",
            "Median: 1.0\n",
            "Mode: ModeResult(mode=array([1]), count=array([506]))\n",
            "P(0): 0.5\n",
            "P(1): 0.5\n"
          ]
        },
        {
          "data": {
            "image/png": "[encoded data removed]",
            "text/plain": [
              "<Figure size 432x288 with 1 Axes>"
            ]
          },
          "metadata": {
            "needs_background": "light"
          },
          "output_type": "display_data"
        }
      ],
      "source": [
        "x = np.random.binomial(n=1, p=0.5, size=1000)\n",
        "sns.countplot(x=x)\n",
        "plt.show()\n",
        "print(\"Mean: \"+ str(x.mean()))\n",
        "print(\"Var: \"+ str((x.var())))\n",
        "print(\"Std: \"+ str(x.std()))\n",
        "print(\"Median: \"+ str(np.median(x)))\n",
        "print(\"Mode: \"+ str(stats.mode(x)))\n",
        "sns.histplot(x)\n",
        "print(\"P(0): \"+ str(stats.bernoulli.pmf(p=0.5,k=0)))\n",
        "print(\"P(1): \"+ str(stats.bernoulli.pmf(p=0.5,k=1)))\n"
      ]
    },
    {
      "cell_type": "code",
      "execution_count": null,
      "id": "8e178199",
      "metadata": {
        "id": "8e178199",
        "outputId": "c9016016-c261-429a-aab8-0335124877e9"
      },
      "outputs": [
        {
          "data": {
            "image/png": "[encoded data removed]",
            "text/plain": [
              "<Figure size 432x288 with 1 Axes>"
            ]
          },
          "metadata": {
            "needs_background": "light"
          },
          "output_type": "display_data"
        },
        {
          "name": "stdout",
          "output_type": "stream",
          "text": [
            "Mean: 0.48\n",
            "Var: 0.24960000000000002\n",
            "Std: 0.4995998398718719\n",
            "Median: 0.0\n",
            "Mode: ModeResult(mode=array([0]), count=array([520]))\n",
            "P(1): 0.5\n",
            "P(0): 0.5\n"
          ]
        },
        {
          "data": {
            "image/png": "[encoded data removed]",
            "text/plain": [
              "<Figure size 432x288 with 1 Axes>"
            ]
          },
          "metadata": {
            "needs_background": "light"
          },
          "output_type": "display_data"
        }
      ],
      "source": [
        "# p = 0.5\n"
      ]
    },
    {
      "cell_type": "code",
      "execution_count": 28,
      "id": "63c84c4f",
      "metadata": {},
      "outputs": [
        {
          "data": {
            "image/png": "[encoded data removed]",
            "text/plain": [
              "<Figure size 432x288 with 1 Axes>"
            ]
          },
          "metadata": {
            "needs_background": "light"
          },
          "output_type": "display_data"
        },
        {
          "name": "stdout",
          "output_type": "stream",
          "text": [
            "Mean: 0.908\n",
            "Var: 0.08353600000000001\n",
            "Std: 0.289025950392002\n",
            "Median: 1.0\n",
            "Mode: ModeResult(mode=array([1]), count=array([908]))\n",
            "P(0): 0.09999999999999998\n",
            "P(1): 0.9\n"
          ]
        },
        {
          "data": {
            "image/png": "[encoded data removed]",
            "text/plain": [
              "<Figure size 432x288 with 1 Axes>"
            ]
          },
          "metadata": {
            "needs_background": "light"
          },
          "output_type": "display_data"
        }
      ],
      "source": [
        "x = np.random.binomial(n=1, p=0.9, size=1000)\n",
        "sns.countplot(x=x)\n",
        "plt.show()\n",
        "print(\"Mean: \"+ str(x.mean()))\n",
        "print(\"Var: \"+ str((x.var())))\n",
        "print(\"Std: \"+ str(x.std()))\n",
        "print(\"Median: \"+ str(np.median(x)))\n",
        "print(\"Mode: \"+ str(stats.mode(x)))\n",
        "sns.histplot(x)\n",
        "print(\"P(0): \"+ str(stats.bernoulli.pmf(p=0.9,k=0)))\n",
        "print(\"P(1): \"+ str(stats.bernoulli.pmf(p=0.9,k=1)))\n"
      ]
    },
    {
      "cell_type": "code",
      "execution_count": null,
      "id": "eef86894",
      "metadata": {
        "id": "eef86894",
        "outputId": "e659bcbe-1e3e-40e3-ad62-4c5f6d8af3e2"
      },
      "outputs": [
        {
          "data": {
            "image/png": "[encoded data removed]",
            "text/plain": [
              "<Figure size 432x288 with 1 Axes>"
            ]
          },
          "metadata": {
            "needs_background": "light"
          },
          "output_type": "display_data"
        },
        {
          "name": "stdout",
          "output_type": "stream",
          "text": [
            "Mean: 0.894\n",
            "Var: 0.09476400000000001\n",
            "Std: 0.3078376195334157\n",
            "Median: 1.0\n",
            "Mode: ModeResult(mode=array([1]), count=array([894]))\n",
            "P(1): 0.9\n",
            "P(0): 0.09999999999999998\n"
          ]
        },
        {
          "data": {
            "image/png": "[encoded data removed]",
            "text/plain": [
              "<Figure size 432x288 with 1 Axes>"
            ]
          },
          "metadata": {
            "needs_background": "light"
          },
          "output_type": "display_data"
        }
      ],
      "source": [
        "# p = 0.9\n"
      ]
    },
    {
      "cell_type": "code",
      "execution_count": 29,
      "id": "e682edfd",
      "metadata": {},
      "outputs": [
        {
          "data": {
            "image/png": "[encoded data removed]",
            "text/plain": [
              "<Figure size 432x288 with 1 Axes>"
            ]
          },
          "metadata": {
            "needs_background": "light"
          },
          "output_type": "display_data"
        },
        {
          "name": "stdout",
          "output_type": "stream",
          "text": [
            "Mean: 0.206\n",
            "Var: 0.16356399999999996\n",
            "Std: 0.4044304637388237\n",
            "Median: 0.0\n",
            "Mode: ModeResult(mode=array([0]), count=array([794]))\n",
            "P(0): 0.8\n",
            "P(1): 0.2\n"
          ]
        },
        {
          "data": {
            "image/png": "[encoded data removed]",
            "text/plain": [
              "<Figure size 432x288 with 1 Axes>"
            ]
          },
          "metadata": {
            "needs_background": "light"
          },
          "output_type": "display_data"
        }
      ],
      "source": [
        "x = np.random.binomial(n=1, p=0.2, size=1000)\n",
        "sns.countplot(x=x)\n",
        "plt.show()\n",
        "print(\"Mean: \"+ str(x.mean()))\n",
        "print(\"Var: \"+ str((x.var())))\n",
        "print(\"Std: \"+ str(x.std()))\n",
        "print(\"Median: \"+ str(np.median(x)))\n",
        "print(\"Mode: \"+ str(stats.mode(x)))\n",
        "sns.histplot(x)\n",
        "print(\"P(0): \"+ str(stats.bernoulli.pmf(p=0.2,k=0)))\n",
        "print(\"P(1): \"+ str(stats.bernoulli.pmf(p=0.2,k=1)))\n"
      ]
    },
    {
      "cell_type": "code",
      "execution_count": null,
      "id": "6153e01b",
      "metadata": {
        "id": "6153e01b",
        "outputId": "380aca42-221a-488a-ab00-b266b5a6fbc9"
      },
      "outputs": [
        {
          "data": {
            "image/png": "[encoded data removed]",
            "text/plain": [
              "<Figure size 432x288 with 1 Axes>"
            ]
          },
          "metadata": {
            "needs_background": "light"
          },
          "output_type": "display_data"
        },
        {
          "name": "stdout",
          "output_type": "stream",
          "text": [
            "Mean: 0.204\n",
            "Var: 0.16238400000000003\n",
            "Std: 0.4029689814365369\n",
            "Median: 0.0\n",
            "Mode: ModeResult(mode=array([0]), count=array([796]))\n",
            "P(1): 0.2\n",
            "P(0): 0.8\n"
          ]
        },
        {
          "data": {
            "image/png": "[encoded data removed]",
            "text/plain": [
              "<Figure size 432x288 with 1 Axes>"
            ]
          },
          "metadata": {
            "needs_background": "light"
          },
          "output_type": "display_data"
        }
      ],
      "source": [
        "# p = 0.2\n"
      ]
    },
    {
      "cell_type": "markdown",
      "id": "379e3ce2",
      "metadata": {
        "id": "379e3ce2"
      },
      "source": [
        "### Repeat with p=0.5 and sample sizes  50 and 50000.\n",
        "##### Observe the difference"
      ]
    },
    {
      "cell_type": "code",
      "execution_count": 31,
      "id": "ad688c8a",
      "metadata": {},
      "outputs": [
        {
          "data": {
            "image/png": "[encoded data removed]",
            "text/plain": [
              "<Figure size 432x288 with 1 Axes>"
            ]
          },
          "metadata": {
            "needs_background": "light"
          },
          "output_type": "display_data"
        },
        {
          "name": "stdout",
          "output_type": "stream",
          "text": [
            "Mean: 0.5\n",
            "Var: 0.25\n",
            "Std: 0.5\n",
            "Median: 0.5\n",
            "Mode: ModeResult(mode=array([0]), count=array([25]))\n",
            "P(0): 0.5\n",
            "P(1): 0.5\n"
          ]
        },
        {
          "data": {
            "image/png": "[encoded data removed]",
            "text/plain": [
              "<Figure size 432x288 with 1 Axes>"
            ]
          },
          "metadata": {
            "needs_background": "light"
          },
          "output_type": "display_data"
        }
      ],
      "source": [
        "x = np.random.binomial(n=1, p=0.5, size=50)\n",
        "sns.countplot(x=x)\n",
        "plt.show()\n",
        "print(\"Mean: \"+ str(x.mean()))\n",
        "print(\"Var: \"+ str((x.var())))\n",
        "print(\"Std: \"+ str(x.std()))\n",
        "print(\"Median: \"+ str(np.median(x)))\n",
        "print(\"Mode: \"+ str(stats.mode(x)))\n",
        "sns.histplot(x)\n",
        "print(\"P(0): \"+ str(stats.bernoulli.pmf(p=0.5,k=0)))\n",
        "print(\"P(1): \"+ str(stats.bernoulli.pmf(p=0.5,k=1)))\n"
      ]
    },
    {
      "cell_type": "code",
      "execution_count": null,
      "id": "c7a1b275",
      "metadata": {
        "id": "c7a1b275",
        "outputId": "f95b7113-6a3c-4b8a-ac4b-779d10b92375"
      },
      "outputs": [
        {
          "data": {
            "image/png": "[encoded data removed]",
            "text/plain": [
              "<Figure size 432x288 with 1 Axes>"
            ]
          },
          "metadata": {
            "needs_background": "light"
          },
          "output_type": "display_data"
        },
        {
          "name": "stdout",
          "output_type": "stream",
          "text": [
            "Mean: 0.54\n",
            "Var: 0.24840000000000004\n",
            "Std: 0.49839743177508455\n",
            "Median: 1.0\n",
            "Mode: ModeResult(mode=array([1]), count=array([27]))\n"
          ]
        },
        {
          "data": {
            "image/png": "[encoded data removed]",
            "text/plain": [
              "<Figure size 432x288 with 1 Axes>"
            ]
          },
          "metadata": {
            "needs_background": "light"
          },
          "output_type": "display_data"
        }
      ],
      "source": [
        "# p = 0.5, size = 50\n"
      ]
    },
    {
      "cell_type": "code",
      "execution_count": 32,
      "id": "165222ed",
      "metadata": {},
      "outputs": [
        {
          "data": {
            "image/png": "[encoded data removed]",
            "text/plain": [
              "<Figure size 432x288 with 1 Axes>"
            ]
          },
          "metadata": {
            "needs_background": "light"
          },
          "output_type": "display_data"
        },
        {
          "name": "stdout",
          "output_type": "stream",
          "text": [
            "Mean: 0.49924\n",
            "Var: 0.2499994224\n",
            "Std: 0.4999994223996664\n",
            "Median: 0.0\n",
            "Mode: ModeResult(mode=array([0]), count=array([25038]))\n",
            "P(0): 0.5\n",
            "P(1): 0.5\n"
          ]
        },
        {
          "data": {
            "image/png": "[encoded data removed]",
            "text/plain": [
              "<Figure size 432x288 with 1 Axes>"
            ]
          },
          "metadata": {
            "needs_background": "light"
          },
          "output_type": "display_data"
        }
      ],
      "source": [
        "x = np.random.binomial(n=1, p=0.5, size=50000)\n",
        "sns.countplot(x=x)\n",
        "plt.show()\n",
        "print(\"Mean: \"+ str(x.mean()))\n",
        "print(\"Var: \"+ str((x.var())))\n",
        "print(\"Std: \"+ str(x.std()))\n",
        "print(\"Median: \"+ str(np.median(x)))\n",
        "print(\"Mode: \"+ str(stats.mode(x)))\n",
        "sns.histplot(x)\n",
        "print(\"P(0): \"+ str(stats.bernoulli.pmf(p=0.5,k=0)))\n",
        "print(\"P(1): \"+ str(stats.bernoulli.pmf(p=0.5,k=1)))\n"
      ]
    },
    {
      "cell_type": "code",
      "execution_count": null,
      "id": "6af50d36",
      "metadata": {
        "id": "6af50d36",
        "outputId": "8d28ffd9-03ac-471a-8393-6b3032724f46"
      },
      "outputs": [
        {
          "data": {
            "image/png": "[encoded data removed]",
            "text/plain": [
              "<Figure size 432x288 with 1 Axes>"
            ]
          },
          "metadata": {
            "needs_background": "light"
          },
          "output_type": "display_data"
        },
        {
          "name": "stdout",
          "output_type": "stream",
          "text": [
            "Mean: 0.50066\n",
            "Var: 0.24999956440000004\n",
            "Std: 0.4999995643998103\n",
            "Median: 1.0\n",
            "Mode: ModeResult(mode=array([1]), count=array([25033]))\n"
          ]
        },
        {
          "data": {
            "image/png": "[encoded data removed]",
            "text/plain": [
              "<Figure size 432x288 with 1 Axes>"
            ]
          },
          "metadata": {
            "needs_background": "light"
          },
          "output_type": "display_data"
        }
      ],
      "source": [
        "# p = 0.5, size = 50000\n"
      ]
    },
    {
      "cell_type": "markdown",
      "id": "2fde0110",
      "metadata": {
        "id": "2fde0110"
      },
      "source": [
        "## Binomial"
      ]
    },
    {
      "cell_type": "markdown",
      "id": "9c9ae157",
      "metadata": {
        "id": "9c9ae157"
      },
      "source": [
        "- Consider a random experiment of tossing a <b>biased coin 6 times</b> where the <b>probability of getting a head is 0.6</b>. \n",
        "- If ‘getting a head’ is considered as <b>‘success’</b>.\n",
        "- Find the probability of <b>k</b> successes for each possible value of <b>k</b>. In other words, find probability of having 0 head, 1 head, 2 heads ... etc. \n",
        "- What is the mean and variance of this distribution? <b>(use binom.stats)</b>\n",
        "- Using <b>sns.barplot()</b> or any method of your choice to plot the probability distribution.\n",
        "- Generate the sample data using <b>np.random.binomial()</b> to obtain the same distribution and compare the results (try size=50 , 1000, and 10000). \n",
        "- Repeat with p=0.1 and p=0.9\n",
        "- Repeat with n = 1000, p=0.6 (you can also try with any <b>p</b>)"
      ]
    },
    {
      "cell_type": "code",
      "execution_count": 53,
      "id": "03ecd40b",
      "metadata": {
        "id": "03ecd40b"
      },
      "outputs": [
        {
          "name": "stdout",
          "output_type": "stream",
          "text": [
            "P(0): 0.0040960000000000015\n",
            "P(1): 0.03686400000000002\n",
            "P(2): 0.1382400000000001\n",
            "P(3): 0.2764800000000001\n",
            "P(4): 0.3110400000000001\n",
            "P(5): 0.1866240000000001\n",
            "P(6): 0.04665599999999999\n",
            "Mean: 3.5999999999999996\n",
            "Var: 1.44\n"
          ]
        }
      ],
      "source": [
        "x=np.arange(0,7)\n",
        "x = stats.binom.pmf(k=x,n=6,p=0.6)\n",
        "for i, v in enumerate(x):\n",
        "    print(\"P({}): {}\".format(i,v))\n",
        "print(\"Mean: {}\\nVar: {}\".format(stats.binom.stats(n=6,p=0.6)[0], stats.binom.stats(n=6,p=0.6)[1]))"
      ]
    },
    {
      "cell_type": "code",
      "execution_count": null,
      "id": "9d0ea0c4",
      "metadata": {
        "id": "9d0ea0c4",
        "outputId": "95fce2f3-fd7f-4cc3-818a-1a7dd126d743"
      },
      "outputs": [
        {
          "name": "stdout",
          "output_type": "stream",
          "text": [
            "P(0): 0.0040960000000000015\n",
            "P(1): 0.03686400000000002\n",
            "P(2): 0.1382400000000001\n",
            "P(3): 0.2764800000000001\n",
            "P(4): 0.3110400000000001\n",
            "P(5): 0.1866240000000001\n",
            "P(6): 0.04665599999999999\n",
            "Mean: 3.5999999999999996\n",
            "Var.: 1.44\n"
          ]
        }
      ],
      "source": [
        "## biased die throw 6 times \n",
        "## Number of heads n = 6 , k= 0,1,2,3,4,5,6\n"
      ]
    },
    {
      "cell_type": "code",
      "execution_count": 57,
      "id": "85c5b9a9",
      "metadata": {},
      "outputs": [
        {
          "data": {
            "text/plain": [
              "<AxesSubplot:>"
            ]
          },
          "execution_count": 57,
          "metadata": {},
          "output_type": "execute_result"
        },
        {
          "data": {
            "image/png": "[encoded data removed]",
            "text/plain": [
              "<Figure size 432x288 with 1 Axes>"
            ]
          },
          "metadata": {
            "needs_background": "light"
          },
          "output_type": "display_data"
        }
      ],
      "source": [
        "sns.barplot(x=np.arange(0,7),y=x)"
      ]
    },
    {
      "cell_type": "code",
      "execution_count": null,
      "id": "1862b574",
      "metadata": {
        "id": "1862b574",
        "outputId": "a1cbe938-1f5f-468b-d79b-e82c5fa14054"
      },
      "outputs": [
        {
          "data": {
            "text/plain": [
              "<AxesSubplot:>"
            ]
          },
          "execution_count": 15,
          "metadata": {},
          "output_type": "execute_result"
        },
        {
          "data": {
            "image/png": "[encoded data removed]",
            "text/plain": [
              "<Figure size 432x288 with 1 Axes>"
            ]
          },
          "metadata": {
            "needs_background": "light"
          },
          "output_type": "display_data"
        }
      ],
      "source": []
    },
    {
      "cell_type": "code",
      "execution_count": 70,
      "id": "d11c415a",
      "metadata": {},
      "outputs": [
        {
          "name": "stdout",
          "output_type": "stream",
          "text": [
            "Mean: 3.66\n",
            "Var: 1.4243999999999997\n"
          ]
        },
        {
          "data": {
            "image/png": "[encoded data removed]",
            "text/plain": [
              "<Figure size 432x288 with 1 Axes>"
            ]
          },
          "metadata": {
            "needs_background": "light"
          },
          "output_type": "display_data"
        },
        {
          "data": {
            "text/plain": [
              "<AxesSubplot:ylabel='count'>"
            ]
          },
          "execution_count": 70,
          "metadata": {},
          "output_type": "execute_result"
        },
        {
          "data": {
            "image/png": "[encoded data removed]",
            "text/plain": [
              "<Figure size 432x288 with 1 Axes>"
            ]
          },
          "metadata": {
            "needs_background": "light"
          },
          "output_type": "display_data"
        }
      ],
      "source": [
        "x = np.random.binomial(n=6, p=0.6, size=50)\n",
        "print(\"Mean: {}\\nVar: {}\".format(x.mean(), x.var()))\n",
        "sns.histplot(x)\n",
        "plt.show()\n",
        "sns.countplot(x=x)"
      ]
    },
    {
      "cell_type": "code",
      "execution_count": null,
      "id": "cf2a7b79",
      "metadata": {
        "id": "cf2a7b79",
        "outputId": "363807fe-7f6e-451a-d6e0-272f4bed2dd0"
      },
      "outputs": [
        {
          "name": "stdout",
          "output_type": "stream",
          "text": [
            "Mean: 3.6\n",
            "Var: 1.32\n"
          ]
        },
        {
          "data": {
            "image/png": "[encoded data removed]",
            "text/plain": [
              "<Figure size 432x288 with 1 Axes>"
            ]
          },
          "metadata": {
            "needs_background": "light"
          },
          "output_type": "display_data"
        },
        {
          "data": {
            "image/png": "[encoded data removed]",
            "text/plain": [
              "<Figure size 432x288 with 1 Axes>"
            ]
          },
          "metadata": {
            "needs_background": "light"
          },
          "output_type": "display_data"
        }
      ],
      "source": [
        "# size = 50\n"
      ]
    },
    {
      "cell_type": "code",
      "execution_count": 71,
      "id": "aa1f56ed",
      "metadata": {},
      "outputs": [
        {
          "name": "stdout",
          "output_type": "stream",
          "text": [
            "Mean: 3.528\n",
            "Var: 1.4172160000000003\n"
          ]
        },
        {
          "data": {
            "image/png": "[encoded data removed]",
            "text/plain": [
              "<Figure size 432x288 with 1 Axes>"
            ]
          },
          "metadata": {
            "needs_background": "light"
          },
          "output_type": "display_data"
        },
        {
          "data": {
            "text/plain": [
              "<AxesSubplot:ylabel='count'>"
            ]
          },
          "execution_count": 71,
          "metadata": {},
          "output_type": "execute_result"
        },
        {
          "data": {
            "image/png": "[encoded data removed]",
            "text/plain": [
              "<Figure size 432x288 with 1 Axes>"
            ]
          },
          "metadata": {
            "needs_background": "light"
          },
          "output_type": "display_data"
        }
      ],
      "source": [
        "x = np.random.binomial(n=6, p=0.6, size=1000)\n",
        "print(\"Mean: {}\\nVar: {}\".format(x.mean(), x.var()))\n",
        "sns.histplot(x)\n",
        "plt.show()\n",
        "sns.countplot(x=x)"
      ]
    },
    {
      "cell_type": "code",
      "execution_count": null,
      "id": "e63290b8",
      "metadata": {
        "id": "e63290b8",
        "outputId": "03dff1f4-2cca-4045-e0db-6864bcd58818"
      },
      "outputs": [
        {
          "name": "stdout",
          "output_type": "stream",
          "text": [
            "Mean: 3.662\n",
            "Var: 1.4457559999999998\n"
          ]
        },
        {
          "data": {
            "image/png": "[encoded data removed]",
            "text/plain": [
              "<Figure size 432x288 with 1 Axes>"
            ]
          },
          "metadata": {
            "needs_background": "light"
          },
          "output_type": "display_data"
        },
        {
          "data": {
            "image/png": "[encoded data removed]",
            "text/plain": [
              "<Figure size 432x288 with 1 Axes>"
            ]
          },
          "metadata": {
            "needs_background": "light"
          },
          "output_type": "display_data"
        }
      ],
      "source": [
        "# size = 1000\n"
      ]
    },
    {
      "cell_type": "code",
      "execution_count": 72,
      "id": "db8d2fac",
      "metadata": {},
      "outputs": [
        {
          "name": "stdout",
          "output_type": "stream",
          "text": [
            "Mean: 3.5813\n",
            "Var: 1.41179031\n"
          ]
        },
        {
          "data": {
            "image/png": "[encoded data removed]",
            "text/plain": [
              "<Figure size 432x288 with 1 Axes>"
            ]
          },
          "metadata": {
            "needs_background": "light"
          },
          "output_type": "display_data"
        },
        {
          "data": {
            "text/plain": [
              "<AxesSubplot:ylabel='count'>"
            ]
          },
          "execution_count": 72,
          "metadata": {},
          "output_type": "execute_result"
        },
        {
          "data": {
            "image/png": "[encoded data removed]",
            "text/plain": [
              "<Figure size 432x288 with 1 Axes>"
            ]
          },
          "metadata": {
            "needs_background": "light"
          },
          "output_type": "display_data"
        }
      ],
      "source": [
        "x = np.random.binomial(n=6, p=0.6, size=10000)\n",
        "print(\"Mean: {}\\nVar: {}\".format(x.mean(), x.var()))\n",
        "sns.histplot(x)\n",
        "plt.show()\n",
        "sns.countplot(x=x)"
      ]
    },
    {
      "cell_type": "code",
      "execution_count": null,
      "id": "f5494af8",
      "metadata": {
        "id": "f5494af8",
        "outputId": "3c7eb09a-2fc0-4de4-c549-33d3df74c508"
      },
      "outputs": [
        {
          "name": "stdout",
          "output_type": "stream",
          "text": [
            "Mean: 3.602\n",
            "Var: 1.4291960000000004\n"
          ]
        },
        {
          "data": {
            "image/png": "[encoded data removed]",
            "text/plain": [
              "<Figure size 432x288 with 1 Axes>"
            ]
          },
          "metadata": {
            "needs_background": "light"
          },
          "output_type": "display_data"
        },
        {
          "data": {
            "image/png": "[encoded data removed]",
            "text/plain": [
              "<Figure size 432x288 with 1 Axes>"
            ]
          },
          "metadata": {
            "needs_background": "light"
          },
          "output_type": "display_data"
        }
      ],
      "source": [
        "# size = 10000\n"
      ]
    },
    {
      "cell_type": "code",
      "execution_count": 77,
      "id": "89ca3754",
      "metadata": {},
      "outputs": [
        {
          "name": "stdout",
          "output_type": "stream",
          "text": [
            "P(0): 0.531441\n",
            "P(1): 0.35429399999999994\n",
            "P(2): 0.09841500000000003\n",
            "P(3): 0.014580000000000004\n",
            "P(4): 0.0012150000000000004\n",
            "P(5): 5.4000000000000005e-05\n",
            "P(6): 1.0000000000000004e-06\n",
            "Mean: 0.6000000000000001\n",
            "Var: 0.5400000000000001\n",
            "Mean: 0.54\n",
            "Var: 0.5684\n"
          ]
        },
        {
          "data": {
            "image/png": "[encoded data removed]",
            "text/plain": [
              "<Figure size 432x288 with 1 Axes>"
            ]
          },
          "metadata": {
            "needs_background": "light"
          },
          "output_type": "display_data"
        },
        {
          "data": {
            "image/png": "[encoded data removed]",
            "text/plain": [
              "<Figure size 432x288 with 1 Axes>"
            ]
          },
          "metadata": {
            "needs_background": "light"
          },
          "output_type": "display_data"
        },
        {
          "name": "stdout",
          "output_type": "stream",
          "text": [
            "Mean: 0.583\n",
            "Var: 0.5211110000000001\n"
          ]
        },
        {
          "data": {
            "image/png": "[encoded data removed]",
            "text/plain": [
              "<Figure size 432x288 with 1 Axes>"
            ]
          },
          "metadata": {
            "needs_background": "light"
          },
          "output_type": "display_data"
        },
        {
          "data": {
            "image/png": "[encoded data removed]",
            "text/plain": [
              "<Figure size 432x288 with 1 Axes>"
            ]
          },
          "metadata": {
            "needs_background": "light"
          },
          "output_type": "display_data"
        },
        {
          "name": "stdout",
          "output_type": "stream",
          "text": [
            "Mean: 0.6057\n",
            "Var: 0.54742751\n"
          ]
        },
        {
          "data": {
            "image/png": "[encoded data removed]",
            "text/plain": [
              "<Figure size 432x288 with 1 Axes>"
            ]
          },
          "metadata": {
            "needs_background": "light"
          },
          "output_type": "display_data"
        },
        {
          "data": {
            "image/png": "[encoded data removed]",
            "text/plain": [
              "<Figure size 432x288 with 1 Axes>"
            ]
          },
          "metadata": {
            "needs_background": "light"
          },
          "output_type": "display_data"
        }
      ],
      "source": [
        "x=np.arange(0,7)\n",
        "x = stats.binom.pmf(k=x,n=6,p=0.1)\n",
        "for i, v in enumerate(x):\n",
        "    print(\"P({}): {}\".format(i,v))\n",
        "print(\"Mean: {}\\nVar: {}\".format(stats.binom.stats(n=6,p=0.1)[0], stats.binom.stats(n=6,p=0.1)[1]))\n",
        "\n",
        "for size in [50,1000,10000]:\n",
        "    x = np.random.binomial(n=6, p=0.1, size=size)\n",
        "    print(\"Mean: {}\\nVar: {}\".format(x.mean(), x.var()))\n",
        "    sns.countplot(x=x)\n",
        "    plt.show()\n",
        "    sns.histplot(x)\n",
        "    plt.show()\n"
      ]
    },
    {
      "cell_type": "code",
      "execution_count": null,
      "id": "90af6796",
      "metadata": {
        "id": "90af6796",
        "outputId": "30d43ac8-9020-4b15-cd86-169d2eeea28c",
        "scrolled": false
      },
      "outputs": [
        {
          "name": "stdout",
          "output_type": "stream",
          "text": [
            "P(0): 0.531441\n",
            "P(1): 0.35429399999999994\n",
            "P(2): 0.09841500000000003\n",
            "P(3): 0.014580000000000004\n",
            "P(4): 0.0012150000000000004\n",
            "P(5): 5.4000000000000005e-05\n",
            "P(6): 1.0000000000000004e-06\n",
            "Mean: 0.6000000000000001\n",
            "Var.: 0.5400000000000001\n"
          ]
        },
        {
          "data": {
            "image/png": "[encoded data removed]",
            "text/plain": [
              "<Figure size 432x288 with 1 Axes>"
            ]
          },
          "metadata": {
            "needs_background": "light"
          },
          "output_type": "display_data"
        },
        {
          "name": "stdout",
          "output_type": "stream",
          "text": [
            "size = 50\n",
            "Mean: 0.74\n",
            "Var: 0.6324\n"
          ]
        },
        {
          "data": {
            "image/png": "[encoded data removed]",
            "text/plain": [
              "<Figure size 432x288 with 1 Axes>"
            ]
          },
          "metadata": {
            "needs_background": "light"
          },
          "output_type": "display_data"
        },
        {
          "data": {
            "image/png": "[encoded data removed]",
            "text/plain": [
              "<Figure size 432x288 with 1 Axes>"
            ]
          },
          "metadata": {
            "needs_background": "light"
          },
          "output_type": "display_data"
        },
        {
          "name": "stdout",
          "output_type": "stream",
          "text": [
            "size = 1000\n",
            "Mean: 0.607\n",
            "Var: 0.5865509999999999\n"
          ]
        },
        {
          "data": {
            "image/png": "[encoded data removed]",
            "text/plain": [
              "<Figure size 432x288 with 1 Axes>"
            ]
          },
          "metadata": {
            "needs_background": "light"
          },
          "output_type": "display_data"
        },
        {
          "data": {
            "image/png": "[encoded data removed]",
            "text/plain": [
              "<Figure size 432x288 with 1 Axes>"
            ]
          },
          "metadata": {
            "needs_background": "light"
          },
          "output_type": "display_data"
        },
        {
          "name": "stdout",
          "output_type": "stream",
          "text": [
            "size = 10000\n",
            "Mean: 0.6059\n",
            "Var: 0.54358519\n"
          ]
        },
        {
          "data": {
            "image/png": "[encoded data removed]",
            "text/plain": [
              "<Figure size 432x288 with 1 Axes>"
            ]
          },
          "metadata": {
            "needs_background": "light"
          },
          "output_type": "display_data"
        },
        {
          "data": {
            "image/png": "[encoded data removed]",
            "text/plain": [
              "<Figure size 432x288 with 1 Axes>"
            ]
          },
          "metadata": {
            "needs_background": "light"
          },
          "output_type": "display_data"
        }
      ],
      "source": [
        "# p=0.1\n",
        "\n"
      ]
    },
    {
      "cell_type": "code",
      "execution_count": 83,
      "id": "121d08cb",
      "metadata": {},
      "outputs": [
        {
          "name": "stdout",
          "output_type": "stream",
          "text": [
            "Mean: 600.0\n",
            "Var: 240.0\n",
            "size: 50\n",
            "Mean: 603.32\n",
            "Var: 226.41760000000002\n"
          ]
        },
        {
          "data": {
            "image/png": "[encoded data removed]",
            "text/plain": [
              "<Figure size 432x288 with 1 Axes>"
            ]
          },
          "metadata": {
            "needs_background": "light"
          },
          "output_type": "display_data"
        },
        {
          "data": {
            "image/png": "[encoded data removed]",
            "text/plain": [
              "<Figure size 432x288 with 1 Axes>"
            ]
          },
          "metadata": {
            "needs_background": "light"
          },
          "output_type": "display_data"
        },
        {
          "name": "stdout",
          "output_type": "stream",
          "text": [
            "size: 1000\n",
            "Mean: 600.431\n",
            "Var: 247.049239\n"
          ]
        },
        {
          "data": {
            "image/png": "[encoded data removed]",
            "text/plain": [
              "<Figure size 432x288 with 1 Axes>"
            ]
          },
          "metadata": {
            "needs_background": "light"
          },
          "output_type": "display_data"
        },
        {
          "data": {
            "image/png": "[encoded data removed]",
            "text/plain": [
              "<Figure size 432x288 with 1 Axes>"
            ]
          },
          "metadata": {
            "needs_background": "light"
          },
          "output_type": "display_data"
        },
        {
          "name": "stdout",
          "output_type": "stream",
          "text": [
            "size: 10000\n",
            "Mean: 599.9215\n",
            "Var: 248.64313775\n"
          ]
        },
        {
          "data": {
            "image/png": "[encoded data removed]",
            "text/plain": [
              "<Figure size 432x288 with 1 Axes>"
            ]
          },
          "metadata": {
            "needs_background": "light"
          },
          "output_type": "display_data"
        },
        {
          "data": {
            "image/png": "[encoded data removed]",
            "text/plain": [
              "<Figure size 432x288 with 1 Axes>"
            ]
          },
          "metadata": {
            "needs_background": "light"
          },
          "output_type": "display_data"
        }
      ],
      "source": [
        "print(\"Mean: {}\\nVar: {}\".format(stats.binom.stats(n=1000,p=0.6)[0], stats.binom.stats(n=1000,p=0.6)[1]))\n",
        "\n",
        "for size in [50,1000,10000]:\n",
        "    x = np.random.binomial(n=1000, p=0.6, size=size)\n",
        "    print(\"size: {}\\nMean: {}\\nVar: {}\".format(size, x.mean(), x.var()))\n",
        "    sns.countplot(x=x)\n",
        "    plt.show()\n",
        "    sns.histplot(x, stat='proportion')\n",
        "    plt.show()\n"
      ]
    },
    {
      "cell_type": "code",
      "execution_count": null,
      "id": "3f105334",
      "metadata": {
        "id": "3f105334",
        "outputId": "02788c52-d10d-4ab6-bd4d-ae2e02ee0543",
        "scrolled": false
      },
      "outputs": [
        {
          "name": "stdout",
          "output_type": "stream",
          "text": [
            "Mean: 600.0\n",
            "Var.: 240.0\n"
          ]
        },
        {
          "data": {
            "image/png": "[encoded data removed]",
            "text/plain": [
              "<Figure size 432x288 with 1 Axes>"
            ]
          },
          "metadata": {
            "needs_background": "light"
          },
          "output_type": "display_data"
        },
        {
          "name": "stdout",
          "output_type": "stream",
          "text": [
            "size = 50\n",
            "Mean: 602.46\n",
            "Var: 254.28840000000002\n"
          ]
        },
        {
          "data": {
            "image/png": "[encoded data removed]",
            "text/plain": [
              "<Figure size 432x288 with 1 Axes>"
            ]
          },
          "metadata": {
            "needs_background": "light"
          },
          "output_type": "display_data"
        },
        {
          "data": {
            "image/png": "[encoded data removed]",
            "text/plain": [
              "<Figure size 432x288 with 1 Axes>"
            ]
          },
          "metadata": {
            "needs_background": "light"
          },
          "output_type": "display_data"
        },
        {
          "name": "stdout",
          "output_type": "stream",
          "text": [
            "size = 1000\n",
            "Mean: 600.036\n",
            "Var: 238.66670399999998\n"
          ]
        },
        {
          "data": {
            "image/png": "[encoded data removed]",
            "text/plain": [
              "<Figure size 432x288 with 1 Axes>"
            ]
          },
          "metadata": {
            "needs_background": "light"
          },
          "output_type": "display_data"
        },
        {
          "data": {
            "image/png": "[encoded data removed]",
            "text/plain": [
              "<Figure size 432x288 with 1 Axes>"
            ]
          },
          "metadata": {
            "needs_background": "light"
          },
          "output_type": "display_data"
        },
        {
          "name": "stdout",
          "output_type": "stream",
          "text": [
            "size = 10000\n",
            "Mean: 599.9445\n",
            "Var: 246.18121974999997\n"
          ]
        },
        {
          "data": {
            "image/png": "[encoded data removed]",
            "text/plain": [
              "<Figure size 432x288 with 1 Axes>"
            ]
          },
          "metadata": {
            "needs_background": "light"
          },
          "output_type": "display_data"
        },
        {
          "data": {
            "image/png": "[encoded data removed]",
            "text/plain": [
              "<Figure size 432x288 with 1 Axes>"
            ]
          },
          "metadata": {
            "needs_background": "light"
          },
          "output_type": "display_data"
        }
      ],
      "source": [
        "# p=0.6\n",
        "\n"
      ]
    },
    {
      "cell_type": "markdown",
      "id": "c3cfc42c",
      "metadata": {
        "id": "c3cfc42c"
      },
      "source": [
        "## Poisson"
      ]
    },
    {
      "cell_type": "markdown",
      "id": "84da7f0f",
      "metadata": {
        "id": "84da7f0f"
      },
      "source": [
        "- One of the first applications of the Poisson distribution was by statistician Ladislaus Bortkiewicz. In the late 1800s, he investigated accidental deaths by horse kick of soldiers in the Prussian army. He analyzed 20 years of data for 10 army corps, equivalent to 200 years of observations of one corps.\n",
        "- He found that a <b>mean of 0.61</b> soldiers per corps died from horse kicks each year.\n",
        "- Generate a data equivallent to this problem and plot a histogram for the generated data. (You can use <b>numpy.random.poisson()</b>)\n",
        "- Confirm that you have the same mean.\n",
        "- What is the probability of death of 0,1,2,3,4,5,... up to 20 soldiers per year. (You can use <b>scipy.stats.poisson.pmf</b>)\n",
        "- Use the population parameter (lambda) to plot this probability distribution. Calculate mean and varance. (You can use <b>scipy.stats.poisson.pmf</b> and <b>scipy.stats.poisson.stats</b>)\n",
        "- Repeat with mean of 15. <b>(Write down what did you notice)</b>."
      ]
    },
    {
      "cell_type": "code",
      "execution_count": 85,
      "id": "74c24aa7",
      "metadata": {
        "id": "74c24aa7"
      },
      "outputs": [],
      "source": [
        "lambda_ = 0.61"
      ]
    },
    {
      "cell_type": "code",
      "execution_count": 98,
      "id": "569ffce5",
      "metadata": {
        "id": "569ffce5"
      },
      "outputs": [],
      "source": [
        "x = np.random.poisson(lambda_,size=100000)"
      ]
    },
    {
      "cell_type": "code",
      "execution_count": 99,
      "id": "526899fb",
      "metadata": {},
      "outputs": [
        {
          "name": "stdout",
          "output_type": "stream",
          "text": [
            "Mean :0.61049\n"
          ]
        },
        {
          "data": {
            "text/plain": [
              "<AxesSubplot:ylabel='Probability'>"
            ]
          },
          "execution_count": 99,
          "metadata": {},
          "output_type": "execute_result"
        },
        {
          "data": {
            "image/png": "[encoded data removed]",
            "text/plain": [
              "<Figure size 432x288 with 1 Axes>"
            ]
          },
          "metadata": {
            "needs_background": "light"
          },
          "output_type": "display_data"
        }
      ],
      "source": [
        "print(\"Mean :\" + str(x.mean()))\n",
        "sns.histplot(x,stat='probability')"
      ]
    },
    {
      "cell_type": "code",
      "execution_count": null,
      "id": "1ca83f74",
      "metadata": {
        "id": "1ca83f74",
        "outputId": "0148dfe9-7150-486e-aba4-b36526ca5dd0"
      },
      "outputs": [
        {
          "name": "stdout",
          "output_type": "stream",
          "text": [
            "Mean:  0.6101369863013698\n"
          ]
        },
        {
          "data": {
            "image/png": "[encoded data removed]",
            "text/plain": [
              "<Figure size 720x504 with 1 Axes>"
            ]
          },
          "metadata": {
            "needs_background": "light"
          },
          "output_type": "display_data"
        }
      ],
      "source": []
    },
    {
      "cell_type": "code",
      "execution_count": 107,
      "id": "45d9753c",
      "metadata": {},
      "outputs": [
        {
          "name": "stdout",
          "output_type": "stream",
          "text": [
            "0 soliders per year: 0.5433508690744998\n",
            "1 soliders per year: 0.3314440301354449\n",
            "2 soliders per year: 0.10109042919131071\n",
            "3 soliders per year: 0.020555053935566506\n",
            "4 soliders per year: 0.0031346457251738907\n",
            "5 soliders per year: 0.00038242677847121485\n",
            "6 soliders per year: 3.8880055811240185e-05\n",
            "7 soliders per year: 3.388119149265217e-06\n",
            "8 soliders per year: 2.5834408513147245e-07\n",
            "9 soliders per year: 1.7509987992244274e-08\n",
            "10 soliders per year: 1.0681092675269e-09\n",
            "11 soliders per year: 5.923151392649165e-11\n",
            "12 soliders per year: 3.010935291263334e-12\n",
            "13 soliders per year: 1.4128234828235658e-13\n",
            "14 soliders per year: 6.1558737465883514e-15\n",
            "15 soliders per year: 2.50338865694593e-16\n",
            "16 soliders per year: 9.54416925460636e-18\n",
            "17 soliders per year: 3.4246724972411223e-19\n",
            "18 soliders per year: 1.1605834573983761e-20\n",
            "19 soliders per year: 3.726083731647414e-22\n",
            "20 soliders per year: 1.1364555381524626e-23\n"
          ]
        }
      ],
      "source": [
        "for i, v in enumerate(stats.poisson.pmf(k=np.arange(0,21),mu=lambda_)):\n",
        "    print(\"{} soliders per year: {}\".format(i, v))"
      ]
    },
    {
      "cell_type": "code",
      "execution_count": null,
      "id": "e490e470",
      "metadata": {
        "id": "e490e470",
        "outputId": "eb3cce81-3c8f-459a-85e4-9e2ddad927d7"
      },
      "outputs": [
        {
          "name": "stdout",
          "output_type": "stream",
          "text": [
            "The probability of death of:\n",
            "0 soldiers per year: 0.5433508690744998\n",
            "1 soldiers per year: 0.3314440301354449\n",
            "2 soldiers per year: 0.10109042919131071\n",
            "3 soldiers per year: 0.020555053935566506\n",
            "4 soldiers per year: 0.0031346457251738907\n",
            "5 soldiers per year: 0.00038242677847121485\n",
            "6 soldiers per year: 3.8880055811240185e-05\n",
            "7 soldiers per year: 3.388119149265217e-06\n",
            "8 soldiers per year: 2.5834408513147245e-07\n",
            "9 soldiers per year: 1.7509987992244274e-08\n",
            "10 soldiers per year: 1.0681092675269e-09\n",
            "11 soldiers per year: 5.923151392649165e-11\n",
            "12 soldiers per year: 3.010935291263334e-12\n",
            "13 soldiers per year: 1.4128234828235658e-13\n",
            "14 soldiers per year: 6.1558737465883514e-15\n",
            "15 soldiers per year: 2.50338865694593e-16\n",
            "16 soldiers per year: 9.54416925460636e-18\n",
            "17 soldiers per year: 3.4246724972411223e-19\n",
            "18 soldiers per year: 1.1605834573983761e-20\n",
            "19 soldiers per year: 3.726083731647414e-22\n",
            "20 soldiers per year: 1.1364555381524626e-23\n"
          ]
        }
      ],
      "source": []
    },
    {
      "cell_type": "code",
      "execution_count": 118,
      "id": "aabb7d2b",
      "metadata": {},
      "outputs": [
        {
          "data": {
            "text/plain": [
              "<AxesSubplot:>"
            ]
          },
          "execution_count": 118,
          "metadata": {},
          "output_type": "execute_result"
        },
        {
          "data": {
            "image/png": "[encoded data removed]",
            "text/plain": [
              "<Figure size 432x288 with 1 Axes>"
            ]
          },
          "metadata": {
            "needs_background": "light"
          },
          "output_type": "display_data"
        }
      ],
      "source": [
        "sns.barplot(x=np.arange(0,6),y=stats.poisson.pmf(k=np.arange(0,6),mu=lambda_))"
      ]
    },
    {
      "cell_type": "code",
      "execution_count": 114,
      "id": "43572b40",
      "metadata": {},
      "outputs": [
        {
          "name": "stdout",
          "output_type": "stream",
          "text": [
            "Mean: 0.61049\n",
            "Var: 0.6094919598999998\n"
          ]
        }
      ],
      "source": [
        "print(\"Mean: {}\\nVar: {}\".format(x.mean(), x.var()))"
      ]
    },
    {
      "cell_type": "code",
      "execution_count": null,
      "id": "f9d940c9",
      "metadata": {
        "id": "f9d940c9",
        "outputId": "942c9840-f79b-4f7f-e724-7827848d843c"
      },
      "outputs": [
        {
          "name": "stdout",
          "output_type": "stream",
          "text": [
            "mean: 0.61\n",
            "var: 0.61\n"
          ]
        },
        {
          "data": {
            "image/png": "[encoded data removed]",
            "text/plain": [
              "<Figure size 720x504 with 1 Axes>"
            ]
          },
          "metadata": {
            "needs_background": "light"
          },
          "output_type": "display_data"
        }
      ],
      "source": []
    },
    {
      "cell_type": "code",
      "execution_count": 119,
      "id": "97b2f8a1",
      "metadata": {
        "id": "97b2f8a1"
      },
      "outputs": [],
      "source": [
        "lambda_ = 15"
      ]
    },
    {
      "cell_type": "code",
      "execution_count": 122,
      "id": "73bee69d",
      "metadata": {
        "id": "73bee69d"
      },
      "outputs": [
        {
          "name": "stdout",
          "output_type": "stream",
          "text": [
            "Mean :15.01693\n"
          ]
        },
        {
          "data": {
            "text/plain": [
              "<AxesSubplot:ylabel='Probability'>"
            ]
          },
          "execution_count": 122,
          "metadata": {},
          "output_type": "execute_result"
        },
        {
          "data": {
            "image/png": "[encoded data removed]",
            "text/plain": [
              "<Figure size 720x432 with 1 Axes>"
            ]
          },
          "metadata": {
            "needs_background": "light"
          },
          "output_type": "display_data"
        }
      ],
      "source": [
        "plt.figure(figsize=(10,6))\n",
        "x = np.random.poisson(lambda_,size=100000)\n",
        "print(\"Mean :\" + str(x.mean()))\n",
        "sns.histplot(x,stat='probability')"
      ]
    },
    {
      "cell_type": "code",
      "execution_count": null,
      "id": "50174df8",
      "metadata": {
        "id": "50174df8",
        "outputId": "9c9f8e91-8e91-490f-bff9-be3307f06652"
      },
      "outputs": [
        {
          "name": "stdout",
          "output_type": "stream",
          "text": [
            "Mean:  15.009534246575342\n"
          ]
        },
        {
          "data": {
            "image/png": "[encoded data removed]",
            "text/plain": [
              "<Figure size 720x504 with 1 Axes>"
            ]
          },
          "metadata": {
            "needs_background": "light"
          },
          "output_type": "display_data"
        }
      ],
      "source": []
    },
    {
      "cell_type": "code",
      "execution_count": 123,
      "id": "da0cc817",
      "metadata": {},
      "outputs": [
        {
          "name": "stdout",
          "output_type": "stream",
          "text": [
            "0 soliders per year: 3.059023205018258e-07\n",
            "1 soliders per year: 4.588534807527389e-06\n",
            "2 soliders per year: 3.4414011056455366e-05\n",
            "3 soliders per year: 0.00017207005528227702\n",
            "4 soliders per year: 0.000645262707308539\n",
            "5 soliders per year: 0.0019357881219256158\n",
            "6 soliders per year: 0.004839470304814035\n",
            "7 soliders per year: 0.010370293510315794\n",
            "8 soliders per year: 0.019444300331842114\n",
            "9 soliders per year: 0.03240716721973691\n",
            "10 soliders per year: 0.04861075082960534\n",
            "11 soliders per year: 0.06628738749491639\n",
            "12 soliders per year: 0.08285923436864541\n",
            "13 soliders per year: 0.09560680888689863\n",
            "14 soliders per year: 0.1024358666645339\n",
            "15 soliders per year: 0.1024358666645339\n",
            "16 soliders per year: 0.09603362499800054\n",
            "17 soliders per year: 0.08473555146882411\n",
            "18 soliders per year: 0.07061295955735367\n",
            "19 soliders per year: 0.055747073334752824\n",
            "20 soliders per year: 0.04181030500106466\n"
          ]
        }
      ],
      "source": [
        "for i, v in enumerate(stats.poisson.pmf(k=np.arange(0,21),mu=lambda_)):\n",
        "    print(\"{} soliders per year: {}\".format(i, v))"
      ]
    },
    {
      "cell_type": "code",
      "execution_count": null,
      "id": "7821df01",
      "metadata": {
        "id": "7821df01",
        "outputId": "ab22b501-4212-4dd9-8d73-23528310c216"
      },
      "outputs": [
        {
          "name": "stdout",
          "output_type": "stream",
          "text": [
            "The probability of death of:\n",
            "0 soldiers per year: 3.059023205018258e-07\n",
            "1 soldiers per year: 4.588534807527389e-06\n",
            "2 soldiers per year: 3.4414011056455366e-05\n",
            "3 soldiers per year: 0.00017207005528227702\n",
            "4 soldiers per year: 0.000645262707308539\n",
            "5 soldiers per year: 0.0019357881219256158\n",
            "6 soldiers per year: 0.004839470304814035\n",
            "7 soldiers per year: 0.010370293510315794\n",
            "8 soldiers per year: 0.019444300331842114\n",
            "9 soldiers per year: 0.03240716721973691\n",
            "10 soldiers per year: 0.04861075082960534\n",
            "11 soldiers per year: 0.06628738749491639\n",
            "12 soldiers per year: 0.08285923436864541\n",
            "13 soldiers per year: 0.09560680888689863\n",
            "14 soldiers per year: 0.1024358666645339\n",
            "15 soldiers per year: 0.1024358666645339\n",
            "16 soldiers per year: 0.09603362499800054\n",
            "17 soldiers per year: 0.08473555146882411\n",
            "18 soldiers per year: 0.07061295955735367\n",
            "19 soldiers per year: 0.055747073334752824\n",
            "20 soldiers per year: 0.04181030500106466\n"
          ]
        }
      ],
      "source": []
    },
    {
      "cell_type": "code",
      "execution_count": 129,
      "id": "2ab6e038",
      "metadata": {},
      "outputs": [
        {
          "name": "stdout",
          "output_type": "stream",
          "text": [
            "Mean : 15.00247\n",
            "Var: 14.961363899099998\n",
            "Mean : 15.0\n",
            "Var: 15.0\n"
          ]
        },
        {
          "data": {
            "image/png": "[encoded data removed]",
            "text/plain": [
              "<Figure size 720x432 with 1 Axes>"
            ]
          },
          "metadata": {
            "needs_background": "light"
          },
          "output_type": "display_data"
        }
      ],
      "source": [
        "plt.figure(figsize=(10,6))\n",
        "x = np.random.poisson(lambda_,size=100000)\n",
        "print(\"Mean : {}\\nVar: {}\".format(x.mean(), x.var()))\n",
        "sns.barplot(x=np.arange(0,30),y=stats.poisson.pmf(k=np.arange(0,30),mu=lambda_))\n",
        "print(\"Mean : {}\\nVar: {}\".format(stats.poisson.stats(mu=lambda_)[0],stats.poisson.stats(mu=lambda_)[1]))\n"
      ]
    },
    {
      "cell_type": "code",
      "execution_count": null,
      "id": "386e7de1",
      "metadata": {
        "id": "386e7de1",
        "outputId": "5ad8fe98-2662-4a1c-9ebb-50849ad221ff"
      },
      "outputs": [
        {
          "name": "stdout",
          "output_type": "stream",
          "text": [
            "mean: 15.0\n",
            "var: 15.0\n"
          ]
        },
        {
          "data": {
            "image/png": "[encoded data removed]",
            "text/plain": [
              "<Figure size 720x504 with 1 Axes>"
            ]
          },
          "metadata": {
            "needs_background": "light"
          },
          "output_type": "display_data"
        }
      ],
      "source": []
    },
    {
      "cell_type": "markdown",
      "id": "41e3847c",
      "metadata": {
        "id": "41e3847c"
      },
      "source": [
        "## Discrete Uniform Distribution\n",
        "- If you randomly approach a person and try to guess his/her birthday, the probability of his/her birthday falling exactly on the date you have guessed follows a uniform distribution.\n",
        "- Using <b>scipy.stats.randint()</b>:\n",
        "    - Find the mean and variance.\n",
        "    - Find the probability of selecting the 3rd day in March.\n",
        "- Repeat using <b>numpy.random.randint()</b>\n",
        "- In both cases, plot the <b>pmf</b>."
      ]
    },
    {
      "cell_type": "code",
      "execution_count": 137,
      "id": "8b0cc595",
      "metadata": {},
      "outputs": [
        {
          "name": "stdout",
          "output_type": "stream",
          "text": [
            "Mean : 182.0\n",
            "Var: 11102.0\n"
          ]
        },
        {
          "data": {
            "text/plain": [
              "<AxesSubplot:>"
            ]
          },
          "execution_count": 137,
          "metadata": {},
          "output_type": "execute_result"
        },
        {
          "data": {
            "image/png": "[encoded data removed]",
            "text/plain": [
              "<Figure size 432x288 with 1 Axes>"
            ]
          },
          "metadata": {
            "needs_background": "light"
          },
          "output_type": "display_data"
        }
      ],
      "source": [
        "mean, var = stats.randint.stats(0, 365)\n",
        "print(\"Mean : {}\\nVar: {}\".format(mean, var))\n",
        "sns.barplot(x=np.arange(0,366),y=stats.randint.pmf(k=np.arange(0,366),low=0,high=365))"
      ]
    },
    {
      "cell_type": "code",
      "execution_count": null,
      "id": "381c2ef9",
      "metadata": {
        "id": "381c2ef9",
        "outputId": "67efdcde-bd5d-48b7-8adf-80119a3795e3"
      },
      "outputs": [
        {
          "name": "stdout",
          "output_type": "stream",
          "text": [
            "mean: 183.0\n",
            "var: 11102.0\n"
          ]
        },
        {
          "data": {
            "text/plain": [
              "<AxesSubplot:title={'center':'a = 1 and b = 365'}>"
            ]
          },
          "execution_count": 31,
          "metadata": {},
          "output_type": "execute_result"
        },
        {
          "data": {
            "image/png": "[encoded data removed]",
            "text/plain": [
              "<Figure size 720x504 with 1 Axes>"
            ]
          },
          "metadata": {
            "needs_background": "light"
          },
          "output_type": "display_data"
        }
      ],
      "source": [
        "# Using Scipy\n",
        "\n"
      ]
    },
    {
      "cell_type": "code",
      "execution_count": 140,
      "id": "b6dc0733",
      "metadata": {},
      "outputs": [
        {
          "name": "stdout",
          "output_type": "stream",
          "text": [
            "probability is: 0.0027397260273972603\n"
          ]
        }
      ],
      "source": [
        "print(\"probability is: \" + str(stats.randint.pmf(k=3*30+3,low=0,high=365)))"
      ]
    },
    {
      "cell_type": "code",
      "execution_count": null,
      "id": "4068d3d7",
      "metadata": {
        "id": "4068d3d7",
        "outputId": "6aeed46c-00ae-4a3a-a952-2a56cc6c8f0a"
      },
      "outputs": [
        {
          "name": "stdout",
          "output_type": "stream",
          "text": [
            "probability of selecting the 3rd day in March: 0.0027397260273972603\n"
          ]
        }
      ],
      "source": []
    },
    {
      "cell_type": "code",
      "execution_count": 152,
      "id": "62467571",
      "metadata": {},
      "outputs": [
        {
          "name": "stdout",
          "output_type": "stream",
          "text": [
            "Mean : 181.4121\n",
            "Var: 11015.848473590002\n"
          ]
        },
        {
          "data": {
            "text/plain": [
              "<AxesSubplot:ylabel='Probability'>"
            ]
          },
          "execution_count": 152,
          "metadata": {},
          "output_type": "execute_result"
        },
        {
          "data": {
            "image/png": "[encoded data removed]",
            "text/plain": [
              "<Figure size 432x288 with 1 Axes>"
            ]
          },
          "metadata": {
            "needs_background": "light"
          },
          "output_type": "display_data"
        }
      ],
      "source": [
        "x = np.random.randint(low=0,high=365,size=10000)\n",
        "print(\"Mean : {}\\nVar: {}\".format(x.mean(), x.var()))\n",
        "sns.histplot(x,stat='probability')"
      ]
    },
    {
      "cell_type": "code",
      "execution_count": null,
      "id": "b888108c",
      "metadata": {
        "id": "b888108c",
        "outputId": "4592a555-92d1-403f-ec52-ad17f9e17980"
      },
      "outputs": [
        {
          "name": "stdout",
          "output_type": "stream",
          "text": [
            "mean: 184.403\n",
            "var: 11014.207591\n"
          ]
        },
        {
          "data": {
            "image/png": "[encoded data removed]",
            "text/plain": [
              "<Figure size 720x504 with 1 Axes>"
            ]
          },
          "metadata": {
            "needs_background": "light"
          },
          "output_type": "display_data"
        }
      ],
      "source": [
        "# Using Numpy\n"
      ]
    },
    {
      "cell_type": "code",
      "execution_count": 154,
      "id": "563b5616",
      "metadata": {},
      "outputs": [
        {
          "name": "stdout",
          "output_type": "stream",
          "text": [
            "probability is: 0.0026\n"
          ]
        }
      ],
      "source": [
        "print(\"probability is: \" + str(len(x[x==93])/len(x)))"
      ]
    },
    {
      "cell_type": "code",
      "execution_count": null,
      "id": "a97fd619",
      "metadata": {
        "id": "a97fd619",
        "outputId": "5178ce80-ca13-4f22-fa2d-7f5dbd8db706"
      },
      "outputs": [
        {
          "name": "stdout",
          "output_type": "stream",
          "text": [
            "probability of selecting the 3rd day in March: 0.0025\n"
          ]
        }
      ],
      "source": []
    },
    {
      "cell_type": "markdown",
      "id": "0f48cce6",
      "metadata": {
        "id": "0f48cce6"
      },
      "source": [
        "## Continuous  Uniform Distribution\n",
        "- The average weight gained by a person over the winter months is uniformly distributed and ranges from 0 to 30 lbs. \n",
        "- Using <b>scipy.stats.uniform()</b> and <b>numpy.random.uniform()</b>\n",
        "    - Find the probability of a person that he will gain between 10 and 15 lbs in the winter months.\n",
        "    - Plot the probability distribution in both cases.\n",
        "    - Calculate the mean and variance,"
      ]
    },
    {
      "cell_type": "code",
      "execution_count": 246,
      "id": "7caa681f",
      "metadata": {},
      "outputs": [
        {
          "name": "stdout",
          "output_type": "stream",
          "text": [
            "Mean: 15.0\n",
            "Var: 75.0\n"
          ]
        },
        {
          "data": {
            "text/plain": [
              "<matplotlib.lines.Line2D at 0x16f891ffe20>"
            ]
          },
          "execution_count": 246,
          "metadata": {},
          "output_type": "execute_result"
        },
        {
          "data": {
            "image/png": "[encoded data removed]",
            "text/plain": [
              "<Figure size 432x288 with 1 Axes>"
            ]
          },
          "metadata": {
            "needs_background": "light"
          },
          "output_type": "display_data"
        }
      ],
      "source": [
        "mean, var = stats.uniform.stats(loc=0,scale=30)\n",
        "print(\"Mean: {}\\nVar: {}\".format(mean, var))\n",
        "p = stats.uniform.pdf(x=1,loc=0,scale=30)\n",
        "plt.xlim([-1,31])\n",
        "plt.ylim([0,0.035])\n",
        "plt.axhline(xmin=0.0,xmax=30.0, y=p)\n",
        "plt.axvline(x=0)\n",
        "plt.axvline(x=30)\n"
      ]
    },
    {
      "cell_type": "code",
      "execution_count": null,
      "id": "40bebc69",
      "metadata": {
        "id": "40bebc69",
        "outputId": "cd888a58-f2c0-4374-c549-65d9109e11f5"
      },
      "outputs": [
        {
          "name": "stdout",
          "output_type": "stream",
          "text": [
            "mean: 15.0\n",
            "var: 75.0\n"
          ]
        },
        {
          "data": {
            "text/plain": [
              "[<matplotlib.lines.Line2D at 0x2b86a1eb910>]"
            ]
          },
          "execution_count": 3,
          "metadata": {},
          "output_type": "execute_result"
        },
        {
          "data": {
            "image/png": "[encoded data removed]",
            "text/plain": [
              "<Figure size 720x504 with 1 Axes>"
            ]
          },
          "metadata": {
            "needs_background": "light"
          },
          "output_type": "display_data"
        }
      ],
      "source": [
        "# In the standard form, the distribution is uniform on [0, 1]. \n",
        "# Using the parameters loc and scale, one obtains the uniform distribution on [loc, loc + scale]."
      ]
    },
    {
      "cell_type": "code",
      "execution_count": 159,
      "metadata": {},
      "outputs": [
        {
          "name": "stdout",
          "output_type": "stream",
          "text": [
            "probability is: 0.16666666666666669\n"
          ]
        }
      ],
      "source": [
        "print(\"probability is: {}\".format(stats.uniform.cdf(15,0,30) - stats.uniform.cdf(10,0,30)))"
      ]
    },
    {
      "cell_type": "code",
      "execution_count": null,
      "id": "317d3709",
      "metadata": {
        "id": "317d3709",
        "outputId": "e9d40f54-7acf-4e6b-f77b-13b6a3160e81"
      },
      "outputs": [
        {
          "name": "stdout",
          "output_type": "stream",
          "text": [
            "Probability of a person that he will gain between 10 and 15 lbs in the winter months:\n",
            " 0.16666666666666669\n"
          ]
        }
      ],
      "source": []
    },
    {
      "cell_type": "code",
      "execution_count": 201,
      "id": "37c3336d",
      "metadata": {},
      "outputs": [
        {
          "name": "stdout",
          "output_type": "stream",
          "text": [
            "Mean: 15.442026005744967\n",
            "Var: 75.18271645793443\n"
          ]
        },
        {
          "data": {
            "text/plain": [
              "<AxesSubplot:ylabel='Count'>"
            ]
          },
          "execution_count": 201,
          "metadata": {},
          "output_type": "execute_result"
        },
        {
          "data": {
            "image/png": "[encoded data removed]",
            "text/plain": [
              "<Figure size 432x288 with 1 Axes>"
            ]
          },
          "metadata": {
            "needs_background": "light"
          },
          "output_type": "display_data"
        }
      ],
      "source": [
        "x = np.random.uniform(low=0,high=30,size=1000)\n",
        "print(\"Mean: {}\\nVar: {}\".format(x.mean(), x.var()))\n",
        "sns.histplot(x)"
      ]
    },
    {
      "cell_type": "code",
      "execution_count": 202,
      "id": "b8e56a88",
      "metadata": {
        "id": "b8e56a88",
        "outputId": "50dfa799-6d2f-474b-f98b-3cdcddb42536"
      },
      "outputs": [
        {
          "name": "stdout",
          "output_type": "stream",
          "text": [
            "probability is: 0.172\n"
          ]
        }
      ],
      "source": [
        "print(\"probability is: {}\".format(len(x[(x>10) & (x< 15)])/len(x)))"
      ]
    },
    {
      "cell_type": "code",
      "execution_count": null,
      "id": "c73d6bd1",
      "metadata": {
        "id": "c73d6bd1",
        "outputId": "2c29df61-9cfb-4aa7-9188-99d1fbb7d9c9"
      },
      "outputs": [
        {
          "name": "stdout",
          "output_type": "stream",
          "text": [
            "Probability of a person that he will gain between 10 and 15 lbs in the winter months:\n",
            " 0.151\n"
          ]
        }
      ],
      "source": []
    },
    {
      "cell_type": "markdown",
      "id": "669b9f08",
      "metadata": {
        "id": "669b9f08"
      },
      "source": [
        "## Exponential Distribution\n",
        "- The number of miles that a particular car can run before its battery wears out is exponentially distributed with an average of 10,000 miles. The owner of the car needs to take a 5000-mile trip. \n",
        "- Using <b>scipy.stats.expon()</b> and <b>numpy.random.exponential()</b>\n",
        "    - What is the probability that he will be able to complete the trip without having to replace the car battery?\n",
        "    - Plot the probability distribution in both cases.\n",
        "    - Calculate the mean and variance."
      ]
    },
    {
      "cell_type": "code",
      "execution_count": 244,
      "id": "62bf6387",
      "metadata": {},
      "outputs": [
        {
          "name": "stdout",
          "output_type": "stream",
          "text": [
            "Mean: 10000.0\n",
            "Var: 100000000.0\n"
          ]
        },
        {
          "data": {
            "text/plain": [
              "[<matplotlib.lines.Line2D at 0x16f88e6f8e0>]"
            ]
          },
          "execution_count": 244,
          "metadata": {},
          "output_type": "execute_result"
        },
        {
          "data": {
            "image/png": "[encoded data removed]",
            "text/plain": [
              "<Figure size 432x288 with 1 Axes>"
            ]
          },
          "metadata": {
            "needs_background": "light"
          },
          "output_type": "display_data"
        }
      ],
      "source": [
        "mean, var = stats.expon.stats(loc=0,scale=10000)\n",
        "print(\"Mean: {}\\nVar: {}\".format(mean, var))\n",
        "x = stats.expon.pdf(x=np.arange(0,100000),loc=0,scale=10000)\n",
        "plt.plot(x)"
      ]
    },
    {
      "cell_type": "code",
      "execution_count": null,
      "id": "52c2a682",
      "metadata": {
        "id": "52c2a682",
        "outputId": "a07d3f5b-eae8-46c4-bf41-8a1a884de011"
      },
      "outputs": [
        {
          "name": "stdout",
          "output_type": "stream",
          "text": [
            "mean: 10000.0\n",
            "var: 100000000.0\n"
          ]
        },
        {
          "data": {
            "text/plain": [
              "[<matplotlib.lines.Line2D at 0x145e115adf0>]"
            ]
          },
          "execution_count": 39,
          "metadata": {},
          "output_type": "execute_result"
        },
        {
          "data": {
            "image/png": "[encoded data removed]",
            "text/plain": [
              "<Figure size 720x504 with 1 Axes>"
            ]
          },
          "metadata": {
            "needs_background": "light"
          },
          "output_type": "display_data"
        }
      ],
      "source": []
    },
    {
      "cell_type": "code",
      "execution_count": 245,
      "id": "2f6f8525",
      "metadata": {},
      "outputs": [
        {
          "data": {
            "text/plain": [
              "0.6065306597126334"
            ]
          },
          "execution_count": 245,
          "metadata": {},
          "output_type": "execute_result"
        }
      ],
      "source": [
        "1 - stats.expon.cdf(x=5000,loc=0,scale=10000)"
      ]
    },
    {
      "cell_type": "code",
      "execution_count": null,
      "id": "f5d474ee",
      "metadata": {
        "id": "f5d474ee",
        "outputId": "c68c87d4-f339-4b32-8d36-6b101db6ea52"
      },
      "outputs": [
        {
          "name": "stdout",
          "output_type": "stream",
          "text": [
            "The probability that he will be able to complete the trip without having to replace the car battery:\n",
            " 0.6065306597126334\n"
          ]
        }
      ],
      "source": []
    },
    {
      "cell_type": "code",
      "execution_count": 238,
      "id": "73bb0a80",
      "metadata": {},
      "outputs": [
        {
          "name": "stdout",
          "output_type": "stream",
          "text": [
            "Mean: 9992.25938670152\n",
            "Var: 99486501.52876253\n"
          ]
        },
        {
          "data": {
            "text/plain": [
              "<AxesSubplot:ylabel='Count'>"
            ]
          },
          "execution_count": 238,
          "metadata": {},
          "output_type": "execute_result"
        },
        {
          "data": {
            "image/png": "[encoded data removed]",
            "text/plain": [
              "<Figure size 576x576 with 1 Axes>"
            ]
          },
          "metadata": {
            "needs_background": "light"
          },
          "output_type": "display_data"
        }
      ],
      "source": [
        "plt.figure(figsize=(8,8))\n",
        "x = np.random.exponential(scale=10000,size=1000000)\n",
        "print(\"Mean: {}\\nVar: {}\".format(x.mean(), x.var()))\n",
        "sns.histplot(x, kde=True)"
      ]
    },
    {
      "cell_type": "code",
      "execution_count": null,
      "id": "2dc36051",
      "metadata": {
        "id": "2dc36051",
        "outputId": "3c09db60-314e-4639-cf26-bc0509f9b121"
      },
      "outputs": [
        {
          "name": "stdout",
          "output_type": "stream",
          "text": [
            "mean: 9919.270774977362\n",
            "var: 101500714.31326973\n"
          ]
        },
        {
          "data": {
            "image/png": "[encoded data removed]",
            "text/plain": [
              "<Figure size 720x504 with 1 Axes>"
            ]
          },
          "metadata": {
            "needs_background": "light"
          },
          "output_type": "display_data"
        }
      ],
      "source": []
    },
    {
      "cell_type": "code",
      "execution_count": 242,
      "id": "f0b0324d",
      "metadata": {},
      "outputs": [
        {
          "data": {
            "text/plain": [
              "0.606389"
            ]
          },
          "execution_count": 242,
          "metadata": {},
          "output_type": "execute_result"
        }
      ],
      "source": [
        "len(x[x>5000])/len(x)"
      ]
    },
    {
      "cell_type": "code",
      "execution_count": null,
      "id": "ae1da9f7",
      "metadata": {
        "id": "ae1da9f7",
        "outputId": "b2843e18-8c94-49c4-ce1b-d2c289b29d2e"
      },
      "outputs": [
        {
          "name": "stdout",
          "output_type": "stream",
          "text": [
            "The probability that he will be able to complete the trip without having to replace the car battery:\n",
            " 0.6047\n"
          ]
        }
      ],
      "source": []
    },
    {
      "cell_type": "markdown",
      "id": "2130b518",
      "metadata": {
        "id": "2130b518"
      },
      "source": [
        "## Normal (Gaussian) Distribution\n",
        "- Most graduate schools of business require applicants for admission to take the Graduate Management Admission Council’s GMAT examination. \n",
        "- Scores on the GMAT are roughly normally distributed with a mean of <b>527</b> and a standard deviation of <b>112</b>. \n",
        "- Plot the <b>pdf</b> and <b>cdf</b> with the given parameters. <b>(you can use scipy.stats.norm.cdf() and scipy.stats.norm.cdf()) </b>\n",
        "- Use <b>numpy.random.normal()</b> to Generate random sample with the given parameters. <b>(Use sample size of your choice)</b>\n",
        "- Compute <b>mean</b> and <b>variance</b> for the generated data and compare with the original parameters.\n",
        "- Plot the <b>distribution</b> for the generated data. \n",
        "\n",
        "#### Answer the following question:\n",
        "- What is the probability of an individual scoring above 500 on the GMAT? \n",
        "##### You must answer the above questions with all of the following methods:\n",
        "1. Using <b>scipy.stats.norm.cdf()</b> with the distribution parameters.\n",
        "2. Convert the the given score <b>(e.g., 500)</b> to a <b>z-score</b> and find the answer from the <b>z-table</b>.\n",
        "3. Use the <b>z-score</b> and use scipy.stats.norm.cdf() to obtain the result.\n",
        "4. Use the generated data sample.\n",
        "5. Convert the generated data sample to stabdard normal distribution (once using <b>sklearn.preprocessing.StandardScaler()</b> and once using <b>scipy.stats.zscore()</b>) then calculate the result.\n",
        "\n",
        "##### Use any way you want to answer the following question:\n",
        "- How high must an individual score on the GMAT in order to score in the highest 5%? (<b>scipy.stats.norm.ppf is useful in this case</b>)"
      ]
    },
    {
      "cell_type": "code",
      "execution_count": 247,
      "id": "a931d5fe",
      "metadata": {
        "id": "a931d5fe"
      },
      "outputs": [],
      "source": [
        "mean = 527\n",
        "std = 112"
      ]
    },
    {
      "cell_type": "code",
      "execution_count": 281,
      "id": "6c5d963e",
      "metadata": {
        "id": "6c5d963e"
      },
      "outputs": [
        {
          "name": "stdout",
          "output_type": "stream",
          "text": [
            "Mean: 527.0\n",
            "Var: 12544.0\n"
          ]
        },
        {
          "data": {
            "image/png": "[encoded data removed]",
            "text/plain": [
              "<Figure size 432x288 with 1 Axes>"
            ]
          },
          "metadata": {
            "needs_background": "light"
          },
          "output_type": "display_data"
        },
        {
          "data": {
            "text/plain": [
              "[<matplotlib.lines.Line2D at 0x16f8a4fd3a0>]"
            ]
          },
          "execution_count": 281,
          "metadata": {},
          "output_type": "execute_result"
        },
        {
          "data": {
            "image/png": "[encoded data removed]",
            "text/plain": [
              "<Figure size 432x288 with 1 Axes>"
            ]
          },
          "metadata": {
            "needs_background": "light"
          },
          "output_type": "display_data"
        }
      ],
      "source": [
        "print(\"Mean: {}\\nVar: {}\".format(stats.norm.stats(mean,std)[0], stats.norm.stats(mean,std)[1]))\n",
        "x = stats.norm.pdf(x=np.arange(0,1001),loc=mean,scale=std)\n",
        "plt.plot(x)\n",
        "plt.show()\n",
        "x = stats.norm.cdf(x=np.arange(0,1001),loc=mean,scale=std)\n",
        "plt.plot(x)\n"
      ]
    },
    {
      "cell_type": "code",
      "execution_count": null,
      "id": "15d9a42e",
      "metadata": {
        "id": "15d9a42e",
        "outputId": "232ccb49-2696-4268-a3e0-cd682ef50088"
      },
      "outputs": [
        {
          "name": "stdout",
          "output_type": "stream",
          "text": [
            "mean: 527.0\n",
            "var: 12544.0\n"
          ]
        },
        {
          "data": {
            "text/plain": [
              "[<matplotlib.lines.Line2D at 0x145df1f0dc0>]"
            ]
          },
          "execution_count": 45,
          "metadata": {},
          "output_type": "execute_result"
        },
        {
          "data": {
            "image/png": "[encoded data removed]",
            "text/plain": [
              "<Figure size 720x1008 with 2 Axes>"
            ]
          },
          "metadata": {
            "needs_background": "light"
          },
          "output_type": "display_data"
        }
      ],
      "source": []
    },
    {
      "cell_type": "code",
      "execution_count": 283,
      "id": "1cdf3076",
      "metadata": {},
      "outputs": [
        {
          "name": "stdout",
          "output_type": "stream",
          "text": [
            "Mean: 525.4308002546709\n",
            "Var: 12818.184041199613\n",
            " Std: 113.21741933642373\n"
          ]
        },
        {
          "data": {
            "text/plain": [
              "<AxesSubplot:ylabel='Count'>"
            ]
          },
          "execution_count": 283,
          "metadata": {},
          "output_type": "execute_result"
        },
        {
          "data": {
            "image/png": "[encoded data removed]",
            "text/plain": [
              "<Figure size 432x288 with 1 Axes>"
            ]
          },
          "metadata": {
            "needs_background": "light"
          },
          "output_type": "display_data"
        }
      ],
      "source": [
        "x = np.random.normal(loc=mean,scale=std,size=1000)\n",
        "print(\"Mean: {}\\nVar: {}\\n Std: {}\".format(x.mean(), x.var(), x.std()))\n",
        "sns.histplot(x,kde=True)"
      ]
    },
    {
      "cell_type": "code",
      "execution_count": null,
      "id": "de10d23b",
      "metadata": {
        "id": "de10d23b",
        "outputId": "3f736cea-00c0-48f5-98d4-85dbc36e01f2"
      },
      "outputs": [
        {
          "name": "stdout",
          "output_type": "stream",
          "text": [
            "mean: 528.6019195915244\n",
            "var: 12909.419867722378\n",
            "std: 113.61962800380213\n"
          ]
        },
        {
          "data": {
            "text/plain": [
              "<matplotlib.legend.Legend at 0x145df83ffd0>"
            ]
          },
          "execution_count": 46,
          "metadata": {},
          "output_type": "execute_result"
        },
        {
          "data": {
            "image/png": "[encoded data removed]",
            "text/plain": [
              "<Figure size 720x504 with 1 Axes>"
            ]
          },
          "metadata": {
            "needs_background": "light"
          },
          "output_type": "display_data"
        }
      ],
      "source": []
    },
    {
      "cell_type": "markdown",
      "id": "139f2ac3",
      "metadata": {
        "id": "139f2ac3"
      },
      "source": [
        "##### What is the probability of an individual scoring above 500 on the GMAT?"
      ]
    },
    {
      "cell_type": "code",
      "execution_count": 286,
      "id": "193f7f41",
      "metadata": {},
      "outputs": [
        {
          "name": "stdout",
          "output_type": "stream",
          "text": [
            "probability is: 0.5952501217429682\n"
          ]
        }
      ],
      "source": [
        "print(\"probability is: {}\".format(1 - stats.norm.cdf(x=500, loc=mean, scale=std)))"
      ]
    },
    {
      "cell_type": "code",
      "execution_count": null,
      "id": "333a956d",
      "metadata": {
        "id": "333a956d",
        "outputId": "5f4af2fd-347d-4c44-ab90-540197a9a496"
      },
      "outputs": [
        {
          "name": "stdout",
          "output_type": "stream",
          "text": [
            "Probability of an individual scoring above 500 on the GMAT:\n",
            "0.5952501217429682\n"
          ]
        }
      ],
      "source": [
        "# Using scipy.stats.norm.cdf()\n"
      ]
    },
    {
      "cell_type": "code",
      "execution_count": 294,
      "id": "84b6b2c1",
      "metadata": {},
      "outputs": [
        {
          "name": "stdout",
          "output_type": "stream",
          "text": [
            "Z-score: -0.24107142857142858\n"
          ]
        }
      ],
      "source": [
        "print(\"Z-score: {}\".format((500-mean)/std))"
      ]
    },
    {
      "cell_type": "code",
      "execution_count": null,
      "id": "c787f747",
      "metadata": {
        "id": "c787f747",
        "outputId": "526c88a0-e3d7-4284-81f6-e01e4796de2c"
      },
      "outputs": [
        {
          "name": "stdout",
          "output_type": "stream",
          "text": [
            "Z-score: -0.24107142857142858\n"
          ]
        }
      ],
      "source": []
    },
    {
      "cell_type": "code",
      "execution_count": 299,
      "id": "28a67934",
      "metadata": {},
      "outputs": [
        {
          "data": {
            "text/plain": [
              "0.5952501217429682"
            ]
          },
          "execution_count": 299,
          "metadata": {},
          "output_type": "execute_result"
        }
      ],
      "source": [
        "1-stats.norm.cdf(x=-0.24107142857142858)"
      ]
    },
    {
      "cell_type": "code",
      "execution_count": null,
      "id": "e15dacc4",
      "metadata": {
        "id": "e15dacc4",
        "outputId": "4ee5a74b-5c36-4b19-d1d0-3ce0f33b89a4"
      },
      "outputs": [
        {
          "data": {
            "text/plain": [
              "0.59483"
            ]
          },
          "execution_count": 49,
          "metadata": {},
          "output_type": "execute_result"
        }
      ],
      "source": [
        "# from z-table\n"
      ]
    },
    {
      "cell_type": "code",
      "execution_count": null,
      "id": "edcbfcb4",
      "metadata": {
        "id": "edcbfcb4",
        "outputId": "872fb5de-0281-4a21-c0eb-f4b6c0a4c223"
      },
      "outputs": [
        {
          "name": "stdout",
          "output_type": "stream",
          "text": [
            "Probability of an individual scoring above 500 on the GMAT:\n",
            "0.5952501217429682\n"
          ]
        }
      ],
      "source": [
        "# Use the z-score and use scipy.stats.norm.cdf() to obtain the result.\n"
      ]
    },
    {
      "cell_type": "code",
      "execution_count": 300,
      "id": "72e3b7c4",
      "metadata": {},
      "outputs": [
        {
          "data": {
            "text/plain": [
              "0.602"
            ]
          },
          "execution_count": 300,
          "metadata": {},
          "output_type": "execute_result"
        }
      ],
      "source": [
        "len(x[x>500])/len(x)"
      ]
    },
    {
      "cell_type": "code",
      "execution_count": null,
      "id": "b1449e0a",
      "metadata": {
        "id": "b1449e0a",
        "outputId": "c3268b18-3e54-4c36-9e2c-0bc119c9817f"
      },
      "outputs": [
        {
          "name": "stdout",
          "output_type": "stream",
          "text": [
            "Probability of an individual scoring above 500 on the GMAT:\n",
            "0.622\n"
          ]
        }
      ],
      "source": [
        "# Use the generated data sample."
      ]
    },
    {
      "cell_type": "code",
      "execution_count": 308,
      "id": "787fe8d4",
      "metadata": {},
      "outputs": [
        {
          "data": {
            "text/plain": [
              "0.606"
            ]
          },
          "execution_count": 308,
          "metadata": {},
          "output_type": "execute_result"
        }
      ],
      "source": [
        "v = stats.zscore(x)\n",
        "len(v[v>-0.24107142857142858])/len(v)"
      ]
    },
    {
      "cell_type": "code",
      "execution_count": null,
      "id": "2fd182a5",
      "metadata": {
        "id": "2fd182a5",
        "outputId": "90b722d2-c20a-4b0b-acc5-47fe26d5d004"
      },
      "outputs": [
        {
          "name": "stdout",
          "output_type": "stream",
          "text": [
            "Probability of an individual scoring above 500 on the GMAT:\n",
            "0.621\n"
          ]
        }
      ],
      "source": [
        "# Using scipy.stats.zscore()\n"
      ]
    },
    {
      "cell_type": "code",
      "execution_count": 305,
      "id": "eb5631b3",
      "metadata": {},
      "outputs": [
        {
          "data": {
            "text/plain": [
              "array([[-1.91839222e-01],\n",
              "       [-3.77378561e-01],\n",
              "       [ 3.05340766e-01],\n",
              "       [-9.32419274e-01],\n",
              "       [-5.13598385e-02],\n",
              "       [ 1.26331149e+00],\n",
              "       [ 1.18138816e+00],\n",
              "       [ 4.82894060e-01],\n",
              "       [ 8.44661934e-01],\n",
              "       [-1.07042805e+00],\n",
              "       [ 1.48671059e+00],\n",
              "       [ 9.47956869e-01],\n",
              "       [-3.91736481e-01],\n",
              "       [-2.24151691e-01],\n",
              "       [ 1.33954618e+00],\n",
              "       [ 1.08268183e+00],\n",
              "       [-6.70787207e-01],\n",
              "       [-1.86032455e+00],\n",
              "       [-1.11456931e+00],\n",
              "       [ 1.34468764e+00],\n",
              "       [-6.52358520e-01],\n",
              "       [-1.16599521e+00],\n",
              "       [-5.50299832e-01],\n",
              "       [-6.09552623e-01],\n",
              "       [ 3.59156758e-02],\n",
              "       [-1.42654213e+00],\n",
              "       [-5.66806145e-03],\n",
              "       [-1.00024172e+00],\n",
              "       [ 4.14324023e-01],\n",
              "       [-7.62747833e-01],\n",
              "       [-7.85984213e-01],\n",
              "       [ 4.71825889e-01],\n",
              "       [-2.41871308e-01],\n",
              "       [-1.10409832e+00],\n",
              "       [-1.89140488e+00],\n",
              "       [-2.26415596e-01],\n",
              "       [ 9.61269833e-02],\n",
              "       [ 1.30927871e+00],\n",
              "       [ 1.05582973e+00],\n",
              "       [ 5.06764006e-01],\n",
              "       [-2.25974062e-01],\n",
              "       [ 9.65914488e-02],\n",
              "       [-1.60088107e+00],\n",
              "       [-6.99063851e-01],\n",
              "       [ 1.03318839e+00],\n",
              "       [ 4.12503038e-01],\n",
              "       [ 5.26029753e-01],\n",
              "       [ 7.95754612e-01],\n",
              "       [-4.92080458e-01],\n",
              "       [-9.99731857e-01],\n",
              "       [ 1.40131662e+00],\n",
              "       [-1.96344618e-01],\n",
              "       [ 5.18266367e-02],\n",
              "       [-1.85722488e+00],\n",
              "       [ 1.85926950e-01],\n",
              "       [-2.23856835e-02],\n",
              "       [ 2.92108246e-01],\n",
              "       [-1.25489384e+00],\n",
              "       [-3.74128313e-01],\n",
              "       [-1.03066180e+00],\n",
              "       [ 1.00659474e+00],\n",
              "       [ 7.67357333e-01],\n",
              "       [-4.14794032e-02],\n",
              "       [-4.89021587e-01],\n",
              "       [-5.43342595e-02],\n",
              "       [-1.81014315e+00],\n",
              "       [ 8.88414587e-03],\n",
              "       [ 1.27510947e-01],\n",
              "       [ 1.79136735e-01],\n",
              "       [-1.95672540e+00],\n",
              "       [ 5.71107955e-01],\n",
              "       [ 6.84704380e-01],\n",
              "       [-2.11166384e+00],\n",
              "       [ 8.99414756e-01],\n",
              "       [-2.08881873e+00],\n",
              "       [ 7.65140545e-02],\n",
              "       [ 9.24057414e-01],\n",
              "       [ 4.62789073e-01],\n",
              "       [ 5.87752949e-01],\n",
              "       [-2.17972358e-01],\n",
              "       [ 1.76363006e+00],\n",
              "       [-8.36278687e-01],\n",
              "       [-2.61188250e-01],\n",
              "       [-8.21260157e-01],\n",
              "       [ 6.98653494e-01],\n",
              "       [ 8.42335908e-01],\n",
              "       [ 6.07000806e-01],\n",
              "       [ 2.30133949e+00],\n",
              "       [-1.08807292e+00],\n",
              "       [-2.48413656e-03],\n",
              "       [ 4.98657285e-01],\n",
              "       [ 7.43330864e-01],\n",
              "       [-1.11565020e+00],\n",
              "       [ 4.65183230e-01],\n",
              "       [-1.44307511e+00],\n",
              "       [ 1.12915409e+00],\n",
              "       [ 1.50416373e-01],\n",
              "       [-2.71229477e-01],\n",
              "       [ 1.20064558e+00],\n",
              "       [-1.82043113e+00],\n",
              "       [-1.32941191e+00],\n",
              "       [ 4.99901502e-01],\n",
              "       [ 9.61091409e-01],\n",
              "       [ 4.79310489e-01],\n",
              "       [ 3.28510188e-02],\n",
              "       [ 6.16428314e-02],\n",
              "       [ 5.63937249e-01],\n",
              "       [ 1.46876539e+00],\n",
              "       [-1.52178375e+00],\n",
              "       [ 1.46432723e+00],\n",
              "       [-5.18807220e-01],\n",
              "       [ 1.55613321e+00],\n",
              "       [-8.10018337e-01],\n",
              "       [-1.25848295e+00],\n",
              "       [-5.61273954e-01],\n",
              "       [-1.68005555e-01],\n",
              "       [-2.19855155e+00],\n",
              "       [-1.85536817e+00],\n",
              "       [-1.04065223e+00],\n",
              "       [-5.74614783e-02],\n",
              "       [-1.74254558e+00],\n",
              "       [ 6.04696254e-01],\n",
              "       [-2.10754675e-01],\n",
              "       [-6.81583363e-02],\n",
              "       [-7.56739810e-01],\n",
              "       [-1.32053536e+00],\n",
              "       [-4.97171276e-01],\n",
              "       [ 1.88168253e+00],\n",
              "       [ 1.11179105e-01],\n",
              "       [-3.23641305e-01],\n",
              "       [-1.11392428e+00],\n",
              "       [-6.79990779e-01],\n",
              "       [-1.49843401e+00],\n",
              "       [-1.22462762e+00],\n",
              "       [ 2.28240725e+00],\n",
              "       [ 8.30978422e-01],\n",
              "       [ 7.43194082e-01],\n",
              "       [ 2.33769303e+00],\n",
              "       [-2.76700925e-01],\n",
              "       [-6.73446830e-01],\n",
              "       [-1.27237210e-01],\n",
              "       [ 4.71974280e-01],\n",
              "       [-8.73892274e-01],\n",
              "       [-2.56232662e+00],\n",
              "       [-7.90844917e-01],\n",
              "       [-2.10689602e-01],\n",
              "       [-2.54077342e+00],\n",
              "       [ 6.19155847e-01],\n",
              "       [ 4.35967568e-01],\n",
              "       [-4.42110254e-01],\n",
              "       [-1.58515097e-01],\n",
              "       [-1.10144187e+00],\n",
              "       [ 6.48128730e-01],\n",
              "       [ 4.19464377e-01],\n",
              "       [ 7.68991837e-01],\n",
              "       [ 1.18746942e+00],\n",
              "       [ 2.09066580e-02],\n",
              "       [-4.60630280e-01],\n",
              "       [-2.05820868e-01],\n",
              "       [ 1.44180846e+00],\n",
              "       [-2.46377775e-02],\n",
              "       [-9.60398630e-01],\n",
              "       [-5.17113512e-01],\n",
              "       [ 1.56490687e-01],\n",
              "       [ 7.55525686e-01],\n",
              "       [-2.88854820e-02],\n",
              "       [ 6.17218494e-01],\n",
              "       [-1.70493394e-01],\n",
              "       [-1.01831653e-02],\n",
              "       [ 1.39633109e+00],\n",
              "       [-1.33124559e-01],\n",
              "       [ 2.30089203e+00],\n",
              "       [ 1.95914818e+00],\n",
              "       [ 5.28858423e-01],\n",
              "       [-5.33739950e-01],\n",
              "       [-1.05978613e+00],\n",
              "       [-6.47257140e-01],\n",
              "       [-5.47281184e-01],\n",
              "       [-3.25439416e-01],\n",
              "       [ 5.39415348e-01],\n",
              "       [ 6.51610668e-01],\n",
              "       [ 6.57791482e-01],\n",
              "       [-1.56835758e-01],\n",
              "       [-6.08257780e-01],\n",
              "       [ 5.78607133e-01],\n",
              "       [ 1.01589998e+00],\n",
              "       [ 1.47916469e+00],\n",
              "       [-4.13315426e-01],\n",
              "       [ 3.38596931e-01],\n",
              "       [ 1.30023107e+00],\n",
              "       [-1.41458071e+00],\n",
              "       [-7.59527290e-01],\n",
              "       [ 8.17210266e-01],\n",
              "       [-1.54055551e-01],\n",
              "       [-6.84003659e-01],\n",
              "       [ 1.97628334e-01],\n",
              "       [ 1.24822582e+00],\n",
              "       [-8.09504756e-01],\n",
              "       [-9.89943246e-01],\n",
              "       [ 2.64471538e-01],\n",
              "       [ 6.34150252e-01],\n",
              "       [ 9.89157535e-01],\n",
              "       [ 1.19302422e-01],\n",
              "       [-1.41447333e+00],\n",
              "       [ 4.58232636e-01],\n",
              "       [ 1.72580626e+00],\n",
              "       [-9.25664658e-01],\n",
              "       [-1.04693381e+00],\n",
              "       [-1.51444979e+00],\n",
              "       [-3.36835894e-01],\n",
              "       [-8.62499090e-01],\n",
              "       [ 4.85292974e-01],\n",
              "       [-9.93450088e-02],\n",
              "       [-6.47099750e-01],\n",
              "       [ 2.27420914e+00],\n",
              "       [-1.32887019e+00],\n",
              "       [-6.35678891e-01],\n",
              "       [ 1.00581410e-01],\n",
              "       [ 2.73454062e-01],\n",
              "       [-1.43771897e+00],\n",
              "       [-5.06725896e-01],\n",
              "       [ 1.77583622e+00],\n",
              "       [ 9.83385574e-01],\n",
              "       [-1.74817094e+00],\n",
              "       [ 4.47966232e-01],\n",
              "       [ 6.00251111e-02],\n",
              "       [-2.23822582e+00],\n",
              "       [-9.56665774e-01],\n",
              "       [ 1.60980122e+00],\n",
              "       [ 7.76287933e-01],\n",
              "       [-5.88803006e-01],\n",
              "       [-1.14360128e+00],\n",
              "       [-7.90553731e-01],\n",
              "       [-1.70478894e+00],\n",
              "       [-7.82687846e-01],\n",
              "       [-1.79710566e+00],\n",
              "       [-1.41186472e+00],\n",
              "       [ 1.31319108e+00],\n",
              "       [-1.29509087e+00],\n",
              "       [-2.27930684e+00],\n",
              "       [-5.32104764e-01],\n",
              "       [-1.81264701e+00],\n",
              "       [-1.01781531e+00],\n",
              "       [ 1.62641384e-01],\n",
              "       [-1.04452361e+00],\n",
              "       [-1.77934299e-01],\n",
              "       [ 7.90044458e-03],\n",
              "       [ 1.13336566e+00],\n",
              "       [ 4.08335148e-01],\n",
              "       [ 7.68199721e-03],\n",
              "       [ 3.85599568e-01],\n",
              "       [-8.83292785e-01],\n",
              "       [-3.90761160e-01],\n",
              "       [ 9.44611761e-01],\n",
              "       [ 3.67876009e-01],\n",
              "       [-2.27329088e+00],\n",
              "       [ 1.43239570e-01],\n",
              "       [ 1.39764237e+00],\n",
              "       [ 1.80176033e-01],\n",
              "       [ 4.70265949e-01],\n",
              "       [ 1.01356723e+00],\n",
              "       [ 5.93121957e-02],\n",
              "       [ 1.09141474e+00],\n",
              "       [ 7.38617676e-01],\n",
              "       [ 1.52298236e+00],\n",
              "       [ 1.03759499e+00],\n",
              "       [ 9.61329615e-01],\n",
              "       [-1.16339528e+00],\n",
              "       [ 4.69194801e-02],\n",
              "       [ 2.14471329e-01],\n",
              "       [ 1.03511974e+00],\n",
              "       [ 2.11755080e-01],\n",
              "       [-1.43495859e+00],\n",
              "       [-8.14774092e-01],\n",
              "       [ 6.68769250e-01],\n",
              "       [ 2.64264744e-01],\n",
              "       [-8.45213068e-01],\n",
              "       [-3.41954392e-02],\n",
              "       [-5.70749742e-01],\n",
              "       [-8.74016143e-01],\n",
              "       [ 1.52347825e+00],\n",
              "       [ 4.30330351e-01],\n",
              "       [-6.54961333e-01],\n",
              "       [-3.66143673e-01],\n",
              "       [ 1.04019966e+00],\n",
              "       [-4.53928423e-01],\n",
              "       [-8.74716010e-01],\n",
              "       [-1.13916717e+00],\n",
              "       [ 6.43972963e-01],\n",
              "       [ 1.79278699e+00],\n",
              "       [ 1.11798578e+00],\n",
              "       [ 5.61427343e-01],\n",
              "       [-2.18575601e+00],\n",
              "       [ 1.21064987e-01],\n",
              "       [ 1.94956811e+00],\n",
              "       [ 6.44454016e-01],\n",
              "       [ 4.54040431e-01],\n",
              "       [ 5.63860946e-01],\n",
              "       [-1.93838688e-01],\n",
              "       [-1.24468946e-01],\n",
              "       [ 6.03106082e-01],\n",
              "       [ 1.46267927e+00],\n",
              "       [-1.45372827e+00],\n",
              "       [ 1.45069765e+00],\n",
              "       [-1.84691685e+00],\n",
              "       [ 4.10364972e-01],\n",
              "       [ 2.72391869e+00],\n",
              "       [-3.84283537e-01],\n",
              "       [-4.59234745e-01],\n",
              "       [-3.02313303e-01],\n",
              "       [ 8.10421535e-01],\n",
              "       [ 2.92121312e-01],\n",
              "       [-1.09084405e+00],\n",
              "       [-4.15405302e-01],\n",
              "       [-5.36775270e-01],\n",
              "       [-1.03710466e+00],\n",
              "       [-5.59101709e-01],\n",
              "       [-7.02677073e-01],\n",
              "       [ 1.93515116e-01],\n",
              "       [ 4.54507143e-01],\n",
              "       [ 9.75540284e-01],\n",
              "       [ 4.39770857e-01],\n",
              "       [ 1.29902132e+00],\n",
              "       [-8.93433883e-01],\n",
              "       [-4.87426429e-01],\n",
              "       [-8.32459641e-01],\n",
              "       [ 8.48528678e-01],\n",
              "       [ 6.57401127e-02],\n",
              "       [-1.78133104e+00],\n",
              "       [-1.86174643e+00],\n",
              "       [-1.33890152e+00],\n",
              "       [-5.59659318e-01],\n",
              "       [ 8.91322616e-01],\n",
              "       [-1.03424433e-01],\n",
              "       [-7.29663377e-01],\n",
              "       [ 4.82273449e-01],\n",
              "       [-2.21861405e-01],\n",
              "       [ 4.34788913e-01],\n",
              "       [ 9.11071795e-01],\n",
              "       [ 1.45948126e+00],\n",
              "       [-2.11999315e-01],\n",
              "       [-2.24881003e+00],\n",
              "       [-8.38247254e-01],\n",
              "       [ 3.50504922e-01],\n",
              "       [ 1.26391353e+00],\n",
              "       [ 8.14289101e-01],\n",
              "       [-1.57128701e+00],\n",
              "       [-1.12604667e-01],\n",
              "       [ 2.86276874e-01],\n",
              "       [-1.37799543e+00],\n",
              "       [-1.69258338e+00],\n",
              "       [ 4.69973402e-02],\n",
              "       [ 1.99425779e-01],\n",
              "       [ 1.91673032e-01],\n",
              "       [ 1.94660572e+00],\n",
              "       [ 6.35751237e-01],\n",
              "       [-1.50791566e+00],\n",
              "       [-2.12050922e+00],\n",
              "       [-1.54474492e-01],\n",
              "       [-5.33949424e-01],\n",
              "       [-6.92146053e-01],\n",
              "       [ 3.45900982e-01],\n",
              "       [ 2.01611239e+00],\n",
              "       [ 1.78859168e+00],\n",
              "       [ 1.12157822e+00],\n",
              "       [ 1.22640491e+00],\n",
              "       [-1.32918957e-01],\n",
              "       [ 6.14042674e-02],\n",
              "       [ 1.22466284e+00],\n",
              "       [-1.54141330e+00],\n",
              "       [ 1.26152601e+00],\n",
              "       [-9.29146018e-01],\n",
              "       [-2.27315048e-01],\n",
              "       [-1.94543386e-01],\n",
              "       [-2.16712757e-01],\n",
              "       [ 1.56537576e-01],\n",
              "       [ 2.46279651e-01],\n",
              "       [ 1.81401349e+00],\n",
              "       [ 1.14425440e+00],\n",
              "       [-1.18428245e+00],\n",
              "       [ 1.01743865e+00],\n",
              "       [-6.06108514e-01],\n",
              "       [-5.55295317e-01],\n",
              "       [ 1.23058593e+00],\n",
              "       [ 7.99830927e-01],\n",
              "       [-2.59209616e-01],\n",
              "       [-1.33678489e+00],\n",
              "       [ 1.31173651e-01],\n",
              "       [ 2.33175307e+00],\n",
              "       [-1.33116265e+00],\n",
              "       [ 3.40086996e-01],\n",
              "       [ 5.70296324e-01],\n",
              "       [-3.81077622e-01],\n",
              "       [-4.75316046e-01],\n",
              "       [-9.36538094e-01],\n",
              "       [-8.56409570e-01],\n",
              "       [-9.61657448e-01],\n",
              "       [-1.26689961e+00],\n",
              "       [ 1.27900657e+00],\n",
              "       [-4.87524805e-01],\n",
              "       [ 7.96068636e-01],\n",
              "       [ 1.01582822e+00],\n",
              "       [ 2.01699426e-01],\n",
              "       [-2.68278955e-01],\n",
              "       [ 5.08515284e-01],\n",
              "       [-7.29480091e-01],\n",
              "       [-1.30582708e-01],\n",
              "       [ 1.25089540e+00],\n",
              "       [-2.08439587e-01],\n",
              "       [-4.78688303e-01],\n",
              "       [ 1.19467698e+00],\n",
              "       [ 2.71082478e-01],\n",
              "       [-1.17797768e+00],\n",
              "       [-1.55515745e+00],\n",
              "       [ 1.63060247e+00],\n",
              "       [-5.72786967e-01],\n",
              "       [-7.69801464e-02],\n",
              "       [-7.06320664e-01],\n",
              "       [-1.23857254e+00],\n",
              "       [ 1.38158059e+00],\n",
              "       [-3.53699528e-01],\n",
              "       [-1.49627859e-01],\n",
              "       [ 1.35824227e+00],\n",
              "       [-7.26766180e-01],\n",
              "       [-1.14307295e+00],\n",
              "       [ 4.02953775e-02],\n",
              "       [ 3.18995402e-02],\n",
              "       [ 1.09696262e+00],\n",
              "       [ 4.27890938e-01],\n",
              "       [-4.08582908e-01],\n",
              "       [-2.29341563e+00],\n",
              "       [ 1.53718870e+00],\n",
              "       [-1.65842270e+00],\n",
              "       [ 2.53760136e-02],\n",
              "       [ 5.28212307e-02],\n",
              "       [ 5.86912306e-01],\n",
              "       [-6.59328500e-01],\n",
              "       [ 7.47166318e-01],\n",
              "       [ 3.00134812e-01],\n",
              "       [ 2.76469521e-01],\n",
              "       [-3.47879411e-01],\n",
              "       [ 2.10635545e-01],\n",
              "       [ 3.78539305e-01],\n",
              "       [ 8.14562227e-01],\n",
              "       [-6.90447915e-01],\n",
              "       [-1.80434186e-01],\n",
              "       [ 7.55911728e-01],\n",
              "       [ 1.66340956e+00],\n",
              "       [ 1.76850969e+00],\n",
              "       [ 2.83290463e-01],\n",
              "       [-7.01439839e-01],\n",
              "       [-4.83233623e-01],\n",
              "       [ 7.80115783e-02],\n",
              "       [ 1.65850074e+00],\n",
              "       [ 1.13325473e+00],\n",
              "       [ 1.24948050e+00],\n",
              "       [ 5.69778362e-01],\n",
              "       [-7.09053722e-02],\n",
              "       [ 1.08750187e+00],\n",
              "       [ 5.50299050e-01],\n",
              "       [-7.85376853e-01],\n",
              "       [-1.50997823e-01],\n",
              "       [-6.62934968e-01],\n",
              "       [ 1.00132391e+00],\n",
              "       [-1.41831700e+00],\n",
              "       [-1.29493114e+00],\n",
              "       [ 1.48801074e+00],\n",
              "       [-1.08231233e+00],\n",
              "       [-1.09109594e+00],\n",
              "       [-7.21737888e-01],\n",
              "       [-1.64047142e-01],\n",
              "       [-1.82034158e+00],\n",
              "       [ 7.20533829e-02],\n",
              "       [ 9.27037706e-01],\n",
              "       [ 1.41144133e+00],\n",
              "       [ 4.79323150e-01],\n",
              "       [ 4.90664566e-01],\n",
              "       [-1.18628793e+00],\n",
              "       [-9.33108121e-01],\n",
              "       [-2.71605681e-01],\n",
              "       [-3.46649186e-01],\n",
              "       [ 2.81742649e-01],\n",
              "       [-7.27519946e-01],\n",
              "       [-4.57239445e-01],\n",
              "       [ 5.92084275e-01],\n",
              "       [-7.19267076e-01],\n",
              "       [ 5.94004157e-01],\n",
              "       [ 1.55921391e-01],\n",
              "       [-2.60202706e+00],\n",
              "       [ 2.01218821e-01],\n",
              "       [ 5.73052259e-01],\n",
              "       [ 2.53221895e-01],\n",
              "       [-8.22931330e-01],\n",
              "       [ 7.30493072e-01],\n",
              "       [-7.90680566e-01],\n",
              "       [-7.74438029e-01],\n",
              "       [ 6.90331882e-02],\n",
              "       [-1.67675362e-01],\n",
              "       [ 1.10284976e-01],\n",
              "       [ 3.49826126e-01],\n",
              "       [ 2.47585006e-01],\n",
              "       [-4.09163828e-01],\n",
              "       [ 5.62619912e-01],\n",
              "       [ 1.64345539e+00],\n",
              "       [-1.90859139e-01],\n",
              "       [ 7.37283155e-01],\n",
              "       [-1.17498526e+00],\n",
              "       [ 3.37832180e-01],\n",
              "       [-1.95617739e-01],\n",
              "       [-5.21351283e-02],\n",
              "       [ 2.55290922e-02],\n",
              "       [ 6.30978431e-01],\n",
              "       [ 2.95808305e-01],\n",
              "       [-1.51481427e+00],\n",
              "       [ 1.89902898e+00],\n",
              "       [-7.89116784e-01],\n",
              "       [ 1.86398062e+00],\n",
              "       [-9.63925263e-01],\n",
              "       [-1.19329460e+00],\n",
              "       [ 2.02868501e+00],\n",
              "       [ 5.97510358e-01],\n",
              "       [ 1.05539525e+00],\n",
              "       [ 3.52185650e-01],\n",
              "       [-9.81711378e-01],\n",
              "       [-7.68709644e-01],\n",
              "       [-1.20468913e+00],\n",
              "       [ 2.11206861e+00],\n",
              "       [ 5.91881885e-01],\n",
              "       [ 3.42388329e-01],\n",
              "       [-1.20223787e+00],\n",
              "       [ 1.30784284e+00],\n",
              "       [ 1.13489613e+00],\n",
              "       [ 7.68212045e-01],\n",
              "       [ 5.95249936e-01],\n",
              "       [ 1.00633928e+00],\n",
              "       [-8.27934980e-01],\n",
              "       [ 8.32613900e-02],\n",
              "       [-7.70461222e-01],\n",
              "       [ 4.89415329e-01],\n",
              "       [-2.53563072e-01],\n",
              "       [-3.77304944e-02],\n",
              "       [ 2.07377368e-01],\n",
              "       [-8.34212421e-01],\n",
              "       [-5.65969162e-01],\n",
              "       [ 2.55750019e-01],\n",
              "       [ 1.01444910e+00],\n",
              "       [ 3.18279580e-01],\n",
              "       [-9.40367324e-01],\n",
              "       [-5.95744918e-01],\n",
              "       [ 9.29724062e-01],\n",
              "       [ 6.97350301e-01],\n",
              "       [ 8.92703024e-01],\n",
              "       [ 7.98529436e-01],\n",
              "       [ 6.73604005e-01],\n",
              "       [ 1.09477788e+00],\n",
              "       [-2.66961271e-01],\n",
              "       [-1.29736905e-01],\n",
              "       [ 9.69266220e-01],\n",
              "       [-8.76405634e-01],\n",
              "       [-5.27993900e-01],\n",
              "       [ 1.51729648e-01],\n",
              "       [ 6.41596120e-01],\n",
              "       [ 8.83582529e-01],\n",
              "       [-1.99303078e-01],\n",
              "       [ 4.44571408e-01],\n",
              "       [ 2.75691004e-01],\n",
              "       [-8.80237448e-02],\n",
              "       [-9.20735121e-01],\n",
              "       [ 1.04892694e+00],\n",
              "       [ 1.61059189e+00],\n",
              "       [ 5.14862908e-01],\n",
              "       [-1.62374672e+00],\n",
              "       [ 1.79841750e+00],\n",
              "       [ 5.26664043e-01],\n",
              "       [-6.99873829e-01],\n",
              "       [ 3.57282923e-03],\n",
              "       [-3.98758326e-01],\n",
              "       [ 2.27855990e+00],\n",
              "       [ 4.11731780e-01],\n",
              "       [ 1.94250878e-02],\n",
              "       [ 9.54616425e-01],\n",
              "       [-2.73593867e-01],\n",
              "       [ 9.32238485e-01],\n",
              "       [-1.42846164e+00],\n",
              "       [ 1.02727801e+00],\n",
              "       [-2.18642911e+00],\n",
              "       [-2.07962619e+00],\n",
              "       [ 1.38630045e-01],\n",
              "       [ 7.60706606e-02],\n",
              "       [ 5.64065174e-01],\n",
              "       [ 7.30400848e-02],\n",
              "       [ 1.33684962e-01],\n",
              "       [ 9.37677849e-01],\n",
              "       [-1.13831296e+00],\n",
              "       [ 2.30197909e-01],\n",
              "       [ 3.51905624e-01],\n",
              "       [-2.94056896e-01],\n",
              "       [ 5.51550405e-01],\n",
              "       [-1.22323752e+00],\n",
              "       [ 1.17485630e+00],\n",
              "       [ 7.48114681e-01],\n",
              "       [-1.13285871e+00],\n",
              "       [-1.27738382e-01],\n",
              "       [ 4.76570312e-01],\n",
              "       [ 3.81011423e-01],\n",
              "       [-8.28947232e-01],\n",
              "       [ 1.79894466e+00],\n",
              "       [ 1.23299484e+00],\n",
              "       [-5.93448934e-02],\n",
              "       [-1.77804787e+00],\n",
              "       [ 3.61132238e-01],\n",
              "       [-6.76733966e-01],\n",
              "       [-4.57708771e-01],\n",
              "       [-5.44027383e-01],\n",
              "       [-8.27401796e-01],\n",
              "       [ 1.05295295e+00],\n",
              "       [ 3.59606112e-01],\n",
              "       [-4.79286248e-01],\n",
              "       [ 1.32618747e+00],\n",
              "       [ 1.80960389e+00],\n",
              "       [ 9.48129033e-01],\n",
              "       [ 1.21464820e+00],\n",
              "       [ 1.64973690e+00],\n",
              "       [ 4.65865377e-01],\n",
              "       [ 1.46751895e-01],\n",
              "       [ 8.94315956e-01],\n",
              "       [-2.12403068e+00],\n",
              "       [-4.18686762e-02],\n",
              "       [ 1.46110270e+00],\n",
              "       [-1.30508753e+00],\n",
              "       [ 7.79073409e-02],\n",
              "       [ 2.08803845e+00],\n",
              "       [-3.33654848e-02],\n",
              "       [-9.91713852e-02],\n",
              "       [-7.68369039e-01],\n",
              "       [ 1.10510390e+00],\n",
              "       [-1.20649737e+00],\n",
              "       [ 1.49508116e-01],\n",
              "       [-1.21580178e+00],\n",
              "       [ 1.37783479e+00],\n",
              "       [ 1.68163319e+00],\n",
              "       [ 1.35808748e+00],\n",
              "       [-9.36782753e-02],\n",
              "       [ 1.37162449e+00],\n",
              "       [ 4.02925441e-01],\n",
              "       [ 2.18383509e-01],\n",
              "       [ 1.92888335e-01],\n",
              "       [-9.27534523e-01],\n",
              "       [-1.83116259e+00],\n",
              "       [ 7.98348175e-01],\n",
              "       [-6.07566336e-01],\n",
              "       [ 1.04363488e+00],\n",
              "       [ 1.77260971e+00],\n",
              "       [-8.25323401e-03],\n",
              "       [-2.69446466e-01],\n",
              "       [-1.50555357e+00],\n",
              "       [-4.81593401e-01],\n",
              "       [ 1.17207677e+00],\n",
              "       [-7.57305148e-02],\n",
              "       [-4.05045354e-01],\n",
              "       [-3.69660901e-01],\n",
              "       [ 1.32972142e+00],\n",
              "       [-4.94525705e-01],\n",
              "       [ 1.49439411e+00],\n",
              "       [-8.76841593e-02],\n",
              "       [-1.08034963e+00],\n",
              "       [ 5.12919397e-01],\n",
              "       [-8.28583284e-01],\n",
              "       [-4.92012086e-01],\n",
              "       [-1.08594329e+00],\n",
              "       [-1.20392556e+00],\n",
              "       [ 8.22884947e-01],\n",
              "       [ 8.09571958e-01],\n",
              "       [ 9.46419123e-01],\n",
              "       [ 2.14999204e+00],\n",
              "       [-1.82037507e-01],\n",
              "       [ 1.78208639e-01],\n",
              "       [ 1.13208503e+00],\n",
              "       [-1.43661315e+00],\n",
              "       [ 1.96359674e-01],\n",
              "       [-2.83691000e-01],\n",
              "       [ 9.45417099e-01],\n",
              "       [ 4.62610516e-01],\n",
              "       [ 2.26929908e+00],\n",
              "       [-4.13766201e-01],\n",
              "       [-4.73379730e-01],\n",
              "       [ 2.61881361e+00],\n",
              "       [-4.96658176e-01],\n",
              "       [-5.22221620e-01],\n",
              "       [-9.72248899e-01],\n",
              "       [-1.28308153e-01],\n",
              "       [-9.34013515e-01],\n",
              "       [-1.46395722e-01],\n",
              "       [-1.47145056e+00],\n",
              "       [-5.12693454e-01],\n",
              "       [-6.23899422e-01],\n",
              "       [ 1.08973111e+00],\n",
              "       [-2.91345482e-01],\n",
              "       [-6.98180128e-02],\n",
              "       [-2.95098701e-01],\n",
              "       [ 9.97728905e-01],\n",
              "       [-1.92857909e-02],\n",
              "       [ 2.65790792e+00],\n",
              "       [-1.70750874e-01],\n",
              "       [ 4.11476957e-01],\n",
              "       [-6.56813098e-01],\n",
              "       [-8.12132195e-01],\n",
              "       [ 7.69759791e-01],\n",
              "       [ 7.40363777e-01],\n",
              "       [ 4.09888520e-01],\n",
              "       [-2.42713417e+00],\n",
              "       [-1.56939248e+00],\n",
              "       [-3.20531327e-01],\n",
              "       [ 9.27275201e-02],\n",
              "       [ 1.71483624e+00],\n",
              "       [-9.21140863e-01],\n",
              "       [-1.49787459e+00],\n",
              "       [-1.38918572e+00],\n",
              "       [-7.52757829e-01],\n",
              "       [ 4.93406062e-01],\n",
              "       [ 3.60538378e-02],\n",
              "       [-1.69249391e+00],\n",
              "       [ 3.70353539e-01],\n",
              "       [-4.64522625e-01],\n",
              "       [ 6.15514169e-01],\n",
              "       [-3.10303246e-01],\n",
              "       [-2.14481762e-01],\n",
              "       [-1.99072403e+00],\n",
              "       [ 1.09043608e-01],\n",
              "       [-1.32338875e+00],\n",
              "       [-7.90949397e-01],\n",
              "       [ 2.69225396e-01],\n",
              "       [-5.97527217e-01],\n",
              "       [-8.21761598e-01],\n",
              "       [-6.85452436e-01],\n",
              "       [ 1.38402110e+00],\n",
              "       [-8.92633593e-01],\n",
              "       [ 2.52915109e+00],\n",
              "       [ 9.34654151e-01],\n",
              "       [ 2.11771022e-01],\n",
              "       [-6.08643968e-01],\n",
              "       [ 4.26314647e-01],\n",
              "       [-1.53714580e+00],\n",
              "       [-2.75861665e-01],\n",
              "       [-9.74464283e-03],\n",
              "       [ 8.70061263e-01],\n",
              "       [-2.02677190e+00],\n",
              "       [ 4.89227040e-01],\n",
              "       [ 1.37237084e-01],\n",
              "       [-7.31726103e-02],\n",
              "       [-8.24293409e-01],\n",
              "       [-2.69716296e-01],\n",
              "       [ 3.01945427e-01],\n",
              "       [-3.18554517e-01],\n",
              "       [-1.34984616e+00],\n",
              "       [ 5.76499257e-02],\n",
              "       [ 6.07215697e-01],\n",
              "       [-2.45096201e-01],\n",
              "       [ 3.90054115e-01],\n",
              "       [-1.00558409e+00],\n",
              "       [ 5.98320038e-01],\n",
              "       [-2.01429282e-01],\n",
              "       [ 8.49152611e-01],\n",
              "       [-3.05510704e-01],\n",
              "       [-4.68832309e-01],\n",
              "       [-1.62760286e-01],\n",
              "       [-6.83805813e-01],\n",
              "       [-4.57812924e-01],\n",
              "       [ 1.76692718e-01],\n",
              "       [ 1.80749450e-01],\n",
              "       [ 4.55961706e-01],\n",
              "       [-1.85967775e-01],\n",
              "       [-8.35903144e-01],\n",
              "       [-7.20234219e-01],\n",
              "       [-1.55238462e-01],\n",
              "       [-1.21035166e+00],\n",
              "       [-2.61250849e-01],\n",
              "       [ 1.05006003e+00],\n",
              "       [-1.00921550e+00],\n",
              "       [-1.43998619e+00],\n",
              "       [-1.14638656e+00],\n",
              "       [ 6.34370622e-01],\n",
              "       [-5.53379999e-01],\n",
              "       [ 1.92333835e+00],\n",
              "       [-7.52397384e-01],\n",
              "       [-1.36862377e+00],\n",
              "       [ 4.62950941e-02],\n",
              "       [-3.39131387e-01],\n",
              "       [-6.26987285e-01],\n",
              "       [-1.67796257e+00],\n",
              "       [ 7.28920150e-01],\n",
              "       [-2.20491535e-03],\n",
              "       [ 1.43685711e+00],\n",
              "       [-1.55409801e+00],\n",
              "       [ 2.31610869e-01],\n",
              "       [ 9.49015635e-01],\n",
              "       [-7.93488730e-01],\n",
              "       [ 6.19133701e-01],\n",
              "       [ 1.30141673e+00],\n",
              "       [-1.91285844e+00],\n",
              "       [-3.16775687e-01],\n",
              "       [-5.06097805e-01],\n",
              "       [ 6.69877802e-01],\n",
              "       [-1.44661902e-01],\n",
              "       [-1.84637818e-01],\n",
              "       [ 2.36555616e+00],\n",
              "       [ 2.94815261e-01],\n",
              "       [-3.79209525e-01],\n",
              "       [-2.20546622e-01],\n",
              "       [-1.52804555e+00],\n",
              "       [ 6.64901973e-01],\n",
              "       [ 1.15174560e-01],\n",
              "       [ 3.37211055e-01],\n",
              "       [-2.70919782e-01],\n",
              "       [ 6.65261716e-01],\n",
              "       [ 3.84710819e-01],\n",
              "       [ 3.46927753e-02],\n",
              "       [ 8.83215166e-01],\n",
              "       [-2.40189240e-01],\n",
              "       [ 8.15024674e-01],\n",
              "       [-6.38216639e-01],\n",
              "       [ 8.20537720e-01],\n",
              "       [ 9.16835216e-01],\n",
              "       [-1.21002525e+00],\n",
              "       [-3.22411677e-01],\n",
              "       [-7.45051512e-01],\n",
              "       [-3.25999794e-01],\n",
              "       [-1.71298555e-01],\n",
              "       [ 9.92504551e-01],\n",
              "       [ 1.11093920e+00],\n",
              "       [-2.66833484e-01],\n",
              "       [-7.69962496e-01],\n",
              "       [-1.24662643e+00],\n",
              "       [ 8.29465240e-01],\n",
              "       [-1.09969950e-01],\n",
              "       [-5.23415698e-01],\n",
              "       [-1.09139319e-01],\n",
              "       [-8.99561924e-01],\n",
              "       [ 3.91036781e-01],\n",
              "       [ 4.38683127e-01],\n",
              "       [ 9.41843351e-01],\n",
              "       [ 1.41724198e+00],\n",
              "       [ 1.58605151e-01],\n",
              "       [ 5.87605097e-01],\n",
              "       [ 8.76265374e-01],\n",
              "       [-1.68645775e-01],\n",
              "       [-9.75434778e-01],\n",
              "       [ 1.11686630e+00],\n",
              "       [ 2.25402133e-01],\n",
              "       [-9.42209658e-01],\n",
              "       [ 1.79267421e-01],\n",
              "       [ 1.42839275e+00],\n",
              "       [-4.46824430e-01],\n",
              "       [-1.58425905e+00],\n",
              "       [ 7.20677851e-01],\n",
              "       [ 3.27683684e-01],\n",
              "       [-2.50871455e+00],\n",
              "       [ 6.99710662e-01],\n",
              "       [-1.80594063e-01],\n",
              "       [ 1.40246633e+00],\n",
              "       [-8.61862625e-01],\n",
              "       [ 1.24575828e+00],\n",
              "       [ 1.75320444e+00],\n",
              "       [-9.11905519e-01],\n",
              "       [-2.27200476e+00],\n",
              "       [-4.69239634e-02],\n",
              "       [-8.95649629e-01],\n",
              "       [ 1.65358322e+00],\n",
              "       [ 2.76762198e-01],\n",
              "       [ 4.47322324e-01],\n",
              "       [ 2.06059274e-01],\n",
              "       [-1.71333171e+00],\n",
              "       [ 1.08222694e+00],\n",
              "       [ 2.25745351e-01],\n",
              "       [-1.75454726e-01],\n",
              "       [-9.03514116e-01],\n",
              "       [-9.17581601e-01],\n",
              "       [ 1.77024782e+00],\n",
              "       [-2.41888507e-01],\n",
              "       [ 1.86736564e+00],\n",
              "       [ 1.43852438e+00],\n",
              "       [ 1.85710129e+00],\n",
              "       [ 3.90817479e-01],\n",
              "       [-9.98320893e-03],\n",
              "       [-4.96759900e-01],\n",
              "       [ 6.74389035e-01],\n",
              "       [ 9.63347260e-01],\n",
              "       [ 1.75788666e-01],\n",
              "       [-1.79677351e+00],\n",
              "       [ 8.09378251e-01],\n",
              "       [-1.03271159e-01],\n",
              "       [ 3.61109140e-01],\n",
              "       [ 1.31765341e+00],\n",
              "       [-6.24482609e-01],\n",
              "       [-6.79632869e-02],\n",
              "       [-8.35329058e-01],\n",
              "       [-1.42773067e-01],\n",
              "       [-6.77332890e-02],\n",
              "       [ 1.56789923e+00],\n",
              "       [ 2.07835717e+00],\n",
              "       [ 5.61250644e-01],\n",
              "       [-4.65174460e-01],\n",
              "       [ 1.50837332e-01],\n",
              "       [-1.22999529e-01],\n",
              "       [ 5.94342657e-01],\n",
              "       [ 2.32276171e+00],\n",
              "       [ 6.46712050e-01],\n",
              "       [-1.36863953e+00],\n",
              "       [ 6.09002856e-01],\n",
              "       [-5.78467635e-01],\n",
              "       [ 1.01671251e+00],\n",
              "       [-8.59694946e-01],\n",
              "       [ 3.76967700e-01],\n",
              "       [-4.79851125e-01],\n",
              "       [ 4.04354801e-01],\n",
              "       [ 7.04709858e-01],\n",
              "       [-1.76733427e+00],\n",
              "       [-1.86771932e+00],\n",
              "       [ 6.30011145e-01],\n",
              "       [ 1.24581798e+00],\n",
              "       [ 4.59572063e-01],\n",
              "       [ 3.74863568e-01],\n",
              "       [-1.69987815e-01],\n",
              "       [-1.18770041e+00],\n",
              "       [-1.89675413e-01],\n",
              "       [ 1.33909557e+00],\n",
              "       [ 3.61566079e-02],\n",
              "       [-1.68081114e+00],\n",
              "       [ 1.04131501e-01],\n",
              "       [-1.29847348e+00],\n",
              "       [ 1.85434313e+00],\n",
              "       [-3.25256126e-02],\n",
              "       [-7.23090287e-01],\n",
              "       [-9.34810170e-01],\n",
              "       [ 6.40263559e-01],\n",
              "       [ 1.20728472e-01],\n",
              "       [-2.19676589e-01],\n",
              "       [ 1.01311217e+00],\n",
              "       [ 2.08366546e+00],\n",
              "       [-9.82794305e-01],\n",
              "       [-6.66677031e-01],\n",
              "       [-2.20292617e+00],\n",
              "       [ 6.58148845e-01],\n",
              "       [ 2.29396121e+00],\n",
              "       [-1.21696211e+00],\n",
              "       [ 1.36127800e+00],\n",
              "       [ 1.47243800e+00],\n",
              "       [-1.23722021e+00],\n",
              "       [ 1.74711346e-01],\n",
              "       [ 8.42007042e-01],\n",
              "       [-7.03550116e-01],\n",
              "       [ 7.81726193e-01],\n",
              "       [-1.23283908e+00],\n",
              "       [ 6.23095205e-01],\n",
              "       [ 9.72415758e-01],\n",
              "       [ 1.12259035e-01],\n",
              "       [-4.18319892e-03],\n",
              "       [ 1.64627760e+00],\n",
              "       [ 1.00290033e+00],\n",
              "       [-2.50428885e+00],\n",
              "       [-2.80292181e-01],\n",
              "       [-1.81494747e+00],\n",
              "       [ 3.30349201e-02],\n",
              "       [-1.46745817e+00],\n",
              "       [-3.09348128e+00],\n",
              "       [ 1.88422664e-01],\n",
              "       [ 1.49704256e+00],\n",
              "       [ 9.97415049e-01],\n",
              "       [-3.33545676e-01],\n",
              "       [-5.30419028e-01],\n",
              "       [-9.61479760e-01],\n",
              "       [-7.28926087e-01],\n",
              "       [ 1.47464192e-01],\n",
              "       [ 9.62242917e-01],\n",
              "       [-2.08610395e+00],\n",
              "       [-3.73051820e-02],\n",
              "       [-1.64844953e-01],\n",
              "       [-1.65933281e+00],\n",
              "       [ 2.99107376e-01],\n",
              "       [ 2.55647455e-01],\n",
              "       [-4.08013322e-01],\n",
              "       [-4.02525397e-02],\n",
              "       [ 1.21187851e+00],\n",
              "       [-1.12263287e+00],\n",
              "       [-9.07721071e-01],\n",
              "       [ 5.50201171e-01],\n",
              "       [ 1.42068517e+00],\n",
              "       [-1.25719878e+00],\n",
              "       [ 1.67959845e+00],\n",
              "       [-1.35325542e+00],\n",
              "       [-3.07185580e-01],\n",
              "       [-2.13364543e-01],\n",
              "       [ 1.44250354e-01],\n",
              "       [-4.94289231e-01],\n",
              "       [-9.16842398e-02],\n",
              "       [ 1.81144196e-01],\n",
              "       [-7.18141044e-01],\n",
              "       [-2.12997442e-01],\n",
              "       [-5.18800763e-01],\n",
              "       [ 1.49840484e+00]])"
            ]
          },
          "execution_count": 305,
          "metadata": {},
          "output_type": "execute_result"
        }
      ],
      "source": [
        "from sklearn.preprocessing import StandardScaler\n",
        "sc = StandardScaler()\n",
        "x = sc.fit_transform(x.reshape(-1,1))"
      ]
    },
    {
      "cell_type": "code",
      "execution_count": 306,
      "id": "c843bfb2",
      "metadata": {},
      "outputs": [
        {
          "data": {
            "text/plain": [
              "0.606"
            ]
          },
          "execution_count": 306,
          "metadata": {},
          "output_type": "execute_result"
        }
      ],
      "source": [
        "len(x[x>-0.24107142857142858])/len(x)"
      ]
    },
    {
      "cell_type": "code",
      "execution_count": null,
      "id": "05090406",
      "metadata": {
        "id": "05090406",
        "outputId": "5dee24af-460a-451b-db9b-7d5a34a320c1"
      },
      "outputs": [
        {
          "name": "stdout",
          "output_type": "stream",
          "text": [
            "Probability of an individual scoring above 500 on the GMAT:\n",
            "0.621\n"
          ]
        }
      ],
      "source": [
        "# Using sklearn.preprocessing.StandardScaler() and once\n"
      ]
    },
    {
      "cell_type": "markdown",
      "id": "33538380",
      "metadata": {
        "id": "33538380"
      },
      "source": [
        "##### How high must an individual score on the GMAT in order to score in the highest 5%? "
      ]
    },
    {
      "cell_type": "code",
      "execution_count": 327,
      "id": "c1a74413",
      "metadata": {},
      "outputs": [
        {
          "data": {
            "text/plain": [
              "711.2236062185649"
            ]
          },
          "execution_count": 327,
          "metadata": {},
          "output_type": "execute_result"
        }
      ],
      "source": [
        "stats.norm.ppf(loc=mean, scale=std,q=0.95)"
      ]
    },
    {
      "cell_type": "code",
      "execution_count": null,
      "id": "0b8158c7",
      "metadata": {
        "id": "0b8158c7",
        "outputId": "07d95ad7-c73b-41a9-8e50-c6316851db02"
      },
      "outputs": [
        {
          "data": {
            "text/plain": [
              "711.2236062185649"
            ]
          },
          "execution_count": 54,
          "metadata": {},
          "output_type": "execute_result"
        }
      ],
      "source": []
    }
  ],
  "metadata": {
    "colab": {
      "provenance": []
    },
    "kernelspec": {
      "display_name": "base",
      "language": "python",
      "name": "python3"
    },
    "language_info": {
      "codemirror_mode": {
        "name": "ipython",
        "version": 3
      },
      "file_extension": ".py",
      "mimetype": "text/x-python",
      "name": "python",
      "nbconvert_exporter": "python",
      "pygments_lexer": "ipython3",
      "version": "3.9.12"
    },
    "vscode": {
      "interpreter": {
        "hash": "3ae364a8bee9e35fdd929719cbdf9e88d2269dcd731e4b2a2c32cc9a820825cc"
      }
    }
  },
  "nbformat": 4,
  "nbformat_minor": 5
}
