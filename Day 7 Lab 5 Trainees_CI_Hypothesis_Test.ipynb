{
 "cells": [
  {
   "cell_type": "markdown",
   "id": "6e8f6e57",
   "metadata": {},
   "source": [
    "## Sampling\n",
    "#### Read employees.csv file.\n",
    "#### Display column counts.\n",
    "#### Remove any row contains null and display column counts"
   ]
  },
  {
   "cell_type": "code",
   "execution_count": 1,
   "id": "ea47b7a1",
   "metadata": {},
   "outputs": [],
   "source": [
    "import numpy as np\n",
    "import pandas as pd\n",
    "import scipy as sp\n",
    "import matplotlib.pyplot as plt\n",
    "import seaborn as sns"
   ]
  },
  {
   "cell_type": "code",
   "execution_count": 2,
   "id": "9c0706bf",
   "metadata": {},
   "outputs": [],
   "source": [
    "df = pd.read_csv('employees - employees.csv')"
   ]
  },
  {
   "cell_type": "code",
   "execution_count": 3,
   "id": "3f16bc57",
   "metadata": {},
   "outputs": [
    {
     "data": {
      "text/html": [
       "<div>\n",
       "<style scoped>\n",
       "    .dataframe tbody tr th:only-of-type {\n",
       "        vertical-align: middle;\n",
       "    }\n",
       "\n",
       "    .dataframe tbody tr th {\n",
       "        vertical-align: top;\n",
       "    }\n",
       "\n",
       "    .dataframe thead th {\n",
       "        text-align: right;\n",
       "    }\n",
       "</style>\n",
       "<table border=\"1\" class=\"dataframe\">\n",
       "  <thead>\n",
       "    <tr style=\"text-align: right;\">\n",
       "      <th></th>\n",
       "      <th>First Name</th>\n",
       "      <th>Gender</th>\n",
       "      <th>Start Date</th>\n",
       "      <th>Last Login Time</th>\n",
       "      <th>Salary</th>\n",
       "      <th>Bonus %</th>\n",
       "      <th>Senior Management</th>\n",
       "      <th>Team</th>\n",
       "    </tr>\n",
       "  </thead>\n",
       "  <tbody>\n",
       "    <tr>\n",
       "      <th>0</th>\n",
       "      <td>Douglas</td>\n",
       "      <td>Male</td>\n",
       "      <td>8/6/1993</td>\n",
       "      <td>12:42 PM</td>\n",
       "      <td>97308</td>\n",
       "      <td>6.945</td>\n",
       "      <td>True</td>\n",
       "      <td>Marketing</td>\n",
       "    </tr>\n",
       "    <tr>\n",
       "      <th>1</th>\n",
       "      <td>Thomas</td>\n",
       "      <td>Male</td>\n",
       "      <td>3/31/1996</td>\n",
       "      <td>6:53 AM</td>\n",
       "      <td>61933</td>\n",
       "      <td>4.170</td>\n",
       "      <td>True</td>\n",
       "      <td>NaN</td>\n",
       "    </tr>\n",
       "    <tr>\n",
       "      <th>2</th>\n",
       "      <td>Maria</td>\n",
       "      <td>Female</td>\n",
       "      <td>4/23/1993</td>\n",
       "      <td>11:17 AM</td>\n",
       "      <td>130590</td>\n",
       "      <td>11.858</td>\n",
       "      <td>False</td>\n",
       "      <td>Finance</td>\n",
       "    </tr>\n",
       "    <tr>\n",
       "      <th>3</th>\n",
       "      <td>Jerry</td>\n",
       "      <td>Male</td>\n",
       "      <td>3/4/2005</td>\n",
       "      <td>1:00 PM</td>\n",
       "      <td>138705</td>\n",
       "      <td>9.340</td>\n",
       "      <td>True</td>\n",
       "      <td>Finance</td>\n",
       "    </tr>\n",
       "    <tr>\n",
       "      <th>4</th>\n",
       "      <td>Larry</td>\n",
       "      <td>Male</td>\n",
       "      <td>1/24/1998</td>\n",
       "      <td>4:47 PM</td>\n",
       "      <td>101004</td>\n",
       "      <td>1.389</td>\n",
       "      <td>True</td>\n",
       "      <td>Client Services</td>\n",
       "    </tr>\n",
       "  </tbody>\n",
       "</table>\n",
       "</div>"
      ],
      "text/plain": [
       "  First Name  Gender Start Date Last Login Time  Salary  Bonus %  \\\n",
       "0    Douglas    Male   8/6/1993        12:42 PM   97308    6.945   \n",
       "1     Thomas    Male  3/31/1996         6:53 AM   61933    4.170   \n",
       "2      Maria  Female  4/23/1993        11:17 AM  130590   11.858   \n",
       "3      Jerry    Male   3/4/2005         1:00 PM  138705    9.340   \n",
       "4      Larry    Male  1/24/1998         4:47 PM  101004    1.389   \n",
       "\n",
       "  Senior Management             Team  \n",
       "0              True        Marketing  \n",
       "1              True              NaN  \n",
       "2             False          Finance  \n",
       "3              True          Finance  \n",
       "4              True  Client Services  "
      ]
     },
     "execution_count": 3,
     "metadata": {},
     "output_type": "execute_result"
    }
   ],
   "source": [
    "df.head()"
   ]
  },
  {
   "cell_type": "code",
   "execution_count": 4,
   "id": "49887ab1",
   "metadata": {},
   "outputs": [
    {
     "name": "stdout",
     "output_type": "stream",
     "text": [
      "<class 'pandas.core.frame.DataFrame'>\n",
      "RangeIndex: 1000 entries, 0 to 999\n",
      "Data columns (total 8 columns):\n",
      " #   Column             Non-Null Count  Dtype  \n",
      "---  ------             --------------  -----  \n",
      " 0   First Name         933 non-null    object \n",
      " 1   Gender             855 non-null    object \n",
      " 2   Start Date         1000 non-null   object \n",
      " 3   Last Login Time    1000 non-null   object \n",
      " 4   Salary             1000 non-null   int64  \n",
      " 5   Bonus %            1000 non-null   float64\n",
      " 6   Senior Management  933 non-null    object \n",
      " 7   Team               957 non-null    object \n",
      "dtypes: float64(1), int64(1), object(6)\n",
      "memory usage: 62.6+ KB\n"
     ]
    }
   ],
   "source": [
    "df.info()"
   ]
  },
  {
   "cell_type": "code",
   "execution_count": null,
   "id": "4e14996a",
   "metadata": {},
   "outputs": [],
   "source": []
  },
  {
   "cell_type": "code",
   "execution_count": 5,
   "id": "96642b6d",
   "metadata": {},
   "outputs": [
    {
     "name": "stdout",
     "output_type": "stream",
     "text": [
      "<class 'pandas.core.frame.DataFrame'>\n",
      "Int64Index: 764 entries, 0 to 999\n",
      "Data columns (total 8 columns):\n",
      " #   Column             Non-Null Count  Dtype  \n",
      "---  ------             --------------  -----  \n",
      " 0   First Name         764 non-null    object \n",
      " 1   Gender             764 non-null    object \n",
      " 2   Start Date         764 non-null    object \n",
      " 3   Last Login Time    764 non-null    object \n",
      " 4   Salary             764 non-null    int64  \n",
      " 5   Bonus %            764 non-null    float64\n",
      " 6   Senior Management  764 non-null    object \n",
      " 7   Team               764 non-null    object \n",
      "dtypes: float64(1), int64(1), object(6)\n",
      "memory usage: 53.7+ KB\n"
     ]
    }
   ],
   "source": [
    "df = df.dropna()\n",
    "df.info()"
   ]
  },
  {
   "cell_type": "code",
   "execution_count": null,
   "id": "47b8da3f",
   "metadata": {},
   "outputs": [],
   "source": []
  },
  {
   "cell_type": "markdown",
   "id": "e4b73c7a",
   "metadata": {},
   "source": [
    "## Simple Random Sample (SRS)\n",
    "#### Select simple random sample of size=50.\n",
    "#### Select 50% SRS.\n",
    "#### Display column counts in both cases."
   ]
  },
  {
   "cell_type": "code",
   "execution_count": 6,
   "id": "ab69de7f",
   "metadata": {},
   "outputs": [
    {
     "name": "stdout",
     "output_type": "stream",
     "text": [
      "<class 'pandas.core.frame.DataFrame'>\n",
      "Int64Index: 50 entries, 968 to 262\n",
      "Data columns (total 8 columns):\n",
      " #   Column             Non-Null Count  Dtype  \n",
      "---  ------             --------------  -----  \n",
      " 0   First Name         50 non-null     object \n",
      " 1   Gender             50 non-null     object \n",
      " 2   Start Date         50 non-null     object \n",
      " 3   Last Login Time    50 non-null     object \n",
      " 4   Salary             50 non-null     int64  \n",
      " 5   Bonus %            50 non-null     float64\n",
      " 6   Senior Management  50 non-null     object \n",
      " 7   Team               50 non-null     object \n",
      "dtypes: float64(1), int64(1), object(6)\n",
      "memory usage: 3.5+ KB\n"
     ]
    }
   ],
   "source": [
    "df_sample = df.sample(50)\n",
    "df_sample.info()"
   ]
  },
  {
   "cell_type": "code",
   "execution_count": null,
   "id": "7975f507",
   "metadata": {},
   "outputs": [],
   "source": []
  },
  {
   "cell_type": "code",
   "execution_count": 7,
   "id": "77293ba9",
   "metadata": {},
   "outputs": [
    {
     "name": "stdout",
     "output_type": "stream",
     "text": [
      "<class 'pandas.core.frame.DataFrame'>\n",
      "Int64Index: 382 entries, 983 to 878\n",
      "Data columns (total 8 columns):\n",
      " #   Column             Non-Null Count  Dtype  \n",
      "---  ------             --------------  -----  \n",
      " 0   First Name         382 non-null    object \n",
      " 1   Gender             382 non-null    object \n",
      " 2   Start Date         382 non-null    object \n",
      " 3   Last Login Time    382 non-null    object \n",
      " 4   Salary             382 non-null    int64  \n",
      " 5   Bonus %            382 non-null    float64\n",
      " 6   Senior Management  382 non-null    object \n",
      " 7   Team               382 non-null    object \n",
      "dtypes: float64(1), int64(1), object(6)\n",
      "memory usage: 26.9+ KB\n"
     ]
    }
   ],
   "source": [
    "df_sample2 = df.sample(frac=0.5)\n",
    "df_sample2.info()"
   ]
  },
  {
   "cell_type": "code",
   "execution_count": null,
   "id": "34d28bee",
   "metadata": {},
   "outputs": [],
   "source": []
  },
  {
   "cell_type": "markdown",
   "id": "18234c8a",
   "metadata": {},
   "source": [
    "## Systematic Sampling\n",
    "#### Select a systematic sample with 25, 50, and 100 intervals."
   ]
  },
  {
   "cell_type": "code",
   "execution_count": 8,
   "id": "8a4d10e4",
   "metadata": {},
   "outputs": [
    {
     "data": {
      "text/html": [
       "<div>\n",
       "<style scoped>\n",
       "    .dataframe tbody tr th:only-of-type {\n",
       "        vertical-align: middle;\n",
       "    }\n",
       "\n",
       "    .dataframe tbody tr th {\n",
       "        vertical-align: top;\n",
       "    }\n",
       "\n",
       "    .dataframe thead th {\n",
       "        text-align: right;\n",
       "    }\n",
       "</style>\n",
       "<table border=\"1\" class=\"dataframe\">\n",
       "  <thead>\n",
       "    <tr style=\"text-align: right;\">\n",
       "      <th></th>\n",
       "      <th>First Name</th>\n",
       "      <th>Gender</th>\n",
       "      <th>Start Date</th>\n",
       "      <th>Last Login Time</th>\n",
       "      <th>Salary</th>\n",
       "      <th>Bonus %</th>\n",
       "      <th>Senior Management</th>\n",
       "      <th>Team</th>\n",
       "    </tr>\n",
       "  </thead>\n",
       "  <tbody>\n",
       "    <tr>\n",
       "      <th>0</th>\n",
       "      <td>Douglas</td>\n",
       "      <td>Male</td>\n",
       "      <td>8/6/1993</td>\n",
       "      <td>12:42 PM</td>\n",
       "      <td>97308</td>\n",
       "      <td>6.945</td>\n",
       "      <td>True</td>\n",
       "      <td>Marketing</td>\n",
       "    </tr>\n",
       "    <tr>\n",
       "      <th>35</th>\n",
       "      <td>Theresa</td>\n",
       "      <td>Female</td>\n",
       "      <td>10/10/2006</td>\n",
       "      <td>1:12 AM</td>\n",
       "      <td>85182</td>\n",
       "      <td>16.675</td>\n",
       "      <td>False</td>\n",
       "      <td>Sales</td>\n",
       "    </tr>\n",
       "    <tr>\n",
       "      <th>68</th>\n",
       "      <td>Jose</td>\n",
       "      <td>Male</td>\n",
       "      <td>10/30/2004</td>\n",
       "      <td>1:39 PM</td>\n",
       "      <td>84834</td>\n",
       "      <td>14.330</td>\n",
       "      <td>True</td>\n",
       "      <td>Finance</td>\n",
       "    </tr>\n",
       "    <tr>\n",
       "      <th>101</th>\n",
       "      <td>Aaron</td>\n",
       "      <td>Male</td>\n",
       "      <td>2/17/2012</td>\n",
       "      <td>10:20 AM</td>\n",
       "      <td>61602</td>\n",
       "      <td>11.849</td>\n",
       "      <td>True</td>\n",
       "      <td>Marketing</td>\n",
       "    </tr>\n",
       "    <tr>\n",
       "      <th>130</th>\n",
       "      <td>Shirley</td>\n",
       "      <td>Female</td>\n",
       "      <td>5/1/1984</td>\n",
       "      <td>1:15 PM</td>\n",
       "      <td>41334</td>\n",
       "      <td>6.219</td>\n",
       "      <td>True</td>\n",
       "      <td>Human Resources</td>\n",
       "    </tr>\n",
       "    <tr>\n",
       "      <th>167</th>\n",
       "      <td>Christopher</td>\n",
       "      <td>Male</td>\n",
       "      <td>12/24/2011</td>\n",
       "      <td>12:22 PM</td>\n",
       "      <td>142178</td>\n",
       "      <td>17.984</td>\n",
       "      <td>True</td>\n",
       "      <td>Sales</td>\n",
       "    </tr>\n",
       "    <tr>\n",
       "      <th>197</th>\n",
       "      <td>Carolyn</td>\n",
       "      <td>Female</td>\n",
       "      <td>11/6/2012</td>\n",
       "      <td>3:51 AM</td>\n",
       "      <td>69268</td>\n",
       "      <td>3.031</td>\n",
       "      <td>False</td>\n",
       "      <td>Client Services</td>\n",
       "    </tr>\n",
       "    <tr>\n",
       "      <th>225</th>\n",
       "      <td>Harry</td>\n",
       "      <td>Male</td>\n",
       "      <td>10/1/2015</td>\n",
       "      <td>7:47 PM</td>\n",
       "      <td>64579</td>\n",
       "      <td>15.266</td>\n",
       "      <td>True</td>\n",
       "      <td>Sales</td>\n",
       "    </tr>\n",
       "    <tr>\n",
       "      <th>260</th>\n",
       "      <td>Gloria</td>\n",
       "      <td>Female</td>\n",
       "      <td>3/27/2007</td>\n",
       "      <td>1:44 AM</td>\n",
       "      <td>90730</td>\n",
       "      <td>2.491</td>\n",
       "      <td>False</td>\n",
       "      <td>Distribution</td>\n",
       "    </tr>\n",
       "    <tr>\n",
       "      <th>294</th>\n",
       "      <td>Virginia</td>\n",
       "      <td>Female</td>\n",
       "      <td>10/20/1999</td>\n",
       "      <td>6:23 AM</td>\n",
       "      <td>46905</td>\n",
       "      <td>19.154</td>\n",
       "      <td>False</td>\n",
       "      <td>Distribution</td>\n",
       "    </tr>\n",
       "    <tr>\n",
       "      <th>326</th>\n",
       "      <td>Jeffrey</td>\n",
       "      <td>Male</td>\n",
       "      <td>6/18/1997</td>\n",
       "      <td>8:01 PM</td>\n",
       "      <td>45150</td>\n",
       "      <td>12.075</td>\n",
       "      <td>True</td>\n",
       "      <td>Product</td>\n",
       "    </tr>\n",
       "    <tr>\n",
       "      <th>355</th>\n",
       "      <td>Andrea</td>\n",
       "      <td>Female</td>\n",
       "      <td>9/14/2003</td>\n",
       "      <td>10:30 PM</td>\n",
       "      <td>115913</td>\n",
       "      <td>12.121</td>\n",
       "      <td>False</td>\n",
       "      <td>Legal</td>\n",
       "    </tr>\n",
       "    <tr>\n",
       "      <th>391</th>\n",
       "      <td>Marilyn</td>\n",
       "      <td>Female</td>\n",
       "      <td>8/15/1989</td>\n",
       "      <td>9:14 AM</td>\n",
       "      <td>140502</td>\n",
       "      <td>9.989</td>\n",
       "      <td>True</td>\n",
       "      <td>Sales</td>\n",
       "    </tr>\n",
       "    <tr>\n",
       "      <th>425</th>\n",
       "      <td>Alice</td>\n",
       "      <td>Female</td>\n",
       "      <td>5/2/1986</td>\n",
       "      <td>1:50 AM</td>\n",
       "      <td>51395</td>\n",
       "      <td>2.378</td>\n",
       "      <td>True</td>\n",
       "      <td>Finance</td>\n",
       "    </tr>\n",
       "    <tr>\n",
       "      <th>458</th>\n",
       "      <td>Albert</td>\n",
       "      <td>Male</td>\n",
       "      <td>9/30/2007</td>\n",
       "      <td>5:34 PM</td>\n",
       "      <td>102626</td>\n",
       "      <td>15.843</td>\n",
       "      <td>False</td>\n",
       "      <td>Finance</td>\n",
       "    </tr>\n",
       "    <tr>\n",
       "      <th>488</th>\n",
       "      <td>Robert</td>\n",
       "      <td>Male</td>\n",
       "      <td>3/11/2007</td>\n",
       "      <td>11:20 AM</td>\n",
       "      <td>135882</td>\n",
       "      <td>19.944</td>\n",
       "      <td>False</td>\n",
       "      <td>Legal</td>\n",
       "    </tr>\n",
       "    <tr>\n",
       "      <th>522</th>\n",
       "      <td>Catherine</td>\n",
       "      <td>Female</td>\n",
       "      <td>8/31/2013</td>\n",
       "      <td>7:24 PM</td>\n",
       "      <td>58047</td>\n",
       "      <td>14.858</td>\n",
       "      <td>True</td>\n",
       "      <td>Distribution</td>\n",
       "    </tr>\n",
       "    <tr>\n",
       "      <th>553</th>\n",
       "      <td>Amanda</td>\n",
       "      <td>Female</td>\n",
       "      <td>6/7/2002</td>\n",
       "      <td>7:46 AM</td>\n",
       "      <td>109290</td>\n",
       "      <td>13.853</td>\n",
       "      <td>False</td>\n",
       "      <td>Engineering</td>\n",
       "    </tr>\n",
       "    <tr>\n",
       "      <th>584</th>\n",
       "      <td>Jack</td>\n",
       "      <td>Male</td>\n",
       "      <td>5/30/2012</td>\n",
       "      <td>3:17 AM</td>\n",
       "      <td>70367</td>\n",
       "      <td>18.266</td>\n",
       "      <td>True</td>\n",
       "      <td>Legal</td>\n",
       "    </tr>\n",
       "    <tr>\n",
       "      <th>619</th>\n",
       "      <td>Beverly</td>\n",
       "      <td>Female</td>\n",
       "      <td>10/22/1990</td>\n",
       "      <td>2:45 PM</td>\n",
       "      <td>59070</td>\n",
       "      <td>19.064</td>\n",
       "      <td>True</td>\n",
       "      <td>Engineering</td>\n",
       "    </tr>\n",
       "    <tr>\n",
       "      <th>653</th>\n",
       "      <td>Debra</td>\n",
       "      <td>Female</td>\n",
       "      <td>5/28/2006</td>\n",
       "      <td>6:51 AM</td>\n",
       "      <td>42296</td>\n",
       "      <td>16.922</td>\n",
       "      <td>False</td>\n",
       "      <td>Product</td>\n",
       "    </tr>\n",
       "    <tr>\n",
       "      <th>690</th>\n",
       "      <td>Bruce</td>\n",
       "      <td>Male</td>\n",
       "      <td>1/28/2007</td>\n",
       "      <td>11:10 PM</td>\n",
       "      <td>134988</td>\n",
       "      <td>13.926</td>\n",
       "      <td>True</td>\n",
       "      <td>Sales</td>\n",
       "    </tr>\n",
       "    <tr>\n",
       "      <th>725</th>\n",
       "      <td>Jeremy</td>\n",
       "      <td>Male</td>\n",
       "      <td>5/19/1991</td>\n",
       "      <td>1:40 PM</td>\n",
       "      <td>131513</td>\n",
       "      <td>1.876</td>\n",
       "      <td>True</td>\n",
       "      <td>Finance</td>\n",
       "    </tr>\n",
       "    <tr>\n",
       "      <th>759</th>\n",
       "      <td>Ruth</td>\n",
       "      <td>Female</td>\n",
       "      <td>9/2/1980</td>\n",
       "      <td>6:52 AM</td>\n",
       "      <td>59678</td>\n",
       "      <td>10.895</td>\n",
       "      <td>False</td>\n",
       "      <td>Distribution</td>\n",
       "    </tr>\n",
       "    <tr>\n",
       "      <th>796</th>\n",
       "      <td>Catherine</td>\n",
       "      <td>Female</td>\n",
       "      <td>8/31/1986</td>\n",
       "      <td>6:20 PM</td>\n",
       "      <td>59970</td>\n",
       "      <td>12.801</td>\n",
       "      <td>False</td>\n",
       "      <td>Client Services</td>\n",
       "    </tr>\n",
       "    <tr>\n",
       "      <th>828</th>\n",
       "      <td>Cynthia</td>\n",
       "      <td>Female</td>\n",
       "      <td>7/12/2006</td>\n",
       "      <td>8:55 AM</td>\n",
       "      <td>149684</td>\n",
       "      <td>7.864</td>\n",
       "      <td>False</td>\n",
       "      <td>Product</td>\n",
       "    </tr>\n",
       "    <tr>\n",
       "      <th>861</th>\n",
       "      <td>Jerry</td>\n",
       "      <td>Male</td>\n",
       "      <td>3/26/1989</td>\n",
       "      <td>4:15 AM</td>\n",
       "      <td>140850</td>\n",
       "      <td>18.855</td>\n",
       "      <td>False</td>\n",
       "      <td>Finance</td>\n",
       "    </tr>\n",
       "    <tr>\n",
       "      <th>893</th>\n",
       "      <td>Frank</td>\n",
       "      <td>Male</td>\n",
       "      <td>7/27/2013</td>\n",
       "      <td>4:32 PM</td>\n",
       "      <td>91406</td>\n",
       "      <td>5.681</td>\n",
       "      <td>True</td>\n",
       "      <td>Business Development</td>\n",
       "    </tr>\n",
       "    <tr>\n",
       "      <th>922</th>\n",
       "      <td>Arthur</td>\n",
       "      <td>Male</td>\n",
       "      <td>12/5/2013</td>\n",
       "      <td>8:44 AM</td>\n",
       "      <td>86615</td>\n",
       "      <td>3.412</td>\n",
       "      <td>True</td>\n",
       "      <td>Business Development</td>\n",
       "    </tr>\n",
       "    <tr>\n",
       "      <th>956</th>\n",
       "      <td>Beverly</td>\n",
       "      <td>Female</td>\n",
       "      <td>10/17/1986</td>\n",
       "      <td>12:51 AM</td>\n",
       "      <td>80838</td>\n",
       "      <td>8.115</td>\n",
       "      <td>False</td>\n",
       "      <td>Engineering</td>\n",
       "    </tr>\n",
       "    <tr>\n",
       "      <th>983</th>\n",
       "      <td>John</td>\n",
       "      <td>Male</td>\n",
       "      <td>12/23/1982</td>\n",
       "      <td>10:35 PM</td>\n",
       "      <td>146907</td>\n",
       "      <td>11.738</td>\n",
       "      <td>False</td>\n",
       "      <td>Engineering</td>\n",
       "    </tr>\n",
       "  </tbody>\n",
       "</table>\n",
       "</div>"
      ],
      "text/plain": [
       "      First Name  Gender  Start Date Last Login Time  Salary  Bonus %  \\\n",
       "0        Douglas    Male    8/6/1993        12:42 PM   97308    6.945   \n",
       "35       Theresa  Female  10/10/2006         1:12 AM   85182   16.675   \n",
       "68          Jose    Male  10/30/2004         1:39 PM   84834   14.330   \n",
       "101        Aaron    Male   2/17/2012        10:20 AM   61602   11.849   \n",
       "130      Shirley  Female    5/1/1984         1:15 PM   41334    6.219   \n",
       "167  Christopher    Male  12/24/2011        12:22 PM  142178   17.984   \n",
       "197      Carolyn  Female   11/6/2012         3:51 AM   69268    3.031   \n",
       "225        Harry    Male   10/1/2015         7:47 PM   64579   15.266   \n",
       "260       Gloria  Female   3/27/2007         1:44 AM   90730    2.491   \n",
       "294     Virginia  Female  10/20/1999         6:23 AM   46905   19.154   \n",
       "326      Jeffrey    Male   6/18/1997         8:01 PM   45150   12.075   \n",
       "355       Andrea  Female   9/14/2003        10:30 PM  115913   12.121   \n",
       "391      Marilyn  Female   8/15/1989         9:14 AM  140502    9.989   \n",
       "425        Alice  Female    5/2/1986         1:50 AM   51395    2.378   \n",
       "458       Albert    Male   9/30/2007         5:34 PM  102626   15.843   \n",
       "488       Robert    Male   3/11/2007        11:20 AM  135882   19.944   \n",
       "522    Catherine  Female   8/31/2013         7:24 PM   58047   14.858   \n",
       "553       Amanda  Female    6/7/2002         7:46 AM  109290   13.853   \n",
       "584         Jack    Male   5/30/2012         3:17 AM   70367   18.266   \n",
       "619      Beverly  Female  10/22/1990         2:45 PM   59070   19.064   \n",
       "653        Debra  Female   5/28/2006         6:51 AM   42296   16.922   \n",
       "690        Bruce    Male   1/28/2007        11:10 PM  134988   13.926   \n",
       "725       Jeremy    Male   5/19/1991         1:40 PM  131513    1.876   \n",
       "759         Ruth  Female    9/2/1980         6:52 AM   59678   10.895   \n",
       "796    Catherine  Female   8/31/1986         6:20 PM   59970   12.801   \n",
       "828      Cynthia  Female   7/12/2006         8:55 AM  149684    7.864   \n",
       "861        Jerry    Male   3/26/1989         4:15 AM  140850   18.855   \n",
       "893        Frank    Male   7/27/2013         4:32 PM   91406    5.681   \n",
       "922       Arthur    Male   12/5/2013         8:44 AM   86615    3.412   \n",
       "956      Beverly  Female  10/17/1986        12:51 AM   80838    8.115   \n",
       "983         John    Male  12/23/1982        10:35 PM  146907   11.738   \n",
       "\n",
       "    Senior Management                  Team  \n",
       "0                True             Marketing  \n",
       "35              False                 Sales  \n",
       "68               True               Finance  \n",
       "101              True             Marketing  \n",
       "130              True       Human Resources  \n",
       "167              True                 Sales  \n",
       "197             False       Client Services  \n",
       "225              True                 Sales  \n",
       "260             False          Distribution  \n",
       "294             False          Distribution  \n",
       "326              True               Product  \n",
       "355             False                 Legal  \n",
       "391              True                 Sales  \n",
       "425              True               Finance  \n",
       "458             False               Finance  \n",
       "488             False                 Legal  \n",
       "522              True          Distribution  \n",
       "553             False           Engineering  \n",
       "584              True                 Legal  \n",
       "619              True           Engineering  \n",
       "653             False               Product  \n",
       "690              True                 Sales  \n",
       "725              True               Finance  \n",
       "759             False          Distribution  \n",
       "796             False       Client Services  \n",
       "828             False               Product  \n",
       "861             False               Finance  \n",
       "893              True  Business Development  \n",
       "922              True  Business Development  \n",
       "956             False           Engineering  \n",
       "983             False           Engineering  "
      ]
     },
     "execution_count": 8,
     "metadata": {},
     "output_type": "execute_result"
    }
   ],
   "source": [
    "n = df.shape[0]\n",
    "step = 25\n",
    "indices = [i for i in range(0,n,25)]\n",
    "systematic_sample = df.iloc[indices]\n",
    "systematic_sample"
   ]
  },
  {
   "cell_type": "code",
   "execution_count": null,
   "id": "dd61c5cf",
   "metadata": {},
   "outputs": [],
   "source": []
  },
  {
   "cell_type": "code",
   "execution_count": 9,
   "id": "3bf8424a",
   "metadata": {},
   "outputs": [
    {
     "data": {
      "text/html": [
       "<div>\n",
       "<style scoped>\n",
       "    .dataframe tbody tr th:only-of-type {\n",
       "        vertical-align: middle;\n",
       "    }\n",
       "\n",
       "    .dataframe tbody tr th {\n",
       "        vertical-align: top;\n",
       "    }\n",
       "\n",
       "    .dataframe thead th {\n",
       "        text-align: right;\n",
       "    }\n",
       "</style>\n",
       "<table border=\"1\" class=\"dataframe\">\n",
       "  <thead>\n",
       "    <tr style=\"text-align: right;\">\n",
       "      <th></th>\n",
       "      <th>First Name</th>\n",
       "      <th>Gender</th>\n",
       "      <th>Start Date</th>\n",
       "      <th>Last Login Time</th>\n",
       "      <th>Salary</th>\n",
       "      <th>Bonus %</th>\n",
       "      <th>Senior Management</th>\n",
       "      <th>Team</th>\n",
       "    </tr>\n",
       "  </thead>\n",
       "  <tbody>\n",
       "    <tr>\n",
       "      <th>0</th>\n",
       "      <td>Douglas</td>\n",
       "      <td>Male</td>\n",
       "      <td>8/6/1993</td>\n",
       "      <td>12:42 PM</td>\n",
       "      <td>97308</td>\n",
       "      <td>6.945</td>\n",
       "      <td>True</td>\n",
       "      <td>Marketing</td>\n",
       "    </tr>\n",
       "    <tr>\n",
       "      <th>68</th>\n",
       "      <td>Jose</td>\n",
       "      <td>Male</td>\n",
       "      <td>10/30/2004</td>\n",
       "      <td>1:39 PM</td>\n",
       "      <td>84834</td>\n",
       "      <td>14.330</td>\n",
       "      <td>True</td>\n",
       "      <td>Finance</td>\n",
       "    </tr>\n",
       "    <tr>\n",
       "      <th>130</th>\n",
       "      <td>Shirley</td>\n",
       "      <td>Female</td>\n",
       "      <td>5/1/1984</td>\n",
       "      <td>1:15 PM</td>\n",
       "      <td>41334</td>\n",
       "      <td>6.219</td>\n",
       "      <td>True</td>\n",
       "      <td>Human Resources</td>\n",
       "    </tr>\n",
       "    <tr>\n",
       "      <th>197</th>\n",
       "      <td>Carolyn</td>\n",
       "      <td>Female</td>\n",
       "      <td>11/6/2012</td>\n",
       "      <td>3:51 AM</td>\n",
       "      <td>69268</td>\n",
       "      <td>3.031</td>\n",
       "      <td>False</td>\n",
       "      <td>Client Services</td>\n",
       "    </tr>\n",
       "    <tr>\n",
       "      <th>260</th>\n",
       "      <td>Gloria</td>\n",
       "      <td>Female</td>\n",
       "      <td>3/27/2007</td>\n",
       "      <td>1:44 AM</td>\n",
       "      <td>90730</td>\n",
       "      <td>2.491</td>\n",
       "      <td>False</td>\n",
       "      <td>Distribution</td>\n",
       "    </tr>\n",
       "    <tr>\n",
       "      <th>326</th>\n",
       "      <td>Jeffrey</td>\n",
       "      <td>Male</td>\n",
       "      <td>6/18/1997</td>\n",
       "      <td>8:01 PM</td>\n",
       "      <td>45150</td>\n",
       "      <td>12.075</td>\n",
       "      <td>True</td>\n",
       "      <td>Product</td>\n",
       "    </tr>\n",
       "    <tr>\n",
       "      <th>391</th>\n",
       "      <td>Marilyn</td>\n",
       "      <td>Female</td>\n",
       "      <td>8/15/1989</td>\n",
       "      <td>9:14 AM</td>\n",
       "      <td>140502</td>\n",
       "      <td>9.989</td>\n",
       "      <td>True</td>\n",
       "      <td>Sales</td>\n",
       "    </tr>\n",
       "    <tr>\n",
       "      <th>458</th>\n",
       "      <td>Albert</td>\n",
       "      <td>Male</td>\n",
       "      <td>9/30/2007</td>\n",
       "      <td>5:34 PM</td>\n",
       "      <td>102626</td>\n",
       "      <td>15.843</td>\n",
       "      <td>False</td>\n",
       "      <td>Finance</td>\n",
       "    </tr>\n",
       "    <tr>\n",
       "      <th>522</th>\n",
       "      <td>Catherine</td>\n",
       "      <td>Female</td>\n",
       "      <td>8/31/2013</td>\n",
       "      <td>7:24 PM</td>\n",
       "      <td>58047</td>\n",
       "      <td>14.858</td>\n",
       "      <td>True</td>\n",
       "      <td>Distribution</td>\n",
       "    </tr>\n",
       "    <tr>\n",
       "      <th>584</th>\n",
       "      <td>Jack</td>\n",
       "      <td>Male</td>\n",
       "      <td>5/30/2012</td>\n",
       "      <td>3:17 AM</td>\n",
       "      <td>70367</td>\n",
       "      <td>18.266</td>\n",
       "      <td>True</td>\n",
       "      <td>Legal</td>\n",
       "    </tr>\n",
       "    <tr>\n",
       "      <th>653</th>\n",
       "      <td>Debra</td>\n",
       "      <td>Female</td>\n",
       "      <td>5/28/2006</td>\n",
       "      <td>6:51 AM</td>\n",
       "      <td>42296</td>\n",
       "      <td>16.922</td>\n",
       "      <td>False</td>\n",
       "      <td>Product</td>\n",
       "    </tr>\n",
       "    <tr>\n",
       "      <th>725</th>\n",
       "      <td>Jeremy</td>\n",
       "      <td>Male</td>\n",
       "      <td>5/19/1991</td>\n",
       "      <td>1:40 PM</td>\n",
       "      <td>131513</td>\n",
       "      <td>1.876</td>\n",
       "      <td>True</td>\n",
       "      <td>Finance</td>\n",
       "    </tr>\n",
       "    <tr>\n",
       "      <th>796</th>\n",
       "      <td>Catherine</td>\n",
       "      <td>Female</td>\n",
       "      <td>8/31/1986</td>\n",
       "      <td>6:20 PM</td>\n",
       "      <td>59970</td>\n",
       "      <td>12.801</td>\n",
       "      <td>False</td>\n",
       "      <td>Client Services</td>\n",
       "    </tr>\n",
       "    <tr>\n",
       "      <th>861</th>\n",
       "      <td>Jerry</td>\n",
       "      <td>Male</td>\n",
       "      <td>3/26/1989</td>\n",
       "      <td>4:15 AM</td>\n",
       "      <td>140850</td>\n",
       "      <td>18.855</td>\n",
       "      <td>False</td>\n",
       "      <td>Finance</td>\n",
       "    </tr>\n",
       "    <tr>\n",
       "      <th>922</th>\n",
       "      <td>Arthur</td>\n",
       "      <td>Male</td>\n",
       "      <td>12/5/2013</td>\n",
       "      <td>8:44 AM</td>\n",
       "      <td>86615</td>\n",
       "      <td>3.412</td>\n",
       "      <td>True</td>\n",
       "      <td>Business Development</td>\n",
       "    </tr>\n",
       "    <tr>\n",
       "      <th>983</th>\n",
       "      <td>John</td>\n",
       "      <td>Male</td>\n",
       "      <td>12/23/1982</td>\n",
       "      <td>10:35 PM</td>\n",
       "      <td>146907</td>\n",
       "      <td>11.738</td>\n",
       "      <td>False</td>\n",
       "      <td>Engineering</td>\n",
       "    </tr>\n",
       "  </tbody>\n",
       "</table>\n",
       "</div>"
      ],
      "text/plain": [
       "    First Name  Gender  Start Date Last Login Time  Salary  Bonus %  \\\n",
       "0      Douglas    Male    8/6/1993        12:42 PM   97308    6.945   \n",
       "68        Jose    Male  10/30/2004         1:39 PM   84834   14.330   \n",
       "130    Shirley  Female    5/1/1984         1:15 PM   41334    6.219   \n",
       "197    Carolyn  Female   11/6/2012         3:51 AM   69268    3.031   \n",
       "260     Gloria  Female   3/27/2007         1:44 AM   90730    2.491   \n",
       "326    Jeffrey    Male   6/18/1997         8:01 PM   45150   12.075   \n",
       "391    Marilyn  Female   8/15/1989         9:14 AM  140502    9.989   \n",
       "458     Albert    Male   9/30/2007         5:34 PM  102626   15.843   \n",
       "522  Catherine  Female   8/31/2013         7:24 PM   58047   14.858   \n",
       "584       Jack    Male   5/30/2012         3:17 AM   70367   18.266   \n",
       "653      Debra  Female   5/28/2006         6:51 AM   42296   16.922   \n",
       "725     Jeremy    Male   5/19/1991         1:40 PM  131513    1.876   \n",
       "796  Catherine  Female   8/31/1986         6:20 PM   59970   12.801   \n",
       "861      Jerry    Male   3/26/1989         4:15 AM  140850   18.855   \n",
       "922     Arthur    Male   12/5/2013         8:44 AM   86615    3.412   \n",
       "983       John    Male  12/23/1982        10:35 PM  146907   11.738   \n",
       "\n",
       "    Senior Management                  Team  \n",
       "0                True             Marketing  \n",
       "68               True               Finance  \n",
       "130              True       Human Resources  \n",
       "197             False       Client Services  \n",
       "260             False          Distribution  \n",
       "326              True               Product  \n",
       "391              True                 Sales  \n",
       "458             False               Finance  \n",
       "522              True          Distribution  \n",
       "584              True                 Legal  \n",
       "653             False               Product  \n",
       "725              True               Finance  \n",
       "796             False       Client Services  \n",
       "861             False               Finance  \n",
       "922              True  Business Development  \n",
       "983             False           Engineering  "
      ]
     },
     "execution_count": 9,
     "metadata": {},
     "output_type": "execute_result"
    }
   ],
   "source": [
    "n = df.shape[0]\n",
    "step = 50\n",
    "indices = [i for i in range(0,n,step)]\n",
    "systematic_sample = df.iloc[indices]\n",
    "systematic_sample"
   ]
  },
  {
   "cell_type": "code",
   "execution_count": null,
   "id": "fb411bc2",
   "metadata": {},
   "outputs": [],
   "source": []
  },
  {
   "cell_type": "code",
   "execution_count": 10,
   "id": "ba6fc6ef",
   "metadata": {},
   "outputs": [
    {
     "data": {
      "text/html": [
       "<div>\n",
       "<style scoped>\n",
       "    .dataframe tbody tr th:only-of-type {\n",
       "        vertical-align: middle;\n",
       "    }\n",
       "\n",
       "    .dataframe tbody tr th {\n",
       "        vertical-align: top;\n",
       "    }\n",
       "\n",
       "    .dataframe thead th {\n",
       "        text-align: right;\n",
       "    }\n",
       "</style>\n",
       "<table border=\"1\" class=\"dataframe\">\n",
       "  <thead>\n",
       "    <tr style=\"text-align: right;\">\n",
       "      <th></th>\n",
       "      <th>First Name</th>\n",
       "      <th>Gender</th>\n",
       "      <th>Start Date</th>\n",
       "      <th>Last Login Time</th>\n",
       "      <th>Salary</th>\n",
       "      <th>Bonus %</th>\n",
       "      <th>Senior Management</th>\n",
       "      <th>Team</th>\n",
       "    </tr>\n",
       "  </thead>\n",
       "  <tbody>\n",
       "    <tr>\n",
       "      <th>0</th>\n",
       "      <td>Douglas</td>\n",
       "      <td>Male</td>\n",
       "      <td>8/6/1993</td>\n",
       "      <td>12:42 PM</td>\n",
       "      <td>97308</td>\n",
       "      <td>6.945</td>\n",
       "      <td>True</td>\n",
       "      <td>Marketing</td>\n",
       "    </tr>\n",
       "    <tr>\n",
       "      <th>130</th>\n",
       "      <td>Shirley</td>\n",
       "      <td>Female</td>\n",
       "      <td>5/1/1984</td>\n",
       "      <td>1:15 PM</td>\n",
       "      <td>41334</td>\n",
       "      <td>6.219</td>\n",
       "      <td>True</td>\n",
       "      <td>Human Resources</td>\n",
       "    </tr>\n",
       "    <tr>\n",
       "      <th>260</th>\n",
       "      <td>Gloria</td>\n",
       "      <td>Female</td>\n",
       "      <td>3/27/2007</td>\n",
       "      <td>1:44 AM</td>\n",
       "      <td>90730</td>\n",
       "      <td>2.491</td>\n",
       "      <td>False</td>\n",
       "      <td>Distribution</td>\n",
       "    </tr>\n",
       "    <tr>\n",
       "      <th>391</th>\n",
       "      <td>Marilyn</td>\n",
       "      <td>Female</td>\n",
       "      <td>8/15/1989</td>\n",
       "      <td>9:14 AM</td>\n",
       "      <td>140502</td>\n",
       "      <td>9.989</td>\n",
       "      <td>True</td>\n",
       "      <td>Sales</td>\n",
       "    </tr>\n",
       "    <tr>\n",
       "      <th>522</th>\n",
       "      <td>Catherine</td>\n",
       "      <td>Female</td>\n",
       "      <td>8/31/2013</td>\n",
       "      <td>7:24 PM</td>\n",
       "      <td>58047</td>\n",
       "      <td>14.858</td>\n",
       "      <td>True</td>\n",
       "      <td>Distribution</td>\n",
       "    </tr>\n",
       "    <tr>\n",
       "      <th>653</th>\n",
       "      <td>Debra</td>\n",
       "      <td>Female</td>\n",
       "      <td>5/28/2006</td>\n",
       "      <td>6:51 AM</td>\n",
       "      <td>42296</td>\n",
       "      <td>16.922</td>\n",
       "      <td>False</td>\n",
       "      <td>Product</td>\n",
       "    </tr>\n",
       "    <tr>\n",
       "      <th>796</th>\n",
       "      <td>Catherine</td>\n",
       "      <td>Female</td>\n",
       "      <td>8/31/1986</td>\n",
       "      <td>6:20 PM</td>\n",
       "      <td>59970</td>\n",
       "      <td>12.801</td>\n",
       "      <td>False</td>\n",
       "      <td>Client Services</td>\n",
       "    </tr>\n",
       "    <tr>\n",
       "      <th>922</th>\n",
       "      <td>Arthur</td>\n",
       "      <td>Male</td>\n",
       "      <td>12/5/2013</td>\n",
       "      <td>8:44 AM</td>\n",
       "      <td>86615</td>\n",
       "      <td>3.412</td>\n",
       "      <td>True</td>\n",
       "      <td>Business Development</td>\n",
       "    </tr>\n",
       "  </tbody>\n",
       "</table>\n",
       "</div>"
      ],
      "text/plain": [
       "    First Name  Gender Start Date Last Login Time  Salary  Bonus %  \\\n",
       "0      Douglas    Male   8/6/1993        12:42 PM   97308    6.945   \n",
       "130    Shirley  Female   5/1/1984         1:15 PM   41334    6.219   \n",
       "260     Gloria  Female  3/27/2007         1:44 AM   90730    2.491   \n",
       "391    Marilyn  Female  8/15/1989         9:14 AM  140502    9.989   \n",
       "522  Catherine  Female  8/31/2013         7:24 PM   58047   14.858   \n",
       "653      Debra  Female  5/28/2006         6:51 AM   42296   16.922   \n",
       "796  Catherine  Female  8/31/1986         6:20 PM   59970   12.801   \n",
       "922     Arthur    Male  12/5/2013         8:44 AM   86615    3.412   \n",
       "\n",
       "    Senior Management                  Team  \n",
       "0                True             Marketing  \n",
       "130              True       Human Resources  \n",
       "260             False          Distribution  \n",
       "391              True                 Sales  \n",
       "522              True          Distribution  \n",
       "653             False               Product  \n",
       "796             False       Client Services  \n",
       "922              True  Business Development  "
      ]
     },
     "execution_count": 10,
     "metadata": {},
     "output_type": "execute_result"
    }
   ],
   "source": [
    "n = df.shape[0]\n",
    "step = 100\n",
    "indices = [i for i in range(0,n,step)]\n",
    "systematic_sample = df.iloc[indices]\n",
    "systematic_sample"
   ]
  },
  {
   "cell_type": "code",
   "execution_count": null,
   "id": "b12221ae",
   "metadata": {},
   "outputs": [],
   "source": []
  },
  {
   "cell_type": "markdown",
   "id": "af1a3ba5",
   "metadata": {},
   "source": [
    "## Stratified Sampling\n",
    "#### Perform a countplot and pieplot for Gender column.\n",
    "#### Select 20% startified sample from data based on Gender.\n",
    "#### Perform a countplot and pieplot for Gender column for the data sample."
   ]
  },
  {
   "cell_type": "code",
   "execution_count": 11,
   "id": "6b33f2af",
   "metadata": {},
   "outputs": [
    {
     "data": {
      "text/html": [
       "<div>\n",
       "<style scoped>\n",
       "    .dataframe tbody tr th:only-of-type {\n",
       "        vertical-align: middle;\n",
       "    }\n",
       "\n",
       "    .dataframe tbody tr th {\n",
       "        vertical-align: top;\n",
       "    }\n",
       "\n",
       "    .dataframe thead th {\n",
       "        text-align: right;\n",
       "    }\n",
       "</style>\n",
       "<table border=\"1\" class=\"dataframe\">\n",
       "  <thead>\n",
       "    <tr style=\"text-align: right;\">\n",
       "      <th></th>\n",
       "      <th>First Name</th>\n",
       "      <th>Gender</th>\n",
       "      <th>Start Date</th>\n",
       "      <th>Last Login Time</th>\n",
       "      <th>Salary</th>\n",
       "      <th>Bonus %</th>\n",
       "      <th>Senior Management</th>\n",
       "      <th>Team</th>\n",
       "    </tr>\n",
       "  </thead>\n",
       "  <tbody>\n",
       "    <tr>\n",
       "      <th>940</th>\n",
       "      <td>Andrew</td>\n",
       "      <td>Male</td>\n",
       "      <td>9/28/1990</td>\n",
       "      <td>9:38 AM</td>\n",
       "      <td>137386</td>\n",
       "      <td>8.611</td>\n",
       "      <td>True</td>\n",
       "      <td>Distribution</td>\n",
       "    </tr>\n",
       "    <tr>\n",
       "      <th>905</th>\n",
       "      <td>Alice</td>\n",
       "      <td>Female</td>\n",
       "      <td>2/9/2013</td>\n",
       "      <td>12:49 AM</td>\n",
       "      <td>121250</td>\n",
       "      <td>4.363</td>\n",
       "      <td>True</td>\n",
       "      <td>Finance</td>\n",
       "    </tr>\n",
       "    <tr>\n",
       "      <th>452</th>\n",
       "      <td>Scott</td>\n",
       "      <td>Male</td>\n",
       "      <td>11/17/2012</td>\n",
       "      <td>2:47 PM</td>\n",
       "      <td>146812</td>\n",
       "      <td>1.965</td>\n",
       "      <td>True</td>\n",
       "      <td>Marketing</td>\n",
       "    </tr>\n",
       "    <tr>\n",
       "      <th>373</th>\n",
       "      <td>Kenneth</td>\n",
       "      <td>Male</td>\n",
       "      <td>4/13/1999</td>\n",
       "      <td>10:28 PM</td>\n",
       "      <td>81839</td>\n",
       "      <td>12.072</td>\n",
       "      <td>False</td>\n",
       "      <td>Sales</td>\n",
       "    </tr>\n",
       "    <tr>\n",
       "      <th>83</th>\n",
       "      <td>Shawn</td>\n",
       "      <td>Male</td>\n",
       "      <td>9/23/2005</td>\n",
       "      <td>2:55 AM</td>\n",
       "      <td>148115</td>\n",
       "      <td>6.539</td>\n",
       "      <td>True</td>\n",
       "      <td>Finance</td>\n",
       "    </tr>\n",
       "  </tbody>\n",
       "</table>\n",
       "</div>"
      ],
      "text/plain": [
       "    First Name  Gender  Start Date Last Login Time  Salary  Bonus %  \\\n",
       "940     Andrew    Male   9/28/1990         9:38 AM  137386    8.611   \n",
       "905      Alice  Female    2/9/2013        12:49 AM  121250    4.363   \n",
       "452      Scott    Male  11/17/2012         2:47 PM  146812    1.965   \n",
       "373    Kenneth    Male   4/13/1999        10:28 PM   81839   12.072   \n",
       "83       Shawn    Male   9/23/2005         2:55 AM  148115    6.539   \n",
       "\n",
       "    Senior Management          Team  \n",
       "940              True  Distribution  \n",
       "905              True       Finance  \n",
       "452              True     Marketing  \n",
       "373             False         Sales  \n",
       "83               True       Finance  "
      ]
     },
     "execution_count": 11,
     "metadata": {},
     "output_type": "execute_result"
    }
   ],
   "source": [
    "from sklearn.model_selection import train_test_split\n",
    "_,df_stratified_20 = train_test_split(df,test_size=0.2,stratify=df.Gender)\n",
    "df_stratified_20.head()"
   ]
  },
  {
   "cell_type": "code",
   "execution_count": null,
   "id": "64575d7e",
   "metadata": {},
   "outputs": [],
   "source": []
  },
  {
   "cell_type": "code",
   "execution_count": 12,
   "id": "cecc5b01",
   "metadata": {},
   "outputs": [
    {
     "data": {
      "text/plain": [
       "<AxesSubplot:ylabel='Gender'>"
      ]
     },
     "execution_count": 12,
     "metadata": {},
     "output_type": "execute_result"
    },
    {
     "data": {
      "image/png": "[encoded data removed]",
      "text/plain": [
       "<Figure size 432x288 with 1 Axes>"
      ]
     },
     "metadata": {
      "needs_background": "light"
     },
     "output_type": "display_data"
    },
    {
     "data": {
      "image/png": "[encoded data removed]",
      "text/plain": [
       "<Figure size 720x576 with 1 Axes>"
      ]
     },
     "metadata": {},
     "output_type": "display_data"
    }
   ],
   "source": [
    "sns.countplot(data=df_stratified_20,x='Gender')\n",
    "plt.figure()\n",
    "df_stratified_20.Gender.value_counts().plot(kind='pie',autopct='%0.2f%%',legend=True,figsize=(10,8))"
   ]
  },
  {
   "cell_type": "markdown",
   "id": "44f4b61d",
   "metadata": {},
   "source": [
    "## Sampling Distributions and CLT\n",
    "### Take a 10000 samples of sizes 1, 5, 10, 50 from a continuous uniform distribution a=1, b=11. Plot the sampling distribution of the sample mean.\n",
    "### Calculate mean and variance of sampling distribution.\n",
    "### Repeat for any distribution of your choice.\n",
    "##### Hint: fix the scale of x-axis to be able to notice the difference."
   ]
  },
  {
   "cell_type": "code",
   "execution_count": 13,
   "id": "4b8013a6",
   "metadata": {},
   "outputs": [
    {
     "data": {
      "text/plain": [
       "(5.984824358328202, 8.326373368802525)"
      ]
     },
     "execution_count": 13,
     "metadata": {},
     "output_type": "execute_result"
    },
    {
     "data": {
      "image/png": "[encoded data removed]",
      "text/plain": [
       "<Figure size 432x288 with 1 Axes>"
      ]
     },
     "metadata": {
      "needs_background": "light"
     },
     "output_type": "display_data"
    }
   ],
   "source": [
    "means = []\n",
    "for i in range(10000):\n",
    "    x = np.random.uniform(1,11,size=1)\n",
    "    means.append(x.mean())\n",
    "sns.histplot(means)\n",
    "np.mean(means), np.var(means)"
   ]
  },
  {
   "cell_type": "code",
   "execution_count": 15,
   "id": "c453b0bf",
   "metadata": {},
   "outputs": [
    {
     "data": {
      "text/plain": [
       "(5.995066775329939, 1.6683223376226812)"
      ]
     },
     "execution_count": 15,
     "metadata": {},
     "output_type": "execute_result"
    },
    {
     "data": {
      "image/png": "[encoded data removed]",
      "text/plain": [
       "<Figure size 432x288 with 1 Axes>"
      ]
     },
     "metadata": {
      "needs_background": "light"
     },
     "output_type": "display_data"
    }
   ],
   "source": [
    "means = []\n",
    "for i in range(10000):\n",
    "    x = np.random.uniform(1,11,size=5)\n",
    "    means.append(x.mean())\n",
    "sns.histplot(means)\n",
    "np.mean(means), np.var(means)"
   ]
  },
  {
   "cell_type": "code",
   "execution_count": null,
   "id": "674b3b86",
   "metadata": {},
   "outputs": [],
   "source": []
  },
  {
   "cell_type": "code",
   "execution_count": 25,
   "id": "9e929388",
   "metadata": {},
   "outputs": [
    {
     "data": {
      "text/plain": [
       "(5.9976770759435585, 0.8443257374856541)"
      ]
     },
     "execution_count": 25,
     "metadata": {},
     "output_type": "execute_result"
    },
    {
     "data": {
      "image/png": "[encoded data removed]",
      "text/plain": [
       "<Figure size 432x288 with 1 Axes>"
      ]
     },
     "metadata": {
      "needs_background": "light"
     },
     "output_type": "display_data"
    }
   ],
   "source": [
    "means = []\n",
    "for i in range(10000):\n",
    "    x = np.random.uniform(1,11,size=10)\n",
    "    means.append(x.mean())\n",
    "sns.histplot(means)\n",
    "np.mean(means), np.var(means)"
   ]
  },
  {
   "cell_type": "code",
   "execution_count": null,
   "id": "4e9ab02e",
   "metadata": {},
   "outputs": [],
   "source": []
  },
  {
   "cell_type": "code",
   "execution_count": 26,
   "id": "4437ec8a",
   "metadata": {},
   "outputs": [
    {
     "data": {
      "text/plain": [
       "(5.992586983212633, 0.16981837548511786)"
      ]
     },
     "execution_count": 26,
     "metadata": {},
     "output_type": "execute_result"
    },
    {
     "data": {
      "image/png": "[encoded data removed]",
      "text/plain": [
       "<Figure size 432x288 with 1 Axes>"
      ]
     },
     "metadata": {
      "needs_background": "light"
     },
     "output_type": "display_data"
    }
   ],
   "source": [
    "means = []\n",
    "for i in range(10000):\n",
    "    x = np.random.uniform(1,11,size=50)\n",
    "    means.append(x.mean())\n",
    "sns.histplot(means)\n",
    "np.mean(means), np.var(means)"
   ]
  },
  {
   "cell_type": "code",
   "execution_count": null,
   "id": "e2f29c48",
   "metadata": {},
   "outputs": [],
   "source": []
  },
  {
   "cell_type": "code",
   "execution_count": 27,
   "id": "0d2620f3",
   "metadata": {},
   "outputs": [
    {
     "data": {
      "text/plain": [
       "(6.000114889325656, 0.0832028674037678)"
      ]
     },
     "execution_count": 27,
     "metadata": {},
     "output_type": "execute_result"
    },
    {
     "data": {
      "image/png": "[encoded data removed]",
      "text/plain": [
       "<Figure size 432x288 with 1 Axes>"
      ]
     },
     "metadata": {
      "needs_background": "light"
     },
     "output_type": "display_data"
    }
   ],
   "source": [
    "means = []\n",
    "for i in range(10000):\n",
    "    x = np.random.uniform(1,11,size=100)\n",
    "    means.append(x.mean())\n",
    "sns.histplot(means)\n",
    "np.mean(means), np.var(means)"
   ]
  },
  {
   "cell_type": "code",
   "execution_count": null,
   "id": "0aeea1e8",
   "metadata": {},
   "outputs": [],
   "source": []
  },
  {
   "cell_type": "code",
   "execution_count": 28,
   "id": "d46a863a",
   "metadata": {},
   "outputs": [
    {
     "data": {
      "text/plain": [
       "(1.6448536269514733,\n",
       " 1.7506860712521708,\n",
       " 1.959963984540054,\n",
       " 2.3263478740408408,\n",
       " 2.5758293035489004)"
      ]
     },
     "execution_count": 28,
     "metadata": {},
     "output_type": "execute_result"
    }
   ],
   "source": [
    "import scipy.stats as stats\n",
    "stats.norm.ppf(0.90+0.05), stats.norm.ppf(0.92+0.04), stats.norm.ppf(0.95+0.025), stats.norm.ppf(0.98+0.01),stats.norm.ppf(0.99+0.005)"
   ]
  },
  {
   "cell_type": "code",
   "execution_count": null,
   "id": "aa5cfc2d",
   "metadata": {},
   "outputs": [],
   "source": []
  },
  {
   "cell_type": "markdown",
   "id": "2fb5db46",
   "metadata": {},
   "source": [
    "### Calculate the expected mean with 95% CI for each team for the employees data as follow:\n",
    "##### Using z-value.\n",
    "##### Using t-value.\n",
    "##### Compare the results obtaind from the above calculation and write a conclusion.\n",
    "##### Perform  sns.barplot() and check out the displayed confidence intervals. Compare with your results."
   ]
  },
  {
   "cell_type": "code",
   "execution_count": 29,
   "id": "1daad552",
   "metadata": {},
   "outputs": [
    {
     "data": {
      "text/html": [
       "<div>\n",
       "<style scoped>\n",
       "    .dataframe tbody tr th:only-of-type {\n",
       "        vertical-align: middle;\n",
       "    }\n",
       "\n",
       "    .dataframe tbody tr th {\n",
       "        vertical-align: top;\n",
       "    }\n",
       "\n",
       "    .dataframe thead th {\n",
       "        text-align: right;\n",
       "    }\n",
       "</style>\n",
       "<table border=\"1\" class=\"dataframe\">\n",
       "  <thead>\n",
       "    <tr style=\"text-align: right;\">\n",
       "      <th></th>\n",
       "      <th>mean</th>\n",
       "      <th>count</th>\n",
       "      <th>std</th>\n",
       "    </tr>\n",
       "    <tr>\n",
       "      <th>Team</th>\n",
       "      <th></th>\n",
       "      <th></th>\n",
       "      <th></th>\n",
       "    </tr>\n",
       "  </thead>\n",
       "  <tbody>\n",
       "    <tr>\n",
       "      <th>Business Development</th>\n",
       "      <td>90520.397727</td>\n",
       "      <td>88</td>\n",
       "      <td>34003.949519</td>\n",
       "    </tr>\n",
       "    <tr>\n",
       "      <th>Client Services</th>\n",
       "      <td>89336.658824</td>\n",
       "      <td>85</td>\n",
       "      <td>31388.107545</td>\n",
       "    </tr>\n",
       "    <tr>\n",
       "      <th>Distribution</th>\n",
       "      <td>85849.100000</td>\n",
       "      <td>60</td>\n",
       "      <td>34591.228251</td>\n",
       "    </tr>\n",
       "    <tr>\n",
       "      <th>Engineering</th>\n",
       "      <td>94369.405063</td>\n",
       "      <td>79</td>\n",
       "      <td>33128.774280</td>\n",
       "    </tr>\n",
       "    <tr>\n",
       "      <th>Finance</th>\n",
       "      <td>94519.075000</td>\n",
       "      <td>80</td>\n",
       "      <td>34888.408496</td>\n",
       "    </tr>\n",
       "    <tr>\n",
       "      <th>Human Resources</th>\n",
       "      <td>91145.171053</td>\n",
       "      <td>76</td>\n",
       "      <td>33003.806207</td>\n",
       "    </tr>\n",
       "    <tr>\n",
       "      <th>Legal</th>\n",
       "      <td>88066.402985</td>\n",
       "      <td>67</td>\n",
       "      <td>32946.885027</td>\n",
       "    </tr>\n",
       "    <tr>\n",
       "      <th>Marketing</th>\n",
       "      <td>90764.081081</td>\n",
       "      <td>74</td>\n",
       "      <td>32547.554819</td>\n",
       "    </tr>\n",
       "    <tr>\n",
       "      <th>Product</th>\n",
       "      <td>86935.963855</td>\n",
       "      <td>83</td>\n",
       "      <td>32005.495537</td>\n",
       "    </tr>\n",
       "    <tr>\n",
       "      <th>Sales</th>\n",
       "      <td>91724.819444</td>\n",
       "      <td>72</td>\n",
       "      <td>31003.120063</td>\n",
       "    </tr>\n",
       "  </tbody>\n",
       "</table>\n",
       "</div>"
      ],
      "text/plain": [
       "                              mean  count           std\n",
       "Team                                                   \n",
       "Business Development  90520.397727     88  34003.949519\n",
       "Client Services       89336.658824     85  31388.107545\n",
       "Distribution          85849.100000     60  34591.228251\n",
       "Engineering           94369.405063     79  33128.774280\n",
       "Finance               94519.075000     80  34888.408496\n",
       "Human Resources       91145.171053     76  33003.806207\n",
       "Legal                 88066.402985     67  32946.885027\n",
       "Marketing             90764.081081     74  32547.554819\n",
       "Product               86935.963855     83  32005.495537\n",
       "Sales                 91724.819444     72  31003.120063"
      ]
     },
     "execution_count": 29,
     "metadata": {},
     "output_type": "execute_result"
    }
   ],
   "source": [
    "grouped = df.groupby('Team')['Salary']\n",
    "grouped.agg(['mean', 'count', 'std'])"
   ]
  },
  {
   "cell_type": "code",
   "execution_count": 30,
   "id": "3d62e7ae",
   "metadata": {},
   "outputs": [
    {
     "data": {
      "text/plain": [
       "88"
      ]
     },
     "execution_count": 30,
     "metadata": {},
     "output_type": "execute_result"
    }
   ],
   "source": [
    "len(df[df.Team == 'Business Development'])"
   ]
  },
  {
   "cell_type": "code",
   "execution_count": 38,
   "id": "3139d939",
   "metadata": {},
   "outputs": [],
   "source": [
    "temp = grouped.agg(['mean', 'count', 'std']).reset_index()"
   ]
  },
  {
   "cell_type": "code",
   "execution_count": 40,
   "id": "c02fab1b",
   "metadata": {},
   "outputs": [],
   "source": [
    "z_value = stats.norm.ppf(1-(0.05/2))\n",
    "t_Value = stats.t.ppf(1-(0.05/2), df=temp['count']-1)\n",
    "temp['low_z'] = temp['mean'] - ((temp['std']/np.sqrt(temp['count']))*1.96)\n",
    "temp['high_z'] = temp['mean'] + ((temp['std']/np.sqrt(temp['count']))*1.96)\n",
    "temp['low_t'] = temp['mean'] - ((temp['std']/np.sqrt(temp['count']))*t_Value)\n",
    "temp['high_t'] = temp['mean'] + ((temp['std']/np.sqrt(temp['count']))*t_Value)"
   ]
  },
  {
   "cell_type": "code",
   "execution_count": 41,
   "id": "0ea4dc11",
   "metadata": {},
   "outputs": [
    {
     "data": {
      "text/html": [
       "<div>\n",
       "<style scoped>\n",
       "    .dataframe tbody tr th:only-of-type {\n",
       "        vertical-align: middle;\n",
       "    }\n",
       "\n",
       "    .dataframe tbody tr th {\n",
       "        vertical-align: top;\n",
       "    }\n",
       "\n",
       "    .dataframe thead th {\n",
       "        text-align: right;\n",
       "    }\n",
       "</style>\n",
       "<table border=\"1\" class=\"dataframe\">\n",
       "  <thead>\n",
       "    <tr style=\"text-align: right;\">\n",
       "      <th></th>\n",
       "      <th>Team</th>\n",
       "      <th>mean</th>\n",
       "      <th>count</th>\n",
       "      <th>std</th>\n",
       "      <th>low_z</th>\n",
       "      <th>high_z</th>\n",
       "      <th>low_t</th>\n",
       "      <th>high_t</th>\n",
       "    </tr>\n",
       "  </thead>\n",
       "  <tbody>\n",
       "    <tr>\n",
       "      <th>0</th>\n",
       "      <td>Business Development</td>\n",
       "      <td>90520.397727</td>\n",
       "      <td>88</td>\n",
       "      <td>34003.949519</td>\n",
       "      <td>83415.724659</td>\n",
       "      <td>97625.070796</td>\n",
       "      <td>83315.649244</td>\n",
       "      <td>97725.146211</td>\n",
       "    </tr>\n",
       "    <tr>\n",
       "      <th>1</th>\n",
       "      <td>Client Services</td>\n",
       "      <td>89336.658824</td>\n",
       "      <td>85</td>\n",
       "      <td>31388.107545</td>\n",
       "      <td>82663.803014</td>\n",
       "      <td>96009.514633</td>\n",
       "      <td>82566.400881</td>\n",
       "      <td>96106.916766</td>\n",
       "    </tr>\n",
       "    <tr>\n",
       "      <th>2</th>\n",
       "      <td>Distribution</td>\n",
       "      <td>85849.100000</td>\n",
       "      <td>60</td>\n",
       "      <td>34591.228251</td>\n",
       "      <td>77096.311605</td>\n",
       "      <td>94601.888395</td>\n",
       "      <td>76913.238207</td>\n",
       "      <td>94784.961793</td>\n",
       "    </tr>\n",
       "    <tr>\n",
       "      <th>3</th>\n",
       "      <td>Engineering</td>\n",
       "      <td>94369.405063</td>\n",
       "      <td>79</td>\n",
       "      <td>33128.774280</td>\n",
       "      <td>87063.939573</td>\n",
       "      <td>101674.870554</td>\n",
       "      <td>86948.963963</td>\n",
       "      <td>101789.846164</td>\n",
       "    </tr>\n",
       "    <tr>\n",
       "      <th>4</th>\n",
       "      <td>Finance</td>\n",
       "      <td>94519.075000</td>\n",
       "      <td>80</td>\n",
       "      <td>34888.408496</td>\n",
       "      <td>86873.815404</td>\n",
       "      <td>102164.334596</td>\n",
       "      <td>86755.040016</td>\n",
       "      <td>102283.109984</td>\n",
       "    </tr>\n",
       "    <tr>\n",
       "      <th>5</th>\n",
       "      <td>Human Resources</td>\n",
       "      <td>91145.171053</td>\n",
       "      <td>76</td>\n",
       "      <td>33003.806207</td>\n",
       "      <td>83725.010480</td>\n",
       "      <td>98565.331626</td>\n",
       "      <td>83603.478268</td>\n",
       "      <td>98686.863837</td>\n",
       "    </tr>\n",
       "    <tr>\n",
       "      <th>6</th>\n",
       "      <td>Legal</td>\n",
       "      <td>88066.402985</td>\n",
       "      <td>67</td>\n",
       "      <td>32946.885027</td>\n",
       "      <td>80177.201816</td>\n",
       "      <td>95955.604154</td>\n",
       "      <td>80030.026280</td>\n",
       "      <td>96102.779690</td>\n",
       "    </tr>\n",
       "    <tr>\n",
       "      <th>7</th>\n",
       "      <td>Marketing</td>\n",
       "      <td>90764.081081</td>\n",
       "      <td>74</td>\n",
       "      <td>32547.554819</td>\n",
       "      <td>83348.271348</td>\n",
       "      <td>98179.890814</td>\n",
       "      <td>83223.424202</td>\n",
       "      <td>98304.737960</td>\n",
       "    </tr>\n",
       "    <tr>\n",
       "      <th>8</th>\n",
       "      <td>Product</td>\n",
       "      <td>86935.963855</td>\n",
       "      <td>83</td>\n",
       "      <td>32005.495537</td>\n",
       "      <td>80050.367170</td>\n",
       "      <td>93821.560541</td>\n",
       "      <td>79947.369334</td>\n",
       "      <td>93924.558376</td>\n",
       "    </tr>\n",
       "    <tr>\n",
       "      <th>9</th>\n",
       "      <td>Sales</td>\n",
       "      <td>91724.819444</td>\n",
       "      <td>72</td>\n",
       "      <td>31003.120063</td>\n",
       "      <td>84563.464076</td>\n",
       "      <td>98886.174813</td>\n",
       "      <td>84439.443404</td>\n",
       "      <td>99010.195485</td>\n",
       "    </tr>\n",
       "  </tbody>\n",
       "</table>\n",
       "</div>"
      ],
      "text/plain": [
       "                   Team          mean  count           std         low_z  \\\n",
       "0  Business Development  90520.397727     88  34003.949519  83415.724659   \n",
       "1       Client Services  89336.658824     85  31388.107545  82663.803014   \n",
       "2          Distribution  85849.100000     60  34591.228251  77096.311605   \n",
       "3           Engineering  94369.405063     79  33128.774280  87063.939573   \n",
       "4               Finance  94519.075000     80  34888.408496  86873.815404   \n",
       "5       Human Resources  91145.171053     76  33003.806207  83725.010480   \n",
       "6                 Legal  88066.402985     67  32946.885027  80177.201816   \n",
       "7             Marketing  90764.081081     74  32547.554819  83348.271348   \n",
       "8               Product  86935.963855     83  32005.495537  80050.367170   \n",
       "9                 Sales  91724.819444     72  31003.120063  84563.464076   \n",
       "\n",
       "          high_z         low_t         high_t  \n",
       "0   97625.070796  83315.649244   97725.146211  \n",
       "1   96009.514633  82566.400881   96106.916766  \n",
       "2   94601.888395  76913.238207   94784.961793  \n",
       "3  101674.870554  86948.963963  101789.846164  \n",
       "4  102164.334596  86755.040016  102283.109984  \n",
       "5   98565.331626  83603.478268   98686.863837  \n",
       "6   95955.604154  80030.026280   96102.779690  \n",
       "7   98179.890814  83223.424202   98304.737960  \n",
       "8   93821.560541  79947.369334   93924.558376  \n",
       "9   98886.174813  84439.443404   99010.195485  "
      ]
     },
     "execution_count": 41,
     "metadata": {},
     "output_type": "execute_result"
    }
   ],
   "source": [
    "temp"
   ]
  },
  {
   "cell_type": "code",
   "execution_count": null,
   "id": "ec823aa5",
   "metadata": {},
   "outputs": [
    {
     "name": "stdout",
     "output_type": "stream",
     "text": [
      "                              mean  count           std    CI95_Low_z  \\\n",
      "Team                                                                    \n",
      "Business Development  90520.397727     88  34003.949519  83415.724659   \n",
      "Client Services       89336.658824     85  31388.107545  82663.803014   \n",
      "Distribution          85849.100000     60  34591.228251  77096.311605   \n",
      "Engineering           94369.405063     79  33128.774280  87063.939573   \n",
      "Finance               94519.075000     80  34888.408496  86873.815404   \n",
      "Human Resources       91145.171053     76  33003.806207  83725.010480   \n",
      "Legal                 88066.402985     67  32946.885027  80177.201816   \n",
      "Marketing             90764.081081     74  32547.554819  83348.271348   \n",
      "Product               86935.963855     83  32005.495537  80050.367170   \n",
      "Sales                 91724.819444     72  31003.120063  84563.464076   \n",
      "\n",
      "                        CI95_Low_t      CI95_HI_z      CI95_HI_t  \n",
      "Team                                                              \n",
      "Business Development  83315.649244   97625.070796   97725.146211  \n",
      "Client Services       82566.400881   96009.514633   96106.916766  \n",
      "Distribution          76913.238207   94601.888395   94784.961793  \n",
      "Engineering           86948.963963  101674.870554  101789.846164  \n",
      "Finance               86755.040016  102164.334596  102283.109984  \n",
      "Human Resources       83603.478268   98565.331626   98686.863837  \n",
      "Legal                 80030.026280   95955.604154   96102.779690  \n",
      "Marketing             83223.424202   98179.890814   98304.737960  \n",
      "Product               79947.369334   93821.560541   93924.558376  \n",
      "Sales                 84439.443404   98886.174813   99010.195485  \n"
     ]
    }
   ],
   "source": []
  },
  {
   "cell_type": "code",
   "execution_count": 34,
   "id": "c1752a21",
   "metadata": {},
   "outputs": [
    {
     "data": {
      "text/plain": [
       "<AxesSubplot:xlabel='Team', ylabel='mean'>"
      ]
     },
     "execution_count": 34,
     "metadata": {},
     "output_type": "execute_result"
    },
    {
     "data": {
      "image/png": "[encoded data removed]",
      "text/plain": [
       "<Figure size 1296x720 with 1 Axes>"
      ]
     },
     "metadata": {
      "needs_background": "light"
     },
     "output_type": "display_data"
    }
   ],
   "source": [
    "plt.figure(figsize=(18,10))\n",
    "temp = grouped.agg(['mean']).reset_index()\n",
    "sns.barplot(x=temp['Team'],y=temp['mean'])"
   ]
  },
  {
   "cell_type": "code",
   "execution_count": null,
   "id": "af8ea1a1",
   "metadata": {},
   "outputs": [
    {
     "data": {
      "text/plain": [
       "<AxesSubplot:xlabel='Team', ylabel='Salary'>"
      ]
     },
     "execution_count": 29,
     "metadata": {},
     "output_type": "execute_result"
    },
    {
     "data": {
      "image/png": "[encoded data removed]",
      "text/plain": [
       "<Figure size 1440x720 with 1 Axes>"
      ]
     },
     "metadata": {
      "needs_background": "light"
     },
     "output_type": "display_data"
    }
   ],
   "source": []
  },
  {
   "cell_type": "markdown",
   "id": "bf6db06a",
   "metadata": {},
   "source": [
    "## Hypothesis Testing"
   ]
  },
  {
   "cell_type": "markdown",
   "id": "d8c24a16",
   "metadata": {},
   "source": [
    "### Plot a histogram of salary."
   ]
  },
  {
   "cell_type": "code",
   "execution_count": 44,
   "id": "fa9d9775",
   "metadata": {},
   "outputs": [
    {
     "data": {
      "text/plain": [
       "<AxesSubplot:xlabel='Salary', ylabel='Count'>"
      ]
     },
     "execution_count": 44,
     "metadata": {},
     "output_type": "execute_result"
    },
    {
     "data": {
      "image/png": "[encoded data removed]",
      "text/plain": [
       "<Figure size 432x288 with 1 Axes>"
      ]
     },
     "metadata": {
      "needs_background": "light"
     },
     "output_type": "display_data"
    }
   ],
   "source": [
    "sns.histplot(df['Salary'])"
   ]
  },
  {
   "cell_type": "code",
   "execution_count": null,
   "id": "8cf50603",
   "metadata": {},
   "outputs": [
    {
     "data": {
      "text/plain": [
       "<AxesSubplot:xlabel='Salary', ylabel='Count'>"
      ]
     },
     "execution_count": 30,
     "metadata": {},
     "output_type": "execute_result"
    },
    {
     "data": {
      "image/png": "[encoded data removed]",
      "text/plain": [
       "<Figure size 432x288 with 1 Axes>"
      ]
     },
     "metadata": {
      "needs_background": "light"
     },
     "output_type": "display_data"
    }
   ],
   "source": []
  },
  {
   "cell_type": "markdown",
   "id": "60a03f24",
   "metadata": {},
   "source": [
    "### Find mean, standard deviation, and count of salary."
   ]
  },
  {
   "cell_type": "code",
   "execution_count": 45,
   "id": "f7666115",
   "metadata": {},
   "outputs": [
    {
     "data": {
      "text/plain": [
       "(90433.19633507854, 32864.665282356, 764)"
      ]
     },
     "execution_count": 45,
     "metadata": {},
     "output_type": "execute_result"
    }
   ],
   "source": [
    "df['Salary'].mean(), df['Salary'].std(), df['Salary'].count()"
   ]
  },
  {
   "cell_type": "code",
   "execution_count": null,
   "id": "b6f1461b",
   "metadata": {},
   "outputs": [
    {
     "name": "stdout",
     "output_type": "stream",
     "text": [
      "mean: 90433.19633507854\n",
      "std.: 32864.665282356\n",
      "count: 764\n"
     ]
    }
   ],
   "source": []
  },
  {
   "cell_type": "markdown",
   "id": "ec55c23f",
   "metadata": {},
   "source": [
    "### For all of the following Hypothesis Tests you must:\n",
    "#### Define your null and alternate Hypothesis.\n",
    "#### Perform z-test and t-test.\n",
    "#### State which test you need (two tailed / one tailed - right or left )\n",
    "#### The calculation must be performed using the Hypothesis test equations. \n",
    "#### i.e., calculate the standard error then calculate the z or t values then calculate p-value once using z-distribution and once using t-distribution.\n",
    "#### Repeat using statsmodels.stats.weightstats.ztest() and scipy.stats.ttest_1samp() to confirm the obtained results.\n",
    "#### Write down your conclusion (Reject H0 or not)."
   ]
  },
  {
   "cell_type": "markdown",
   "id": "3da9fb4f",
   "metadata": {},
   "source": [
    "### The claim is that the mean salary is 90000. Check if the data supports this claim or not. i.e., reject this claim or not."
   ]
  },
  {
   "cell_type": "code",
   "execution_count": 46,
   "id": "7ffc0232",
   "metadata": {},
   "outputs": [],
   "source": [
    "# H0 -> M = 90000\n",
    "# H1 -> M != 90000"
   ]
  },
  {
   "cell_type": "code",
   "execution_count": 47,
   "id": "a48cc9ee",
   "metadata": {},
   "outputs": [
    {
     "name": "stdout",
     "output_type": "stream",
     "text": [
      "z-score is: 0.3643361288778425\n"
     ]
    },
    {
     "data": {
      "text/plain": [
       "(0.7156070241477361, 0.7157079691365715)"
      ]
     },
     "execution_count": 47,
     "metadata": {},
     "output_type": "execute_result"
    }
   ],
   "source": [
    "sample_mean = df.Salary.mean()\n",
    "sample_std = df.Salary.std() / np.sqrt(len(df)) # sample standered error of std\n",
    "# zscore = x - m / std\n",
    "zscore = (sample_mean - 90000) / sample_std\n",
    "print(\"z-score is: {}\".format(zscore))\n",
    "(1 - stats.norm.cdf(zscore) )* 2 , (1 - stats.t.cdf(zscore,df=len(df)-1) )* 2"
   ]
  },
  {
   "cell_type": "code",
   "execution_count": null,
   "id": "33d5373c",
   "metadata": {},
   "outputs": [
    {
     "name": "stdout",
     "output_type": "stream",
     "text": [
      "t or z value: 0.3643361288778425\n",
      "p-value using z-dist.: 0.7156070241477361\n",
      "p-value using t-dist.: 0.7157079691365715\n"
     ]
    }
   ],
   "source": [
    "# Using Hypothesis test equations\n"
   ]
  },
  {
   "cell_type": "code",
   "execution_count": 64,
   "id": "bfa57660",
   "metadata": {},
   "outputs": [
    {
     "data": {
      "text/plain": [
       "(0.3643361288778422, 0.7156070241477364)"
      ]
     },
     "execution_count": 64,
     "metadata": {},
     "output_type": "execute_result"
    }
   ],
   "source": [
    "from statsmodels.stats.weightstats import ztest\n",
    "ztest(x1=df.Salary, value = 90000)"
   ]
  },
  {
   "cell_type": "code",
   "execution_count": null,
   "id": "532f4773",
   "metadata": {},
   "outputs": [
    {
     "name": "stdout",
     "output_type": "stream",
     "text": [
      "z-value: 0.3643361288778422\n",
      "p-value using z-dist: 0.7156070241477364\n"
     ]
    }
   ],
   "source": [
    "# Using statsmodels.stats.weightstats.ztest() \n"
   ]
  },
  {
   "cell_type": "code",
   "execution_count": 68,
   "id": "c4ce405f",
   "metadata": {},
   "outputs": [
    {
     "data": {
      "text/plain": [
       "Ttest_1sampResult(statistic=0.3643361288778422, pvalue=0.7157079691365718)"
      ]
     },
     "execution_count": 68,
     "metadata": {},
     "output_type": "execute_result"
    }
   ],
   "source": [
    "from scipy.stats import ttest_1samp\n",
    "ttest_1samp(a=df.Salary, popmean=90000)"
   ]
  },
  {
   "cell_type": "code",
   "execution_count": null,
   "id": "86e2b3b0",
   "metadata": {},
   "outputs": [
    {
     "name": "stdout",
     "output_type": "stream",
     "text": [
      "t-value: 0.3643361288778422\n",
      "p-value using t-dist: 0.7157079691365718\n"
     ]
    }
   ],
   "source": [
    "# Using scipy.stats.ttest_1samp() \n"
   ]
  },
  {
   "cell_type": "code",
   "execution_count": 69,
   "id": "47de4af5",
   "metadata": {},
   "outputs": [],
   "source": [
    "# won't reject the null "
   ]
  },
  {
   "cell_type": "markdown",
   "id": "6c1afb49",
   "metadata": {},
   "source": [
    "### The claim is that the mean salary is 100000. Check if the data supports this claim or not. i.e., reject this claim or not."
   ]
  },
  {
   "cell_type": "code",
   "execution_count": null,
   "id": "5620f361",
   "metadata": {},
   "outputs": [],
   "source": [
    "# H0 -> M = 100000\n",
    "# H1 -> M != 100000"
   ]
  },
  {
   "cell_type": "code",
   "execution_count": 79,
   "id": "3505daa4",
   "metadata": {},
   "outputs": [
    {
     "name": "stdout",
     "output_type": "stream",
     "text": [
      "z-score is: -8.046079642801976\n"
     ]
    },
    {
     "data": {
      "text/plain": [
       "(8.548837039392667e-16, 3.2669251040774328e-15)"
      ]
     },
     "execution_count": 79,
     "metadata": {},
     "output_type": "execute_result"
    }
   ],
   "source": [
    "sample_mean = df.Salary.mean()\n",
    "sample_std = df.Salary.std() / np.sqrt(len(df))\n",
    "# zscore = x - m / std\n",
    "zscore = (sample_mean - 100000) / sample_std\n",
    "print(\"z-score is: {}\".format(zscore))\n",
    "stats.norm.cdf(zscore) * 2, stats.t.cdf(zscore, df=len(df)-1) * 2"
   ]
  },
  {
   "cell_type": "code",
   "execution_count": null,
   "id": "19d6ec78",
   "metadata": {},
   "outputs": [
    {
     "name": "stdout",
     "output_type": "stream",
     "text": [
      "t or z value: -8.046079642801976\n",
      "p-value using z-dist.: 8.881784197001252e-16\n",
      "p-value using t-dist.: 3.1086244689504383e-15\n"
     ]
    }
   ],
   "source": [
    "# Using Hypothesis test equations\n"
   ]
  },
  {
   "cell_type": "code",
   "execution_count": 80,
   "id": "aa4982c0",
   "metadata": {},
   "outputs": [
    {
     "data": {
      "text/plain": [
       "(-8.04607964280197, 8.548837039392978e-16)"
      ]
     },
     "execution_count": 80,
     "metadata": {},
     "output_type": "execute_result"
    }
   ],
   "source": [
    "from statsmodels.stats.weightstats import ztest\n",
    "ztest(x1=df.Salary, value = 100000)"
   ]
  },
  {
   "cell_type": "code",
   "execution_count": null,
   "id": "e8a85387",
   "metadata": {},
   "outputs": [
    {
     "name": "stdout",
     "output_type": "stream",
     "text": [
      "z-value: -8.04607964280197\n",
      "p-value using z-dist: 8.548837039392978e-16\n"
     ]
    }
   ],
   "source": [
    "# Using statsmodels.stats.weightstats.ztest() \n"
   ]
  },
  {
   "cell_type": "code",
   "execution_count": 82,
   "id": "5f16895f",
   "metadata": {},
   "outputs": [
    {
     "data": {
      "text/plain": [
       "Ttest_1sampResult(statistic=-8.04607964280197, pvalue=3.266925104077574e-15)"
      ]
     },
     "execution_count": 82,
     "metadata": {},
     "output_type": "execute_result"
    }
   ],
   "source": [
    "from scipy.stats import ttest_1samp\n",
    "ttest_1samp(a=df.Salary, popmean=100000)"
   ]
  },
  {
   "cell_type": "code",
   "execution_count": null,
   "id": "d7955eaa",
   "metadata": {},
   "outputs": [
    {
     "name": "stdout",
     "output_type": "stream",
     "text": [
      "t-value: -8.04607964280197\n",
      "p-value using t-dist: 3.266925104077574e-15\n"
     ]
    }
   ],
   "source": [
    "# Using scipy.stats.ttest_1samp() \n"
   ]
  },
  {
   "cell_type": "code",
   "execution_count": 83,
   "id": "e571f7f8",
   "metadata": {},
   "outputs": [],
   "source": [
    "# here we reject the null"
   ]
  },
  {
   "cell_type": "markdown",
   "id": "7c9b6ddb",
   "metadata": {},
   "source": [
    "### The claim is that the mean salary is greater than or equal to 92000. Check if the data supports this claim or not. i.e., reject this claim or not."
   ]
  },
  {
   "cell_type": "code",
   "execution_count": null,
   "id": "e0fdcbed",
   "metadata": {},
   "outputs": [],
   "source": [
    "# H0 -- M >= 92000\n",
    "# H1 -- M < 92000"
   ]
  },
  {
   "cell_type": "code",
   "execution_count": 93,
   "id": "b618a2f1",
   "metadata": {},
   "outputs": [
    {
     "name": "stdout",
     "output_type": "stream",
     "text": [
      "z-score is: -1.3177470254581212\n"
     ]
    },
    {
     "data": {
      "text/plain": [
       "(0.0937941733886824, 0.0939919301061735)"
      ]
     },
     "execution_count": 93,
     "metadata": {},
     "output_type": "execute_result"
    }
   ],
   "source": [
    "sample_mean = df.Salary.mean()\n",
    "sample_std = df.Salary.std() / np.sqrt(len(df))\n",
    "# zscore = x - m / std\n",
    "zscore = (sample_mean - 92000) / sample_std\n",
    "print(\"z-score is: {}\".format(zscore))\n",
    "stats.norm.cdf(zscore), stats.t.cdf(zscore,df=len(df)-1)"
   ]
  },
  {
   "cell_type": "code",
   "execution_count": null,
   "id": "5e0c326e",
   "metadata": {},
   "outputs": [
    {
     "name": "stdout",
     "output_type": "stream",
     "text": [
      "t or z value: -1.3177470254581212\n",
      "p-value using z-dist: 0.0937941733886824\n",
      "p-value using t-dist: 0.0939919301061735\n"
     ]
    }
   ],
   "source": [
    "# Using Hypothesis test equations\n"
   ]
  },
  {
   "cell_type": "code",
   "execution_count": 91,
   "id": "4210ce39",
   "metadata": {},
   "outputs": [
    {
     "data": {
      "text/plain": [
       "(-1.3177470254581203, 0.09379417338868268)"
      ]
     },
     "execution_count": 91,
     "metadata": {},
     "output_type": "execute_result"
    }
   ],
   "source": [
    "from statsmodels.stats.weightstats import ztest\n",
    "ztest(x1=df.Salary, value = 92000, alternative='smaller')"
   ]
  },
  {
   "cell_type": "code",
   "execution_count": null,
   "id": "cc533921",
   "metadata": {},
   "outputs": [
    {
     "name": "stdout",
     "output_type": "stream",
     "text": [
      "z-value: -1.3177470254581203\n",
      "p-value using z-dist: 0.09379417338868268\n"
     ]
    }
   ],
   "source": [
    "# Using statsmodels.stats.weightstats.ztest() \n"
   ]
  },
  {
   "cell_type": "code",
   "execution_count": 89,
   "id": "0f4e3198",
   "metadata": {},
   "outputs": [
    {
     "data": {
      "text/plain": [
       "Ttest_1sampResult(statistic=-1.3177470254581203, pvalue=0.0939919301061736)"
      ]
     },
     "execution_count": 89,
     "metadata": {},
     "output_type": "execute_result"
    }
   ],
   "source": [
    "from scipy.stats import ttest_1samp\n",
    "ttest_1samp(a=df.Salary, popmean=92000, alternative='less')"
   ]
  },
  {
   "cell_type": "code",
   "execution_count": null,
   "id": "52d4a33b",
   "metadata": {},
   "outputs": [
    {
     "name": "stdout",
     "output_type": "stream",
     "text": [
      "t-value: -1.3177470254581203\n",
      "p-value using t-dist: 0.0939919301061736\n"
     ]
    }
   ],
   "source": [
    "# Using scipy.stats.ttest_1samp() \n"
   ]
  },
  {
   "cell_type": "code",
   "execution_count": 94,
   "id": "71666d1f",
   "metadata": {},
   "outputs": [],
   "source": [
    "# won't reject null"
   ]
  },
  {
   "cell_type": "markdown",
   "id": "2be529af",
   "metadata": {},
   "source": [
    "### The claim is that the mean salary is greater than or equal to 93000. Check if the data supports this claim or not. i.e., reject this claim or not."
   ]
  },
  {
   "cell_type": "code",
   "execution_count": null,
   "id": "6e8feedb",
   "metadata": {},
   "outputs": [],
   "source": [
    "# H0 -- M >= 93000\n",
    "# H1 -- M < 93000"
   ]
  },
  {
   "cell_type": "code",
   "execution_count": 95,
   "id": "2d546188",
   "metadata": {},
   "outputs": [
    {
     "name": "stdout",
     "output_type": "stream",
     "text": [
      "z-score is: -2.158788602626103\n"
     ]
    },
    {
     "data": {
      "text/plain": [
       "(0.015433285555675354, 0.015588852380115925)"
      ]
     },
     "execution_count": 95,
     "metadata": {},
     "output_type": "execute_result"
    }
   ],
   "source": [
    "sample_mean = df.Salary.mean()\n",
    "sample_std = df.Salary.std() / np.sqrt(len(df))\n",
    "# zscore = x - m / std\n",
    "zscore = (sample_mean - 93000) / sample_std\n",
    "print(\"z-score is: {}\".format(zscore))\n",
    "stats.norm.cdf(zscore), stats.t.cdf(zscore,df=len(df)-1)"
   ]
  },
  {
   "cell_type": "code",
   "execution_count": null,
   "id": "e79815c8",
   "metadata": {},
   "outputs": [
    {
     "name": "stdout",
     "output_type": "stream",
     "text": [
      "t or z value: -2.158788602626103\n",
      "p-value using z-dist: 0.015433285555675354\n",
      "p-value using t-dist: 0.015588852380115925\n"
     ]
    }
   ],
   "source": [
    "# Using Hypothesis test equations\n"
   ]
  },
  {
   "cell_type": "code",
   "execution_count": 97,
   "id": "2a6a3416",
   "metadata": {},
   "outputs": [
    {
     "data": {
      "text/plain": [
       "(-2.1587886026261014, 0.015433285555675419)"
      ]
     },
     "execution_count": 97,
     "metadata": {},
     "output_type": "execute_result"
    }
   ],
   "source": [
    "from statsmodels.stats.weightstats import ztest\n",
    "ztest(x1=df.Salary, value = 93000, alternative='smaller')"
   ]
  },
  {
   "cell_type": "code",
   "execution_count": null,
   "id": "8c08904e",
   "metadata": {},
   "outputs": [
    {
     "name": "stdout",
     "output_type": "stream",
     "text": [
      "z-value: -2.1587886026261014\n",
      "p-value using z-dist: 0.015433285555675419\n"
     ]
    }
   ],
   "source": [
    "# Using statsmodels.stats.weightstats.ztest() \n"
   ]
  },
  {
   "cell_type": "code",
   "execution_count": 98,
   "id": "95c8d6dd",
   "metadata": {},
   "outputs": [
    {
     "data": {
      "text/plain": [
       "Ttest_1sampResult(statistic=-2.1587886026261014, pvalue=0.015588852380116005)"
      ]
     },
     "execution_count": 98,
     "metadata": {},
     "output_type": "execute_result"
    }
   ],
   "source": [
    "from scipy.stats import ttest_1samp\n",
    "ttest_1samp(a=df.Salary, popmean=93000, alternative='less')"
   ]
  },
  {
   "cell_type": "code",
   "execution_count": null,
   "id": "787d5e3a",
   "metadata": {},
   "outputs": [
    {
     "name": "stdout",
     "output_type": "stream",
     "text": [
      "t-value: -2.1587886026261014\n",
      "p-value using t-dist: 0.015588852380116005\n"
     ]
    }
   ],
   "source": [
    "# Using scipy.stats.ttest_1samp() \n"
   ]
  },
  {
   "cell_type": "code",
   "execution_count": 99,
   "id": "50f83cb4",
   "metadata": {},
   "outputs": [],
   "source": [
    "# reject null"
   ]
  },
  {
   "cell_type": "markdown",
   "id": "b8a757e1",
   "metadata": {},
   "source": [
    "### The claim is that the mean salary is less than or equal to 88000. Check if the data supports this claim or not. i.e., reject this claim or not."
   ]
  },
  {
   "cell_type": "code",
   "execution_count": null,
   "id": "5210be6d",
   "metadata": {},
   "outputs": [],
   "source": [
    "# H0 -- M < 88000\n",
    "# H1 -- M >= 88000"
   ]
  },
  {
   "cell_type": "code",
   "execution_count": 101,
   "id": "209a597d",
   "metadata": {},
   "outputs": [
    {
     "name": "stdout",
     "output_type": "stream",
     "text": [
      "z-score is: 2.0464192832138064\n"
     ]
    },
    {
     "data": {
      "text/plain": [
       "(0.02035756823028878, 0.020528674104731914)"
      ]
     },
     "execution_count": 101,
     "metadata": {},
     "output_type": "execute_result"
    }
   ],
   "source": [
    "sample_mean = df.Salary.mean()\n",
    "sample_std = df.Salary.std() / np.sqrt(len(df))\n",
    "# zscore = x - m / std\n",
    "zscore = (sample_mean - 88000) / sample_std\n",
    "print(\"z-score is: {}\".format(zscore))\n",
    "1-stats.norm.cdf(zscore), 1-stats.t.cdf(zscore,df=len(df)-1)"
   ]
  },
  {
   "cell_type": "code",
   "execution_count": null,
   "id": "3ed0da15",
   "metadata": {},
   "outputs": [
    {
     "name": "stdout",
     "output_type": "stream",
     "text": [
      "t or z value: 2.0464192832138064\n",
      "p-value using z-dist: 0.02035756823028878\n",
      "p-value using t-dist: 0.020528674104731914\n"
     ]
    }
   ],
   "source": [
    "# Using Hypothesis test equations\n"
   ]
  },
  {
   "cell_type": "code",
   "execution_count": 102,
   "id": "c2e04b60",
   "metadata": {},
   "outputs": [
    {
     "data": {
      "text/plain": [
       "(2.0464192832138046, 0.020357568230288822)"
      ]
     },
     "execution_count": 102,
     "metadata": {},
     "output_type": "execute_result"
    }
   ],
   "source": [
    "from statsmodels.stats.weightstats import ztest\n",
    "ztest(x1=df.Salary, value = 88000, alternative='larger')"
   ]
  },
  {
   "cell_type": "code",
   "execution_count": null,
   "id": "3e6026d4",
   "metadata": {},
   "outputs": [
    {
     "name": "stdout",
     "output_type": "stream",
     "text": [
      "z-value: 2.0464192832138046\n",
      "p-value using z-dist: 0.020357568230288822\n"
     ]
    }
   ],
   "source": [
    "# Using statsmodels.stats.weightstats.ztest() \n"
   ]
  },
  {
   "cell_type": "code",
   "execution_count": 105,
   "id": "04dad44b",
   "metadata": {},
   "outputs": [
    {
     "data": {
      "text/plain": [
       "Ttest_1sampResult(statistic=2.0464192832138046, pvalue=0.020528674104732036)"
      ]
     },
     "execution_count": 105,
     "metadata": {},
     "output_type": "execute_result"
    }
   ],
   "source": [
    "from scipy.stats import ttest_1samp\n",
    "ttest_1samp(a=df.Salary, popmean=88000, alternative='greater')"
   ]
  },
  {
   "cell_type": "code",
   "execution_count": null,
   "id": "be6d3c89",
   "metadata": {},
   "outputs": [
    {
     "name": "stdout",
     "output_type": "stream",
     "text": [
      "t-value: 2.0464192832138046\n",
      "p-value using t-dist: 0.020528674104732036\n"
     ]
    }
   ],
   "source": [
    "# Using scipy.stats.ttest_1samp() \n"
   ]
  },
  {
   "cell_type": "code",
   "execution_count": 107,
   "id": "94eadcfd",
   "metadata": {},
   "outputs": [],
   "source": [
    "# reject null"
   ]
  },
  {
   "cell_type": "markdown",
   "id": "3ffdc34f",
   "metadata": {},
   "source": [
    "### The claim is that the mean salary is less than or equal to 90000. Check if the data supports this claim or not. i.e., reject this claim or not."
   ]
  },
  {
   "cell_type": "code",
   "execution_count": null,
   "id": "092b0d46",
   "metadata": {},
   "outputs": [],
   "source": [
    "# H0 -- M < 90000\n",
    "# H1 -- M >= 90000"
   ]
  },
  {
   "cell_type": "code",
   "execution_count": 106,
   "id": "aaf3db3b",
   "metadata": {},
   "outputs": [
    {
     "name": "stdout",
     "output_type": "stream",
     "text": [
      "z-score is: 0.3643361288778425\n"
     ]
    },
    {
     "data": {
      "text/plain": [
       "(0.35780351207386807, 0.35785398456828577)"
      ]
     },
     "execution_count": 106,
     "metadata": {},
     "output_type": "execute_result"
    }
   ],
   "source": [
    "sample_mean = df.Salary.mean()\n",
    "sample_std = df.Salary.std() / np.sqrt(len(df))\n",
    "# zscore = x - m / std\n",
    "zscore = (sample_mean - 90000) / sample_std\n",
    "print(\"z-score is: {}\".format(zscore))\n",
    "1-stats.norm.cdf(zscore), 1-stats.t.cdf(zscore,df=len(df)-1)"
   ]
  },
  {
   "cell_type": "code",
   "execution_count": null,
   "id": "c68f8657",
   "metadata": {},
   "outputs": [
    {
     "name": "stdout",
     "output_type": "stream",
     "text": [
      "t or z value: 0.3643361288778425\n",
      "p-value using z-dist: 0.35780351207386807\n",
      "p-value using t-dist: 0.35785398456828577\n"
     ]
    }
   ],
   "source": [
    "# Using Hypothesis test equations\n"
   ]
  },
  {
   "cell_type": "code",
   "execution_count": 108,
   "id": "57559c29",
   "metadata": {},
   "outputs": [
    {
     "data": {
      "text/plain": [
       "(0.3643361288778422, 0.3578035120738682)"
      ]
     },
     "execution_count": 108,
     "metadata": {},
     "output_type": "execute_result"
    }
   ],
   "source": [
    "from statsmodels.stats.weightstats import ztest\n",
    "ztest(x1=df.Salary, value = 90000, alternative='larger')"
   ]
  },
  {
   "cell_type": "code",
   "execution_count": null,
   "id": "a5e6f392",
   "metadata": {},
   "outputs": [
    {
     "name": "stdout",
     "output_type": "stream",
     "text": [
      "z-value: 0.3643361288778422\n",
      "p-value using z-dist: 0.3578035120738682\n"
     ]
    }
   ],
   "source": [
    "# Using statsmodels.stats.weightstats.ztest() \n"
   ]
  },
  {
   "cell_type": "code",
   "execution_count": 109,
   "id": "dd3a7712",
   "metadata": {},
   "outputs": [
    {
     "data": {
      "text/plain": [
       "Ttest_1sampResult(statistic=0.3643361288778422, pvalue=0.3578539845682859)"
      ]
     },
     "execution_count": 109,
     "metadata": {},
     "output_type": "execute_result"
    }
   ],
   "source": [
    "from scipy.stats import ttest_1samp\n",
    "ttest_1samp(a=df.Salary, popmean=90000, alternative='greater')"
   ]
  },
  {
   "cell_type": "code",
   "execution_count": null,
   "id": "ac7728ba",
   "metadata": {},
   "outputs": [
    {
     "name": "stdout",
     "output_type": "stream",
     "text": [
      "t-value: 0.3643361288778422\n",
      "p-value using t-dist: 0.3578539845682859\n"
     ]
    }
   ],
   "source": [
    "# Using scipy.stats.ttest_1samp() \n"
   ]
  },
  {
   "cell_type": "code",
   "execution_count": 110,
   "id": "2a175a52",
   "metadata": {},
   "outputs": [],
   "source": [
    "# won't reject"
   ]
  }
 ],
 "metadata": {
  "kernelspec": {
   "display_name": "base",
   "language": "python",
   "name": "python3"
  },
  "language_info": {
   "codemirror_mode": {
    "name": "ipython",
    "version": 3
   },
   "file_extension": ".py",
   "mimetype": "text/x-python",
   "name": "python",
   "nbconvert_exporter": "python",
   "pygments_lexer": "ipython3",
   "version": "3.9.12"
  },
  "vscode": {
   "interpreter": {
    "hash": "3ae364a8bee9e35fdd929719cbdf9e88d2269dcd731e4b2a2c32cc9a820825cc"
   }
  }
 },
 "nbformat": 4,
 "nbformat_minor": 5
}
