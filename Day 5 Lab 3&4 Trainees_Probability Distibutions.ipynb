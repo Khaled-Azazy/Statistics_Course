{
 "cells": [
  {
   "cell_type": "markdown",
   "id": "b4e49380",
   "metadata": {},
   "source": [
    "## Bernoulli"
   ]
  },
  {
   "cell_type": "markdown",
   "id": "995c9210",
   "metadata": {},
   "source": [
    "### Create random sample data from a Bernoulli distribution with p=0.6 and size=1000.\n",
    "### For the created data perform the following:\n",
    "- Count plot.\n",
    "- Hist plot with y-axis represents the proportion.\n",
    "- Calculate mean, variance, standard deviation, median, and mode."
   ]
  },
  {
   "cell_type": "code",
   "execution_count": 19,
   "id": "7815ce19",
   "metadata": {},
   "outputs": [],
   "source": [
    "import numpy as np\n",
    "from scipy import stats\n",
    "import matplotlib.pyplot as plt\n",
    "import seaborn as sns\n",
    "import statistics as stat"
   ]
  },
  {
   "cell_type": "code",
   "execution_count": 14,
   "id": "d862ccb0",
   "metadata": {},
   "outputs": [
    {
     "data": {
      "text/plain": [
       "<AxesSubplot:ylabel='Proportion'>"
      ]
     },
     "execution_count": 14,
     "metadata": {},
     "output_type": "execute_result"
    },
    {
     "data": {
      "image/png": "[encoded data removed]",
      "text/plain": [
       "<Figure size 432x288 with 1 Axes>"
      ]
     },
     "metadata": {
      "needs_background": "light"
     },
     "output_type": "display_data"
    }
   ],
   "source": [
    "x = np.random.binomial(1,p=0.6,size=1000)\n",
    "sns.histplot(x,stat='proportion')"
   ]
  },
  {
   "cell_type": "code",
   "execution_count": 4,
   "id": "23df7c60",
   "metadata": {},
   "outputs": [
    {
     "data": {
      "text/plain": [
       "<AxesSubplot:ylabel='Proportion'>"
      ]
     },
     "execution_count": 4,
     "metadata": {},
     "output_type": "execute_result"
    },
    {
     "data": {
      "image/png": "[encoded data removed]",
      "text/plain": [
       "<Figure size 432x288 with 1 Axes>"
      ]
     },
     "metadata": {
      "needs_background": "light"
     },
     "output_type": "display_data"
    }
   ],
   "source": []
  },
  {
   "cell_type": "code",
   "execution_count": 20,
   "id": "f7968779",
   "metadata": {},
   "outputs": [
    {
     "data": {
      "text/plain": [
       "(0.615, 0.23677499999999999, 0.4865953144040744, 1.0, 1)"
      ]
     },
     "execution_count": 20,
     "metadata": {},
     "output_type": "execute_result"
    }
   ],
   "source": [
    "x.mean(), x.var(), x.std(), np.median(x), stat.mode(x)"
   ]
  },
  {
   "cell_type": "code",
   "execution_count": 5,
   "id": "77052712",
   "metadata": {
    "scrolled": false
   },
   "outputs": [
    {
     "name": "stdout",
     "output_type": "stream",
     "text": [
      "Mean: 0.614\n",
      "Var: 0.23700399999999996\n",
      "Std: 0.48683056600833924\n",
      "Median: 1.0\n",
      "Mode: ModeResult(mode=array([1]), count=array([614]))\n"
     ]
    }
   ],
   "source": []
  },
  {
   "cell_type": "markdown",
   "id": "29e2fcdd",
   "metadata": {},
   "source": [
    "### Use scipy.stats.bernoulli.pmf\n",
    "- Calculate the probabilities of success and failure. "
   ]
  },
  {
   "cell_type": "code",
   "execution_count": 26,
   "id": "84808282",
   "metadata": {},
   "outputs": [
    {
     "data": {
      "text/plain": [
       "(0.4, 0.6)"
      ]
     },
     "execution_count": 26,
     "metadata": {},
     "output_type": "execute_result"
    }
   ],
   "source": [
    "stats.bernoulli.pmf(p=0.6,k=0), stats.bernoulli.pmf(p=0.6,k=1)"
   ]
  },
  {
   "cell_type": "code",
   "execution_count": 7,
   "id": "c1a94fe4",
   "metadata": {},
   "outputs": [
    {
     "name": "stdout",
     "output_type": "stream",
     "text": [
      "P(1): 0.6\n",
      "P(0): 0.4\n"
     ]
    }
   ],
   "source": []
  },
  {
   "cell_type": "markdown",
   "id": "ad3ecf24",
   "metadata": {},
   "source": [
    "### Repeat with other values of probability of success.\n",
    "##### The following results uses p=0.5, p=0.9, and p=0.2"
   ]
  },
  {
   "cell_type": "code",
   "execution_count": 34,
   "id": "cee012f4",
   "metadata": {},
   "outputs": [
    {
     "name": "stderr",
     "output_type": "stream",
     "text": [
      "c:\\Users\\khale\\anaconda3\\lib\\site-packages\\seaborn\\_decorators.py:36: FutureWarning: Pass the following variable as a keyword arg: x. From version 0.12, the only valid positional argument will be `data`, and passing other arguments without an explicit keyword will result in an error or misinterpretation.\n",
      "  warnings.warn(\n"
     ]
    },
    {
     "data": {
      "text/plain": [
       "(<AxesSubplot:ylabel='count'>,\n",
       " 0.502,\n",
       " 0.2499959999999999,\n",
       " 0.4999959999839998,\n",
       " 1.0,\n",
       " 1,\n",
       " 0.5,\n",
       " 0.5)"
      ]
     },
     "execution_count": 34,
     "metadata": {},
     "output_type": "execute_result"
    },
    {
     "data": {
      "image/png": "[encoded data removed]",
      "text/plain": [
       "<Figure size 432x288 with 1 Axes>"
      ]
     },
     "metadata": {
      "needs_background": "light"
     },
     "output_type": "display_data"
    }
   ],
   "source": [
    "x = np.random.binomial(1,p=0.5,size=1000)\n",
    "sns.countplot(x), x.mean(), x.var(), x.std(), np.median(x), stat.mode(x),stats.bernoulli.pmf(p=0.5,k=0), stats.bernoulli.pmf(p=0.5,k=1)"
   ]
  },
  {
   "cell_type": "code",
   "execution_count": 8,
   "id": "8e178199",
   "metadata": {},
   "outputs": [
    {
     "data": {
      "image/png": "[encoded data removed]",
      "text/plain": [
       "<Figure size 432x288 with 1 Axes>"
      ]
     },
     "metadata": {
      "needs_background": "light"
     },
     "output_type": "display_data"
    },
    {
     "name": "stdout",
     "output_type": "stream",
     "text": [
      "Mean: 0.48\n",
      "Var: 0.24960000000000002\n",
      "Std: 0.4995998398718719\n",
      "Median: 0.0\n",
      "Mode: ModeResult(mode=array([0]), count=array([520]))\n",
      "P(1): 0.5\n",
      "P(0): 0.5\n"
     ]
    },
    {
     "data": {
      "image/png": "[encoded data removed]",
      "text/plain": [
       "<Figure size 432x288 with 1 Axes>"
      ]
     },
     "metadata": {
      "needs_background": "light"
     },
     "output_type": "display_data"
    }
   ],
   "source": [
    "# p = 0.5\n"
   ]
  },
  {
   "cell_type": "code",
   "execution_count": 35,
   "id": "21dabfc6",
   "metadata": {},
   "outputs": [
    {
     "name": "stderr",
     "output_type": "stream",
     "text": [
      "c:\\Users\\khale\\anaconda3\\lib\\site-packages\\seaborn\\_decorators.py:36: FutureWarning: Pass the following variable as a keyword arg: x. From version 0.12, the only valid positional argument will be `data`, and passing other arguments without an explicit keyword will result in an error or misinterpretation.\n",
      "  warnings.warn(\n"
     ]
    },
    {
     "data": {
      "text/plain": [
       "(<AxesSubplot:ylabel='count'>,\n",
       " 0.885,\n",
       " 0.101775,\n",
       " 0.31902194281898544,\n",
       " 1.0,\n",
       " 1,\n",
       " 0.09999999999999998,\n",
       " 0.9)"
      ]
     },
     "execution_count": 35,
     "metadata": {},
     "output_type": "execute_result"
    },
    {
     "data": {
      "image/png": "[encoded data removed]",
      "text/plain": [
       "<Figure size 432x288 with 1 Axes>"
      ]
     },
     "metadata": {
      "needs_background": "light"
     },
     "output_type": "display_data"
    }
   ],
   "source": [
    "x = np.random.binomial(1,p=0.9,size=1000)\n",
    "sns.countplot(x), x.mean(), x.var(), x.std(), np.median(x), stat.mode(x),stats.bernoulli.pmf(p=0.9,k=0), stats.bernoulli.pmf(p=0.9,k=1)"
   ]
  },
  {
   "cell_type": "code",
   "execution_count": 39,
   "id": "84cf813d",
   "metadata": {},
   "outputs": [
    {
     "data": {
      "text/plain": [
       "<AxesSubplot:ylabel='Proportion'>"
      ]
     },
     "execution_count": 39,
     "metadata": {},
     "output_type": "execute_result"
    },
    {
     "data": {
      "image/png": "[encoded data removed]",
      "text/plain": [
       "<Figure size 432x288 with 1 Axes>"
      ]
     },
     "metadata": {
      "needs_background": "light"
     },
     "output_type": "display_data"
    }
   ],
   "source": [
    "sns.histplot(x,stat='proportion')"
   ]
  },
  {
   "cell_type": "code",
   "execution_count": 9,
   "id": "eef86894",
   "metadata": {},
   "outputs": [
    {
     "data": {
      "image/png": "[encoded data removed]",
      "text/plain": [
       "<Figure size 432x288 with 1 Axes>"
      ]
     },
     "metadata": {
      "needs_background": "light"
     },
     "output_type": "display_data"
    },
    {
     "name": "stdout",
     "output_type": "stream",
     "text": [
      "Mean: 0.894\n",
      "Var: 0.09476400000000001\n",
      "Std: 0.3078376195334157\n",
      "Median: 1.0\n",
      "Mode: ModeResult(mode=array([1]), count=array([894]))\n",
      "P(1): 0.9\n",
      "P(0): 0.09999999999999998\n"
     ]
    },
    {
     "data": {
      "image/png": "[encoded data removed]",
      "text/plain": [
       "<Figure size 432x288 with 1 Axes>"
      ]
     },
     "metadata": {
      "needs_background": "light"
     },
     "output_type": "display_data"
    }
   ],
   "source": [
    "# p = 0.9\n"
   ]
  },
  {
   "cell_type": "code",
   "execution_count": 36,
   "id": "0fd3457a",
   "metadata": {},
   "outputs": [
    {
     "name": "stderr",
     "output_type": "stream",
     "text": [
      "c:\\Users\\khale\\anaconda3\\lib\\site-packages\\seaborn\\_decorators.py:36: FutureWarning: Pass the following variable as a keyword arg: x. From version 0.12, the only valid positional argument will be `data`, and passing other arguments without an explicit keyword will result in an error or misinterpretation.\n",
      "  warnings.warn(\n"
     ]
    },
    {
     "data": {
      "text/plain": [
       "(<AxesSubplot:ylabel='count'>,\n",
       " 0.194,\n",
       " 0.15636400000000003,\n",
       " 0.39542888108988705,\n",
       " 0.0,\n",
       " 0,\n",
       " 0.8,\n",
       " 0.2)"
      ]
     },
     "execution_count": 36,
     "metadata": {},
     "output_type": "execute_result"
    },
    {
     "data": {
      "image/png": "[encoded data removed]",
      "text/plain": [
       "<Figure size 432x288 with 1 Axes>"
      ]
     },
     "metadata": {
      "needs_background": "light"
     },
     "output_type": "display_data"
    }
   ],
   "source": [
    "x = np.random.binomial(1,p=0.2,size=1000)\n",
    "sns.countplot(x), x.mean(), x.var(), x.std(), np.median(x), stat.mode(x),stats.bernoulli.pmf(p=0.2,k=0), stats.bernoulli.pmf(p=0.2,k=1)"
   ]
  },
  {
   "cell_type": "code",
   "execution_count": 40,
   "id": "b76659ac",
   "metadata": {},
   "outputs": [
    {
     "data": {
      "text/plain": [
       "<AxesSubplot:ylabel='Proportion'>"
      ]
     },
     "execution_count": 40,
     "metadata": {},
     "output_type": "execute_result"
    },
    {
     "data": {
      "image/png": "[encoded data removed]",
      "text/plain": [
       "<Figure size 432x288 with 1 Axes>"
      ]
     },
     "metadata": {
      "needs_background": "light"
     },
     "output_type": "display_data"
    }
   ],
   "source": [
    "sns.histplot(x,stat='proportion')"
   ]
  },
  {
   "cell_type": "code",
   "execution_count": 10,
   "id": "6153e01b",
   "metadata": {},
   "outputs": [
    {
     "data": {
      "image/png": "[encoded data removed]",
      "text/plain": [
       "<Figure size 432x288 with 1 Axes>"
      ]
     },
     "metadata": {
      "needs_background": "light"
     },
     "output_type": "display_data"
    },
    {
     "name": "stdout",
     "output_type": "stream",
     "text": [
      "Mean: 0.204\n",
      "Var: 0.16238400000000003\n",
      "Std: 0.4029689814365369\n",
      "Median: 0.0\n",
      "Mode: ModeResult(mode=array([0]), count=array([796]))\n",
      "P(1): 0.2\n",
      "P(0): 0.8\n"
     ]
    },
    {
     "data": {
      "image/png": "[encoded data removed]",
      "text/plain": [
       "<Figure size 432x288 with 1 Axes>"
      ]
     },
     "metadata": {
      "needs_background": "light"
     },
     "output_type": "display_data"
    }
   ],
   "source": [
    "# p = 0.2\n"
   ]
  },
  {
   "cell_type": "markdown",
   "id": "379e3ce2",
   "metadata": {},
   "source": [
    "### Repeat with p=0.5 and sample sizes  50 and 50000.\n",
    "##### Observe the difference"
   ]
  },
  {
   "cell_type": "code",
   "execution_count": 37,
   "id": "a9545b51",
   "metadata": {},
   "outputs": [
    {
     "name": "stderr",
     "output_type": "stream",
     "text": [
      "c:\\Users\\khale\\anaconda3\\lib\\site-packages\\seaborn\\_decorators.py:36: FutureWarning: Pass the following variable as a keyword arg: x. From version 0.12, the only valid positional argument will be `data`, and passing other arguments without an explicit keyword will result in an error or misinterpretation.\n",
      "  warnings.warn(\n"
     ]
    },
    {
     "data": {
      "text/plain": [
       "(<AxesSubplot:ylabel='count'>,\n",
       " 0.48,\n",
       " 0.24959999999999996,\n",
       " 0.49959983987187184,\n",
       " 0.0,\n",
       " 0,\n",
       " 0.5,\n",
       " 0.5)"
      ]
     },
     "execution_count": 37,
     "metadata": {},
     "output_type": "execute_result"
    },
    {
     "data": {
      "image/png": "[encoded data removed]",
      "text/plain": [
       "<Figure size 432x288 with 1 Axes>"
      ]
     },
     "metadata": {
      "needs_background": "light"
     },
     "output_type": "display_data"
    }
   ],
   "source": [
    "x = np.random.binomial(1,p=0.5,size=50)\n",
    "sns.countplot(x), x.mean(), x.var(), x.std(), np.median(x), stat.mode(x),stats.bernoulli.pmf(p=0.5,k=0), stats.bernoulli.pmf(p=0.5,k=1)"
   ]
  },
  {
   "cell_type": "code",
   "execution_count": 11,
   "id": "c7a1b275",
   "metadata": {},
   "outputs": [
    {
     "data": {
      "image/png": "[encoded data removed]",
      "text/plain": [
       "<Figure size 432x288 with 1 Axes>"
      ]
     },
     "metadata": {
      "needs_background": "light"
     },
     "output_type": "display_data"
    },
    {
     "name": "stdout",
     "output_type": "stream",
     "text": [
      "Mean: 0.54\n",
      "Var: 0.24840000000000004\n",
      "Std: 0.49839743177508455\n",
      "Median: 1.0\n",
      "Mode: ModeResult(mode=array([1]), count=array([27]))\n"
     ]
    },
    {
     "data": {
      "image/png": "[encoded data removed]",
      "text/plain": [
       "<Figure size 432x288 with 1 Axes>"
      ]
     },
     "metadata": {
      "needs_background": "light"
     },
     "output_type": "display_data"
    }
   ],
   "source": [
    "# p = 0.5, size = 50\n"
   ]
  },
  {
   "cell_type": "code",
   "execution_count": 38,
   "id": "c2f10a75",
   "metadata": {},
   "outputs": [
    {
     "name": "stderr",
     "output_type": "stream",
     "text": [
      "c:\\Users\\khale\\anaconda3\\lib\\site-packages\\seaborn\\_decorators.py:36: FutureWarning: Pass the following variable as a keyword arg: x. From version 0.12, the only valid positional argument will be `data`, and passing other arguments without an explicit keyword will result in an error or misinterpretation.\n",
      "  warnings.warn(\n"
     ]
    },
    {
     "data": {
      "text/plain": [
       "(<AxesSubplot:ylabel='count'>,\n",
       " 0.50244,\n",
       " 0.24999404640000003,\n",
       " 0.49999404636455425,\n",
       " 1.0,\n",
       " 1,\n",
       " 0.5,\n",
       " 0.5)"
      ]
     },
     "execution_count": 38,
     "metadata": {},
     "output_type": "execute_result"
    },
    {
     "data": {
      "image/png": "[encoded data removed]",
      "text/plain": [
       "<Figure size 432x288 with 1 Axes>"
      ]
     },
     "metadata": {
      "needs_background": "light"
     },
     "output_type": "display_data"
    }
   ],
   "source": [
    "x = np.random.binomial(1,p=0.5,size=50000)\n",
    "sns.countplot(x), x.mean(), x.var(), x.std(), np.median(x), stat.mode(x),stats.bernoulli.pmf(p=0.5,k=0), stats.bernoulli.pmf(p=0.5,k=1)"
   ]
  },
  {
   "cell_type": "code",
   "execution_count": 41,
   "id": "f01c458b",
   "metadata": {},
   "outputs": [
    {
     "data": {
      "text/plain": [
       "<AxesSubplot:ylabel='Proportion'>"
      ]
     },
     "execution_count": 41,
     "metadata": {},
     "output_type": "execute_result"
    },
    {
     "data": {
      "image/png": "[encoded data removed]",
      "text/plain": [
       "<Figure size 432x288 with 1 Axes>"
      ]
     },
     "metadata": {
      "needs_background": "light"
     },
     "output_type": "display_data"
    }
   ],
   "source": [
    "sns.histplot(x,stat='proportion')"
   ]
  },
  {
   "cell_type": "code",
   "execution_count": 12,
   "id": "6af50d36",
   "metadata": {},
   "outputs": [
    {
     "data": {
      "image/png": "[encoded data removed]",
      "text/plain": [
       "<Figure size 432x288 with 1 Axes>"
      ]
     },
     "metadata": {
      "needs_background": "light"
     },
     "output_type": "display_data"
    },
    {
     "name": "stdout",
     "output_type": "stream",
     "text": [
      "Mean: 0.50066\n",
      "Var: 0.24999956440000004\n",
      "Std: 0.4999995643998103\n",
      "Median: 1.0\n",
      "Mode: ModeResult(mode=array([1]), count=array([25033]))\n"
     ]
    },
    {
     "data": {
      "image/png": "[encoded data removed]",
      "text/plain": [
       "<Figure size 432x288 with 1 Axes>"
      ]
     },
     "metadata": {
      "needs_background": "light"
     },
     "output_type": "display_data"
    }
   ],
   "source": [
    "# p = 0.5, size = 50000\n"
   ]
  },
  {
   "cell_type": "markdown",
   "id": "2fde0110",
   "metadata": {},
   "source": [
    "## Binomial"
   ]
  },
  {
   "cell_type": "markdown",
   "id": "9c9ae157",
   "metadata": {},
   "source": [
    "- Consider a random experiment of tossing a <b>biased coin 6 times</b> where the <b>probability of getting a head is 0.6</b>. \n",
    "- If ‘getting a head’ is considered as <b>‘success’</b>.\n",
    "- Find the probability of <b>k</b> successes for each possible value of <b>k</b>. In other words, find probability of having 0 head, 1 head, 2 heads ... etc. \n",
    "- What is the mean and variance of this distribution? <b>(use binom.stats)</b>\n",
    "- Using <b>sns.barplot()</b> or any method of your choice to plot the probability distribution.\n",
    "- Generate the sample data using <b>np.random.binomial()</b> to obtain the same distribution and compare the results (try size=50 , 1000, and 10000). \n",
    "- Repeat with p=0.1 and p=0.9\n",
    "- Repeat with n = 1000, p=0.6 (you can also try with any <b>p</b>)"
   ]
  },
  {
   "cell_type": "code",
   "execution_count": 49,
   "id": "6a4bc6b4",
   "metadata": {},
   "outputs": [
    {
     "data": {
      "text/plain": [
       "(array(0.6), array(0.24))"
      ]
     },
     "execution_count": 49,
     "metadata": {},
     "output_type": "execute_result"
    }
   ],
   "source": [
    "x = np.arange(1,7)\n",
    "stats.binom.stats(n=1,p=0.6)"
   ]
  },
  {
   "cell_type": "code",
   "execution_count": 52,
   "id": "9d0ea0c4",
   "metadata": {},
   "outputs": [
    {
     "data": {
      "text/plain": [
       "array([0.036864, 0.13824 , 0.27648 , 0.31104 , 0.186624, 0.046656])"
      ]
     },
     "execution_count": 52,
     "metadata": {},
     "output_type": "execute_result"
    }
   ],
   "source": [
    "## biased die throw 6 times \n",
    "## Number of heads n = 6 , k= 0,1,2,3,4,5,6\n",
    "stats.binom.pmf(k=x,n=6,p=0.6)"
   ]
  },
  {
   "cell_type": "code",
   "execution_count": 59,
   "id": "dd682f5d",
   "metadata": {},
   "outputs": [
    {
     "data": {
      "text/plain": [
       "<AxesSubplot:>"
      ]
     },
     "execution_count": 59,
     "metadata": {},
     "output_type": "execute_result"
    },
    {
     "data": {
      "image/png": "[encoded data removed]",
      "text/plain": [
       "<Figure size 432x288 with 1 Axes>"
      ]
     },
     "metadata": {
      "needs_background": "light"
     },
     "output_type": "display_data"
    }
   ],
   "source": [
    "sns.barplot(x=x, y=stats.binom.pmf(k=x,n=6,p=0.6))"
   ]
  },
  {
   "cell_type": "code",
   "execution_count": 15,
   "id": "1862b574",
   "metadata": {},
   "outputs": [
    {
     "data": {
      "text/plain": [
       "<AxesSubplot:>"
      ]
     },
     "execution_count": 15,
     "metadata": {},
     "output_type": "execute_result"
    },
    {
     "data": {
      "image/png": "[encoded data removed]",
      "text/plain": [
       "<Figure size 432x288 with 1 Axes>"
      ]
     },
     "metadata": {
      "needs_background": "light"
     },
     "output_type": "display_data"
    }
   ],
   "source": []
  },
  {
   "cell_type": "code",
   "execution_count": 66,
   "id": "0600784b",
   "metadata": {},
   "outputs": [
    {
     "data": {
      "text/plain": [
       "(3.76, 1.1423999999999999)"
      ]
     },
     "execution_count": 66,
     "metadata": {},
     "output_type": "execute_result"
    }
   ],
   "source": [
    "x = np.random.binomial(n=6,p=0.6, size=50)\n",
    "x.mean(), x.var()"
   ]
  },
  {
   "cell_type": "code",
   "execution_count": 68,
   "id": "c65123c0",
   "metadata": {},
   "outputs": [
    {
     "data": {
      "text/plain": [
       "<AxesSubplot:ylabel='Count'>"
      ]
     },
     "execution_count": 68,
     "metadata": {},
     "output_type": "execute_result"
    },
    {
     "data": {
      "image/png": "[encoded data removed]",
      "text/plain": [
       "<Figure size 432x288 with 1 Axes>"
      ]
     },
     "metadata": {
      "needs_background": "light"
     },
     "output_type": "display_data"
    }
   ],
   "source": [
    "sns.histplot(x)"
   ]
  },
  {
   "cell_type": "code",
   "execution_count": 69,
   "id": "28cecd89",
   "metadata": {},
   "outputs": [
    {
     "name": "stderr",
     "output_type": "stream",
     "text": [
      "c:\\Users\\khale\\anaconda3\\lib\\site-packages\\seaborn\\_decorators.py:36: FutureWarning: Pass the following variable as a keyword arg: x. From version 0.12, the only valid positional argument will be `data`, and passing other arguments without an explicit keyword will result in an error or misinterpretation.\n",
      "  warnings.warn(\n"
     ]
    },
    {
     "data": {
      "text/plain": [
       "<AxesSubplot:ylabel='count'>"
      ]
     },
     "execution_count": 69,
     "metadata": {},
     "output_type": "execute_result"
    },
    {
     "data": {
      "image/png": "[encoded data removed]",
      "text/plain": [
       "<Figure size 432x288 with 1 Axes>"
      ]
     },
     "metadata": {
      "needs_background": "light"
     },
     "output_type": "display_data"
    }
   ],
   "source": [
    "sns.countplot(x)"
   ]
  },
  {
   "cell_type": "code",
   "execution_count": 16,
   "id": "cf2a7b79",
   "metadata": {},
   "outputs": [
    {
     "name": "stdout",
     "output_type": "stream",
     "text": [
      "Mean: 3.6\n",
      "Var: 1.32\n"
     ]
    },
    {
     "data": {
      "image/png": "[encoded data removed]",
      "text/plain": [
       "<Figure size 432x288 with 1 Axes>"
      ]
     },
     "metadata": {
      "needs_background": "light"
     },
     "output_type": "display_data"
    },
    {
     "data": {
      "image/png": "[encoded data removed]",
      "text/plain": [
       "<Figure size 432x288 with 1 Axes>"
      ]
     },
     "metadata": {
      "needs_background": "light"
     },
     "output_type": "display_data"
    }
   ],
   "source": [
    "# size = 50\n"
   ]
  },
  {
   "cell_type": "code",
   "execution_count": 70,
   "id": "3a66d588",
   "metadata": {},
   "outputs": [
    {
     "data": {
      "text/plain": [
       "(3.58, 1.4256000000000002)"
      ]
     },
     "execution_count": 70,
     "metadata": {},
     "output_type": "execute_result"
    }
   ],
   "source": [
    "x = np.random.binomial(n=6,p=0.6, size=1000)\n",
    "x.mean(), x.var()"
   ]
  },
  {
   "cell_type": "code",
   "execution_count": 71,
   "id": "c63373fd",
   "metadata": {},
   "outputs": [
    {
     "data": {
      "text/plain": [
       "<AxesSubplot:ylabel='Count'>"
      ]
     },
     "execution_count": 71,
     "metadata": {},
     "output_type": "execute_result"
    },
    {
     "data": {
      "image/png": "[encoded data removed]",
      "text/plain": [
       "<Figure size 432x288 with 1 Axes>"
      ]
     },
     "metadata": {
      "needs_background": "light"
     },
     "output_type": "display_data"
    }
   ],
   "source": [
    "sns.histplot(x)"
   ]
  },
  {
   "cell_type": "code",
   "execution_count": 72,
   "id": "2f658731",
   "metadata": {},
   "outputs": [
    {
     "name": "stderr",
     "output_type": "stream",
     "text": [
      "c:\\Users\\khale\\anaconda3\\lib\\site-packages\\seaborn\\_decorators.py:36: FutureWarning: Pass the following variable as a keyword arg: x. From version 0.12, the only valid positional argument will be `data`, and passing other arguments without an explicit keyword will result in an error or misinterpretation.\n",
      "  warnings.warn(\n"
     ]
    },
    {
     "data": {
      "text/plain": [
       "<AxesSubplot:ylabel='count'>"
      ]
     },
     "execution_count": 72,
     "metadata": {},
     "output_type": "execute_result"
    },
    {
     "data": {
      "image/png": "[encoded data removed]",
      "text/plain": [
       "<Figure size 432x288 with 1 Axes>"
      ]
     },
     "metadata": {
      "needs_background": "light"
     },
     "output_type": "display_data"
    }
   ],
   "source": [
    "sns.countplot(x)"
   ]
  },
  {
   "cell_type": "code",
   "execution_count": 17,
   "id": "e63290b8",
   "metadata": {},
   "outputs": [
    {
     "name": "stdout",
     "output_type": "stream",
     "text": [
      "Mean: 3.662\n",
      "Var: 1.4457559999999998\n"
     ]
    },
    {
     "data": {
      "image/png": "[encoded data removed]",
      "text/plain": [
       "<Figure size 432x288 with 1 Axes>"
      ]
     },
     "metadata": {
      "needs_background": "light"
     },
     "output_type": "display_data"
    },
    {
     "data": {
      "image/png": "[encoded data removed]",
      "text/plain": [
       "<Figure size 432x288 with 1 Axes>"
      ]
     },
     "metadata": {
      "needs_background": "light"
     },
     "output_type": "display_data"
    }
   ],
   "source": [
    "# size = 1000\n"
   ]
  },
  {
   "cell_type": "code",
   "execution_count": 18,
   "id": "f5494af8",
   "metadata": {},
   "outputs": [
    {
     "name": "stdout",
     "output_type": "stream",
     "text": [
      "Mean: 3.602\n",
      "Var: 1.4291960000000004\n"
     ]
    },
    {
     "data": {
      "image/png": "[encoded data removed]",
      "text/plain": [
       "<Figure size 432x288 with 1 Axes>"
      ]
     },
     "metadata": {
      "needs_background": "light"
     },
     "output_type": "display_data"
    },
    {
     "data": {
      "image/png": "[encoded data removed]",
      "text/plain": [
       "<Figure size 432x288 with 1 Axes>"
      ]
     },
     "metadata": {
      "needs_background": "light"
     },
     "output_type": "display_data"
    }
   ],
   "source": [
    "# size = 10000\n"
   ]
  },
  {
   "cell_type": "code",
   "execution_count": 85,
   "id": "d27c8982",
   "metadata": {},
   "outputs": [
    {
     "data": {
      "text/plain": [
       "(array(0.6), array(0.54))"
      ]
     },
     "execution_count": 85,
     "metadata": {},
     "output_type": "execute_result"
    }
   ],
   "source": [
    "x = np.arange(1,7)\n",
    "stats.binom.stats(n=6,p=0.1)"
   ]
  },
  {
   "cell_type": "code",
   "execution_count": 86,
   "id": "818e27ba",
   "metadata": {},
   "outputs": [
    {
     "data": {
      "text/plain": [
       "array([3.54294e-01, 9.84150e-02, 1.45800e-02, 1.21500e-03, 5.40000e-05,\n",
       "       1.00000e-06])"
      ]
     },
     "execution_count": 86,
     "metadata": {},
     "output_type": "execute_result"
    }
   ],
   "source": [
    "stats.binom.pmf(k=x,n=6,p=0.1)"
   ]
  },
  {
   "cell_type": "code",
   "execution_count": 101,
   "id": "584a90e4",
   "metadata": {},
   "outputs": [
    {
     "data": {
      "text/plain": [
       "<AxesSubplot:>"
      ]
     },
     "execution_count": 101,
     "metadata": {},
     "output_type": "execute_result"
    },
    {
     "data": {
      "image/png": "[encoded data removed]",
      "text/plain": [
       "<Figure size 432x288 with 1 Axes>"
      ]
     },
     "metadata": {
      "needs_background": "light"
     },
     "output_type": "display_data"
    }
   ],
   "source": [
    "sns.barplot(x=[1,2,3,4,5,6], y=stats.binom.pmf(k=x,n=6,p=0.1))"
   ]
  },
  {
   "cell_type": "code",
   "execution_count": 97,
   "id": "8f2e91c4",
   "metadata": {},
   "outputs": [
    {
     "data": {
      "text/plain": [
       "<AxesSubplot:ylabel='Count'>"
      ]
     },
     "execution_count": 97,
     "metadata": {},
     "output_type": "execute_result"
    },
    {
     "data": {
      "image/png": "[encoded data removed]",
      "text/plain": [
       "<Figure size 432x288 with 1 Axes>"
      ]
     },
     "metadata": {
      "needs_background": "light"
     },
     "output_type": "display_data"
    }
   ],
   "source": [
    "sns.histplot(x=np.random.binomial(n=6,p=0.1,size=50))"
   ]
  },
  {
   "cell_type": "code",
   "execution_count": 103,
   "id": "aef4d1ae",
   "metadata": {},
   "outputs": [
    {
     "data": {
      "text/plain": [
       "(0.599, 0.506199)"
      ]
     },
     "execution_count": 103,
     "metadata": {},
     "output_type": "execute_result"
    }
   ],
   "source": [
    "x = np.random.binomial(n=6,p=0.1, size=1000)\n",
    "x.mean(), x.var()"
   ]
  },
  {
   "cell_type": "code",
   "execution_count": 104,
   "id": "e4c95f4c",
   "metadata": {},
   "outputs": [
    {
     "data": {
      "text/plain": [
       "<AxesSubplot:ylabel='Count'>"
      ]
     },
     "execution_count": 104,
     "metadata": {},
     "output_type": "execute_result"
    },
    {
     "data": {
      "image/png": "[encoded data removed]",
      "text/plain": [
       "<Figure size 432x288 with 1 Axes>"
      ]
     },
     "metadata": {
      "needs_background": "light"
     },
     "output_type": "display_data"
    }
   ],
   "source": [
    "sns.histplot(x)"
   ]
  },
  {
   "cell_type": "code",
   "execution_count": 105,
   "id": "ee7fe807",
   "metadata": {},
   "outputs": [
    {
     "data": {
      "text/plain": [
       "(0.5977, 0.54585471)"
      ]
     },
     "execution_count": 105,
     "metadata": {},
     "output_type": "execute_result"
    }
   ],
   "source": [
    "x = np.random.binomial(n=6,p=0.1, size=10000)\n",
    "x.mean(), x.var()"
   ]
  },
  {
   "cell_type": "code",
   "execution_count": 106,
   "id": "42413760",
   "metadata": {},
   "outputs": [
    {
     "data": {
      "text/plain": [
       "<AxesSubplot:ylabel='Count'>"
      ]
     },
     "execution_count": 106,
     "metadata": {},
     "output_type": "execute_result"
    },
    {
     "data": {
      "image/png": "[encoded data removed]",
      "text/plain": [
       "<Figure size 432x288 with 1 Axes>"
      ]
     },
     "metadata": {
      "needs_background": "light"
     },
     "output_type": "display_data"
    }
   ],
   "source": [
    "sns.histplot(x)"
   ]
  },
  {
   "cell_type": "code",
   "execution_count": null,
   "id": "b11f1c41",
   "metadata": {},
   "outputs": [],
   "source": []
  },
  {
   "cell_type": "code",
   "execution_count": 19,
   "id": "90af6796",
   "metadata": {
    "scrolled": false
   },
   "outputs": [
    {
     "name": "stdout",
     "output_type": "stream",
     "text": [
      "P(0): 0.531441\n",
      "P(1): 0.35429399999999994\n",
      "P(2): 0.09841500000000003\n",
      "P(3): 0.014580000000000004\n",
      "P(4): 0.0012150000000000004\n",
      "P(5): 5.4000000000000005e-05\n",
      "P(6): 1.0000000000000004e-06\n",
      "Mean: 0.6000000000000001\n",
      "Var.: 0.5400000000000001\n"
     ]
    },
    {
     "data": {
      "image/png": "[encoded data removed]",
      "text/plain": [
       "<Figure size 432x288 with 1 Axes>"
      ]
     },
     "metadata": {
      "needs_background": "light"
     },
     "output_type": "display_data"
    },
    {
     "name": "stdout",
     "output_type": "stream",
     "text": [
      "size = 50\n",
      "Mean: 0.74\n",
      "Var: 0.6324\n"
     ]
    },
    {
     "data": {
      "image/png": "[encoded data removed]",
      "text/plain": [
       "<Figure size 432x288 with 1 Axes>"
      ]
     },
     "metadata": {
      "needs_background": "light"
     },
     "output_type": "display_data"
    },
    {
     "data": {
      "image/png": "[encoded data removed]",
      "text/plain": [
       "<Figure size 432x288 with 1 Axes>"
      ]
     },
     "metadata": {
      "needs_background": "light"
     },
     "output_type": "display_data"
    },
    {
     "name": "stdout",
     "output_type": "stream",
     "text": [
      "size = 1000\n",
      "Mean: 0.607\n",
      "Var: 0.5865509999999999\n"
     ]
    },
    {
     "data": {
      "image/png": "[encoded data removed]",
      "text/plain": [
       "<Figure size 432x288 with 1 Axes>"
      ]
     },
     "metadata": {
      "needs_background": "light"
     },
     "output_type": "display_data"
    },
    {
     "data": {
      "image/png": "[encoded data removed]",
      "text/plain": [
       "<Figure size 432x288 with 1 Axes>"
      ]
     },
     "metadata": {
      "needs_background": "light"
     },
     "output_type": "display_data"
    },
    {
     "name": "stdout",
     "output_type": "stream",
     "text": [
      "size = 10000\n",
      "Mean: 0.6059\n",
      "Var: 0.54358519\n"
     ]
    },
    {
     "data": {
      "image/png": "[encoded data removed]",
      "text/plain": [
       "<Figure size 432x288 with 1 Axes>"
      ]
     },
     "metadata": {
      "needs_background": "light"
     },
     "output_type": "display_data"
    },
    {
     "data": {
      "image/png": "[encoded data removed]",
      "text/plain": [
       "<Figure size 432x288 with 1 Axes>"
      ]
     },
     "metadata": {
      "needs_background": "light"
     },
     "output_type": "display_data"
    }
   ],
   "source": [
    "# p=0.1\n",
    "\n"
   ]
  },
  {
   "cell_type": "code",
   "execution_count": 107,
   "id": "08606809",
   "metadata": {},
   "outputs": [
    {
     "data": {
      "text/plain": [
       "(599.7979, 241.21505558999996)"
      ]
     },
     "execution_count": 107,
     "metadata": {},
     "output_type": "execute_result"
    }
   ],
   "source": [
    "x = np.random.binomial(n=1000,p=0.6, size=10000)\n",
    "x.mean(), x.var()"
   ]
  },
  {
   "cell_type": "code",
   "execution_count": 108,
   "id": "3875448b",
   "metadata": {},
   "outputs": [
    {
     "data": {
      "text/plain": [
       "<AxesSubplot:ylabel='Count'>"
      ]
     },
     "execution_count": 108,
     "metadata": {},
     "output_type": "execute_result"
    },
    {
     "data": {
      "image/png": "[encoded data removed]",
      "text/plain": [
       "<Figure size 432x288 with 1 Axes>"
      ]
     },
     "metadata": {
      "needs_background": "light"
     },
     "output_type": "display_data"
    }
   ],
   "source": [
    "sns.histplot(x)"
   ]
  },
  {
   "cell_type": "code",
   "execution_count": 20,
   "id": "3f105334",
   "metadata": {
    "scrolled": false
   },
   "outputs": [
    {
     "name": "stdout",
     "output_type": "stream",
     "text": [
      "Mean: 600.0\n",
      "Var.: 240.0\n"
     ]
    },
    {
     "data": {
      "image/png": "[encoded data removed]",
      "text/plain": [
       "<Figure size 432x288 with 1 Axes>"
      ]
     },
     "metadata": {
      "needs_background": "light"
     },
     "output_type": "display_data"
    },
    {
     "name": "stdout",
     "output_type": "stream",
     "text": [
      "size = 50\n",
      "Mean: 602.46\n",
      "Var: 254.28840000000002\n"
     ]
    },
    {
     "data": {
      "image/png": "[encoded data removed]",
      "text/plain": [
       "<Figure size 432x288 with 1 Axes>"
      ]
     },
     "metadata": {
      "needs_background": "light"
     },
     "output_type": "display_data"
    },
    {
     "data": {
      "image/png": "[encoded data removed]",
      "text/plain": [
       "<Figure size 432x288 with 1 Axes>"
      ]
     },
     "metadata": {
      "needs_background": "light"
     },
     "output_type": "display_data"
    },
    {
     "name": "stdout",
     "output_type": "stream",
     "text": [
      "size = 1000\n",
      "Mean: 600.036\n",
      "Var: 238.66670399999998\n"
     ]
    },
    {
     "data": {
      "image/png": "[encoded data removed]",
      "text/plain": [
       "<Figure size 432x288 with 1 Axes>"
      ]
     },
     "metadata": {
      "needs_background": "light"
     },
     "output_type": "display_data"
    },
    {
     "data": {
      "image/png": "[encoded data removed]",
      "text/plain": [
       "<Figure size 432x288 with 1 Axes>"
      ]
     },
     "metadata": {
      "needs_background": "light"
     },
     "output_type": "display_data"
    },
    {
     "name": "stdout",
     "output_type": "stream",
     "text": [
      "size = 10000\n",
      "Mean: 599.9445\n",
      "Var: 246.18121974999997\n"
     ]
    },
    {
     "data": {
      "image/png": "[encoded data removed]",
      "text/plain": [
       "<Figure size 432x288 with 1 Axes>"
      ]
     },
     "metadata": {
      "needs_background": "light"
     },
     "output_type": "display_data"
    },
    {
     "data": {
      "image/png": "[encoded data removed]",
      "text/plain": [
       "<Figure size 432x288 with 1 Axes>"
      ]
     },
     "metadata": {
      "needs_background": "light"
     },
     "output_type": "display_data"
    }
   ],
   "source": [
    "# p=0.6\n",
    "\n"
   ]
  },
  {
   "cell_type": "markdown",
   "id": "c3cfc42c",
   "metadata": {},
   "source": [
    "## Poisson"
   ]
  },
  {
   "cell_type": "markdown",
   "id": "84da7f0f",
   "metadata": {},
   "source": [
    "- One of the first applications of the Poisson distribution was by statistician Ladislaus Bortkiewicz. In the late 1800s, he investigated accidental deaths by horse kick of soldiers in the Prussian army. He analyzed 20 years of data for 10 army corps, equivalent to 200 years of observations of one corps.\n",
    "- He found that a <b>mean of 0.61</b> soldiers per corps died from horse kicks each year.\n",
    "- Generate a data equivallent to this problem and plot a histogram for the generated data. (You can use <b>numpy.random.poisson()</b>)\n",
    "- Confirm that you have the same mean.\n",
    "- What is the probability of death of 0,1,2,3,4,5,... up to 20 soldiers per year. (You can use <b>scipy.stats.poisson.pmf</b>)\n",
    "- Use the population parameter (lambda) to plot this probability distribution. Calculate mean and varance. (You can use <b>scipy.stats.poisson.pmf</b> and <b>scipy.stats.poisson.stats</b>)\n",
    "- Repeat with mean of 15. <b>(Write down what did you notice)</b>."
   ]
  },
  {
   "cell_type": "code",
   "execution_count": 110,
   "id": "74c24aa7",
   "metadata": {},
   "outputs": [],
   "source": [
    "lambda_ = 0.61"
   ]
  },
  {
   "cell_type": "code",
   "execution_count": 132,
   "id": "569ffce5",
   "metadata": {},
   "outputs": [],
   "source": [
    "x = np.random.poisson(lam=lambda_, size=10000)"
   ]
  },
  {
   "cell_type": "code",
   "execution_count": 133,
   "id": "d1622653",
   "metadata": {},
   "outputs": [
    {
     "data": {
      "text/plain": [
       "<AxesSubplot:ylabel='Count'>"
      ]
     },
     "execution_count": 133,
     "metadata": {},
     "output_type": "execute_result"
    },
    {
     "data": {
      "image/png": "[encoded data removed]",
      "text/plain": [
       "<Figure size 432x288 with 1 Axes>"
      ]
     },
     "metadata": {
      "needs_background": "light"
     },
     "output_type": "display_data"
    }
   ],
   "source": [
    "sns.histplot(x)"
   ]
  },
  {
   "cell_type": "code",
   "execution_count": 134,
   "id": "1ca83f74",
   "metadata": {},
   "outputs": [
    {
     "data": {
      "text/plain": [
       "(0.608, 0.608936)"
      ]
     },
     "execution_count": 134,
     "metadata": {},
     "output_type": "execute_result"
    }
   ],
   "source": [
    "x.mean(), x.var()"
   ]
  },
  {
   "cell_type": "code",
   "execution_count": 135,
   "id": "a5fb1460",
   "metadata": {},
   "outputs": [],
   "source": [
    "x = np.random.poisson(lam=lambda_, size=100000)"
   ]
  },
  {
   "cell_type": "code",
   "execution_count": 136,
   "id": "4a72e88c",
   "metadata": {},
   "outputs": [
    {
     "data": {
      "text/plain": [
       "<AxesSubplot:ylabel='Count'>"
      ]
     },
     "execution_count": 136,
     "metadata": {},
     "output_type": "execute_result"
    },
    {
     "data": {
      "image/png": "[encoded data removed]",
      "text/plain": [
       "<Figure size 432x288 with 1 Axes>"
      ]
     },
     "metadata": {
      "needs_background": "light"
     },
     "output_type": "display_data"
    }
   ],
   "source": [
    "sns.histplot(x)"
   ]
  },
  {
   "cell_type": "code",
   "execution_count": 25,
   "id": "f9d940c9",
   "metadata": {},
   "outputs": [
    {
     "name": "stdout",
     "output_type": "stream",
     "text": [
      "mean: 0.61\n",
      "var: 0.61\n"
     ]
    },
    {
     "data": {
      "image/png": "[encoded data removed]",
      "text/plain": [
       "<Figure size 720x504 with 1 Axes>"
      ]
     },
     "metadata": {
      "needs_background": "light"
     },
     "output_type": "display_data"
    }
   ],
   "source": []
  },
  {
   "cell_type": "code",
   "execution_count": 137,
   "id": "97b2f8a1",
   "metadata": {},
   "outputs": [],
   "source": [
    "x = np.random.poisson(lam=15, size=100000)"
   ]
  },
  {
   "cell_type": "code",
   "execution_count": 138,
   "id": "73bee69d",
   "metadata": {},
   "outputs": [
    {
     "data": {
      "text/plain": [
       "<AxesSubplot:ylabel='Count'>"
      ]
     },
     "execution_count": 138,
     "metadata": {},
     "output_type": "execute_result"
    },
    {
     "data": {
      "image/png": "[encoded data removed]",
      "text/plain": [
       "<Figure size 432x288 with 1 Axes>"
      ]
     },
     "metadata": {
      "needs_background": "light"
     },
     "output_type": "display_data"
    }
   ],
   "source": [
    "sns.histplot(x)"
   ]
  },
  {
   "cell_type": "code",
   "execution_count": 139,
   "id": "381c9f46",
   "metadata": {},
   "outputs": [
    {
     "data": {
      "text/plain": [
       "15.00911"
      ]
     },
     "execution_count": 139,
     "metadata": {},
     "output_type": "execute_result"
    }
   ],
   "source": [
    "x.mean()"
   ]
  },
  {
   "cell_type": "code",
   "execution_count": 28,
   "id": "50174df8",
   "metadata": {},
   "outputs": [
    {
     "name": "stdout",
     "output_type": "stream",
     "text": [
      "Mean:  15.009534246575342\n"
     ]
    },
    {
     "data": {
      "image/png": "[encoded data removed]",
      "text/plain": [
       "<Figure size 720x504 with 1 Axes>"
      ]
     },
     "metadata": {
      "needs_background": "light"
     },
     "output_type": "display_data"
    }
   ],
   "source": []
  },
  {
   "cell_type": "code",
   "execution_count": 147,
   "id": "3e1e1fe8",
   "metadata": {},
   "outputs": [
    {
     "data": {
      "text/plain": [
       "array([5.43350869e-01, 3.31444030e-01, 1.01090429e-01, 2.05550539e-02,\n",
       "       3.13464573e-03, 3.82426778e-04, 3.88800558e-05, 3.38811915e-06,\n",
       "       2.58344085e-07, 1.75099880e-08, 1.06810927e-09, 5.92315139e-11,\n",
       "       3.01093529e-12, 1.41282348e-13, 6.15587375e-15, 2.50338866e-16,\n",
       "       9.54416925e-18, 3.42467250e-19, 1.16058346e-20, 3.72608373e-22,\n",
       "       1.13645554e-23])"
      ]
     },
     "execution_count": 147,
     "metadata": {},
     "output_type": "execute_result"
    }
   ],
   "source": [
    "stats.poisson.pmf(k=np.arange(0,21),mu=lambda_)"
   ]
  },
  {
   "cell_type": "code",
   "execution_count": 148,
   "id": "e52ae628",
   "metadata": {},
   "outputs": [
    {
     "data": {
      "text/plain": [
       "array([3.05902321e-07, 4.58853481e-06, 3.44140111e-05, 1.72070055e-04,\n",
       "       6.45262707e-04, 1.93578812e-03, 4.83947030e-03, 1.03702935e-02,\n",
       "       1.94443003e-02, 3.24071672e-02, 4.86107508e-02, 6.62873875e-02,\n",
       "       8.28592344e-02, 9.56068089e-02, 1.02435867e-01, 1.02435867e-01,\n",
       "       9.60336250e-02, 8.47355515e-02, 7.06129596e-02, 5.57470733e-02,\n",
       "       4.18103050e-02])"
      ]
     },
     "execution_count": 148,
     "metadata": {},
     "output_type": "execute_result"
    }
   ],
   "source": [
    "stats.poisson.pmf(k=np.arange(0,21),mu=15)"
   ]
  },
  {
   "cell_type": "code",
   "execution_count": 162,
   "id": "03fb77df",
   "metadata": {},
   "outputs": [
    {
     "name": "stderr",
     "output_type": "stream",
     "text": [
      "c:\\Users\\khale\\anaconda3\\lib\\site-packages\\seaborn\\_decorators.py:36: FutureWarning: Pass the following variable as a keyword arg: x. From version 0.12, the only valid positional argument will be `data`, and passing other arguments without an explicit keyword will result in an error or misinterpretation.\n",
      "  warnings.warn(\n"
     ]
    },
    {
     "data": {
      "text/plain": [
       "<AxesSubplot:ylabel='count'>"
      ]
     },
     "execution_count": 162,
     "metadata": {},
     "output_type": "execute_result"
    },
    {
     "data": {
      "image/png": "[encoded data removed]",
      "text/plain": [
       "<Figure size 432x288 with 1 Axes>"
      ]
     },
     "metadata": {
      "needs_background": "light"
     },
     "output_type": "display_data"
    }
   ],
   "source": [
    "sns.countplot(stats.poisson.rvs(mu=15,size=5000))"
   ]
  },
  {
   "cell_type": "code",
   "execution_count": 29,
   "id": "7821df01",
   "metadata": {},
   "outputs": [
    {
     "name": "stdout",
     "output_type": "stream",
     "text": [
      "The probability of death of:\n",
      "0 soldiers per year: 3.059023205018258e-07\n",
      "1 soldiers per year: 4.588534807527389e-06\n",
      "2 soldiers per year: 3.4414011056455366e-05\n",
      "3 soldiers per year: 0.00017207005528227702\n",
      "4 soldiers per year: 0.000645262707308539\n",
      "5 soldiers per year: 0.0019357881219256158\n",
      "6 soldiers per year: 0.004839470304814035\n",
      "7 soldiers per year: 0.010370293510315794\n",
      "8 soldiers per year: 0.019444300331842114\n",
      "9 soldiers per year: 0.03240716721973691\n",
      "10 soldiers per year: 0.04861075082960534\n",
      "11 soldiers per year: 0.06628738749491639\n",
      "12 soldiers per year: 0.08285923436864541\n",
      "13 soldiers per year: 0.09560680888689863\n",
      "14 soldiers per year: 0.1024358666645339\n",
      "15 soldiers per year: 0.1024358666645339\n",
      "16 soldiers per year: 0.09603362499800054\n",
      "17 soldiers per year: 0.08473555146882411\n",
      "18 soldiers per year: 0.07061295955735367\n",
      "19 soldiers per year: 0.055747073334752824\n",
      "20 soldiers per year: 0.04181030500106466\n"
     ]
    }
   ],
   "source": []
  },
  {
   "cell_type": "code",
   "execution_count": 30,
   "id": "386e7de1",
   "metadata": {},
   "outputs": [
    {
     "name": "stdout",
     "output_type": "stream",
     "text": [
      "mean: 15.0\n",
      "var: 15.0\n"
     ]
    },
    {
     "data": {
      "image/png": "[encoded data removed]",
      "text/plain": [
       "<Figure size 720x504 with 1 Axes>"
      ]
     },
     "metadata": {
      "needs_background": "light"
     },
     "output_type": "display_data"
    }
   ],
   "source": []
  },
  {
   "cell_type": "markdown",
   "id": "41e3847c",
   "metadata": {},
   "source": [
    "## Discrete Uniform Distribution\n",
    "- If you randomly approach a person and try to guess his/her birthday, the probability of his/her birthday falling exactly on the date you have guessed follows a uniform distribution.\n",
    "- Using <b>scipy.stats.randint()</b>:\n",
    "    - Find the mean and variance.\n",
    "    - Find the probability of selecting the 3rd day in March.\n",
    "- Repeat using <b>numpy.random.randint()</b>\n",
    "- In both cases, plot the <b>pmf</b>."
   ]
  },
  {
   "cell_type": "code",
   "execution_count": 175,
   "id": "381c2ef9",
   "metadata": {},
   "outputs": [
    {
     "data": {
      "text/plain": [
       "(182.5, 11041.25)"
      ]
     },
     "execution_count": 175,
     "metadata": {},
     "output_type": "execute_result"
    }
   ],
   "source": [
    "# Using Scipy\n",
    "stats.randint.mean(low=1,high=365),  stats.randint.var(low=1,high=365)\n"
   ]
  },
  {
   "cell_type": "code",
   "execution_count": 170,
   "id": "575c3fb3",
   "metadata": {},
   "outputs": [
    {
     "data": {
      "text/plain": [
       "0.0027472527472527475"
      ]
     },
     "execution_count": 170,
     "metadata": {},
     "output_type": "execute_result"
    }
   ],
   "source": [
    "stats.randint.pmf(k=1,low=1,high=365)"
   ]
  },
  {
   "cell_type": "code",
   "execution_count": 226,
   "id": "7c065e37",
   "metadata": {},
   "outputs": [
    {
     "data": {
      "text/plain": [
       "<AxesSubplot:ylabel='Count'>"
      ]
     },
     "execution_count": 226,
     "metadata": {},
     "output_type": "execute_result"
    },
    {
     "data": {
      "image/png": "[encoded data removed]",
      "text/plain": [
       "<Figure size 432x288 with 1 Axes>"
      ]
     },
     "metadata": {
      "needs_background": "light"
     },
     "output_type": "display_data"
    }
   ],
   "source": [
    "sns.histplot(np.random.randint(low=1,high=365,size=1000))"
   ]
  },
  {
   "cell_type": "code",
   "execution_count": 32,
   "id": "4068d3d7",
   "metadata": {},
   "outputs": [
    {
     "name": "stdout",
     "output_type": "stream",
     "text": [
      "probability of selecting the 3rd day in March: 0.0027397260273972603\n"
     ]
    }
   ],
   "source": []
  },
  {
   "cell_type": "code",
   "execution_count": 178,
   "id": "54301a12",
   "metadata": {},
   "outputs": [],
   "source": [
    "x = np.random.randint(low=1,high=356,size=1000)"
   ]
  },
  {
   "cell_type": "code",
   "execution_count": 179,
   "id": "5c8dfe2d",
   "metadata": {},
   "outputs": [
    {
     "data": {
      "text/plain": [
       "<AxesSubplot:ylabel='Count'>"
      ]
     },
     "execution_count": 179,
     "metadata": {},
     "output_type": "execute_result"
    },
    {
     "data": {
      "image/png": "[encoded data removed]",
      "text/plain": [
       "<Figure size 432x288 with 1 Axes>"
      ]
     },
     "metadata": {
      "needs_background": "light"
     },
     "output_type": "display_data"
    }
   ],
   "source": [
    "sns.histplot(x)"
   ]
  },
  {
   "cell_type": "code",
   "execution_count": 180,
   "id": "b888108c",
   "metadata": {},
   "outputs": [],
   "source": [
    "# Using Numpy\n"
   ]
  },
  {
   "cell_type": "code",
   "execution_count": 196,
   "id": "40c5de7d",
   "metadata": {},
   "outputs": [
    {
     "data": {
      "text/plain": [
       "0.0027472527472527475"
      ]
     },
     "execution_count": 196,
     "metadata": {},
     "output_type": "execute_result"
    }
   ],
   "source": [
    "stats.randint.pmf(k=93,low=1,high=365)"
   ]
  },
  {
   "cell_type": "code",
   "execution_count": 34,
   "id": "a97fd619",
   "metadata": {},
   "outputs": [
    {
     "name": "stdout",
     "output_type": "stream",
     "text": [
      "probability of selecting the 3rd day in March: 0.0025\n"
     ]
    }
   ],
   "source": []
  },
  {
   "cell_type": "markdown",
   "id": "0f48cce6",
   "metadata": {},
   "source": [
    "## Continuous  Uniform Distribution\n",
    "- The average weight gained by a person over the winter months is uniformly distributed and ranges from 0 to 30 lbs. \n",
    "- Using <b>scipy.stats.uniform()</b> and <b>numpy.random.uniform()</b>\n",
    "    - Find the probability of a person that he will gain between 10 and 15 lbs in the winter months.\n",
    "    - Plot the probability distribution in both cases.\n",
    "    - Calculate the mean and variance,"
   ]
  },
  {
   "cell_type": "code",
   "execution_count": 197,
   "id": "d0525dc9",
   "metadata": {},
   "outputs": [
    {
     "data": {
      "text/plain": [
       "(array(15.), array(75.))"
      ]
     },
     "execution_count": 197,
     "metadata": {},
     "output_type": "execute_result"
    }
   ],
   "source": [
    "stats.uniform.stats(loc=0,scale=30)"
   ]
  },
  {
   "cell_type": "code",
   "execution_count": 199,
   "id": "54f267aa",
   "metadata": {},
   "outputs": [
    {
     "data": {
      "text/plain": [
       "0.16666666666666669"
      ]
     },
     "execution_count": 199,
     "metadata": {},
     "output_type": "execute_result"
    }
   ],
   "source": [
    "stats.uniform.cdf(x=15, loc=0,scale=30) - stats.uniform.cdf(x=10, loc=0,scale=30)"
   ]
  },
  {
   "cell_type": "code",
   "execution_count": 222,
   "id": "0563bfc6",
   "metadata": {},
   "outputs": [
    {
     "data": {
      "text/plain": [
       "<AxesSubplot:ylabel='Count'>"
      ]
     },
     "execution_count": 222,
     "metadata": {},
     "output_type": "execute_result"
    },
    {
     "data": {
      "image/png": "[encoded data removed]",
      "text/plain": [
       "<Figure size 432x288 with 1 Axes>"
      ]
     },
     "metadata": {
      "needs_background": "light"
     },
     "output_type": "display_data"
    }
   ],
   "source": [
    "sns.histplot(np.random.uniform(low=1,high=30,size=1000))"
   ]
  },
  {
   "cell_type": "code",
   "execution_count": null,
   "id": "cdffdc8c",
   "metadata": {},
   "outputs": [],
   "source": [
    "plt.x"
   ]
  },
  {
   "cell_type": "code",
   "execution_count": 220,
   "id": "35eaee4c",
   "metadata": {},
   "outputs": [
    {
     "data": {
      "text/plain": [
       "0.16666666666666669"
      ]
     },
     "execution_count": 220,
     "metadata": {},
     "output_type": "execute_result"
    }
   ],
   "source": [
    "(stats.uniform.cdf(x=15, loc=0,scale=30) - stats.uniform.cdf(x=10, loc=0,scale=30))"
   ]
  },
  {
   "cell_type": "code",
   "execution_count": 3,
   "id": "40bebc69",
   "metadata": {},
   "outputs": [
    {
     "name": "stdout",
     "output_type": "stream",
     "text": [
      "mean: 15.0\n",
      "var: 75.0\n"
     ]
    },
    {
     "data": {
      "text/plain": [
       "[<matplotlib.lines.Line2D at 0x2b86a1eb910>]"
      ]
     },
     "execution_count": 3,
     "metadata": {},
     "output_type": "execute_result"
    },
    {
     "data": {
      "image/png": "[encoded data removed]",
      "text/plain": [
       "<Figure size 720x504 with 1 Axes>"
      ]
     },
     "metadata": {
      "needs_background": "light"
     },
     "output_type": "display_data"
    }
   ],
   "source": [
    "# In the standard form, the distribution is uniform on [0, 1]. \n",
    "# Using the parameters loc and scale, one obtains the uniform distribution on [loc, loc + scale].\n",
    "\n"
   ]
  },
  {
   "cell_type": "code",
   "execution_count": 36,
   "id": "317d3709",
   "metadata": {},
   "outputs": [
    {
     "name": "stdout",
     "output_type": "stream",
     "text": [
      "Probability of a person that he will gain between 10 and 15 lbs in the winter months:\n",
      " 0.16666666666666669\n"
     ]
    }
   ],
   "source": []
  },
  {
   "cell_type": "code",
   "execution_count": 37,
   "id": "b8e56a88",
   "metadata": {},
   "outputs": [
    {
     "name": "stdout",
     "output_type": "stream",
     "text": [
      "mean: 15.17225561983657\n",
      "var: 75.30105533477482\n"
     ]
    },
    {
     "data": {
      "image/png": "[encoded data removed]",
      "text/plain": [
       "<Figure size 720x504 with 1 Axes>"
      ]
     },
     "metadata": {
      "needs_background": "light"
     },
     "output_type": "display_data"
    }
   ],
   "source": []
  },
  {
   "cell_type": "markdown",
   "id": "669b9f08",
   "metadata": {},
   "source": [
    "## Exponential Distribution\n",
    "- The number of miles that a particular car can run before its battery wears out is exponentially distributed with an average of 10,000 miles. The owner of the car needs to take a 5000-mile trip. \n",
    "- Using <b>scipy.stats.expon()</b> and <b>numpy.random.exponential()</b>\n",
    "    - What is the probability that he will be able to complete the trip without having to replace the car battery?\n",
    "    - Plot the probability distribution in both cases.\n",
    "    - Calculate the mean and variance."
   ]
  },
  {
   "cell_type": "code",
   "execution_count": 39,
   "id": "52c2a682",
   "metadata": {},
   "outputs": [
    {
     "name": "stdout",
     "output_type": "stream",
     "text": [
      "mean: 10000.0\n",
      "var: 100000000.0\n"
     ]
    },
    {
     "data": {
      "text/plain": [
       "[<matplotlib.lines.Line2D at 0x145e115adf0>]"
      ]
     },
     "execution_count": 39,
     "metadata": {},
     "output_type": "execute_result"
    },
    {
     "data": {
      "image/png": "[encoded data removed]",
      "text/plain": [
       "<Figure size 720x504 with 1 Axes>"
      ]
     },
     "metadata": {
      "needs_background": "light"
     },
     "output_type": "display_data"
    }
   ],
   "source": []
  },
  {
   "cell_type": "code",
   "execution_count": 40,
   "id": "f5d474ee",
   "metadata": {},
   "outputs": [
    {
     "name": "stdout",
     "output_type": "stream",
     "text": [
      "The probability that he will be able to complete the trip without having to replace the car battery:\n",
      " 0.6065306597126334\n"
     ]
    }
   ],
   "source": []
  },
  {
   "cell_type": "code",
   "execution_count": 41,
   "id": "2dc36051",
   "metadata": {},
   "outputs": [
    {
     "name": "stdout",
     "output_type": "stream",
     "text": [
      "mean: 9919.270774977362\n",
      "var: 101500714.31326973\n"
     ]
    },
    {
     "data": {
      "image/png": "[encoded data removed]",
      "text/plain": [
       "<Figure size 720x504 with 1 Axes>"
      ]
     },
     "metadata": {
      "needs_background": "light"
     },
     "output_type": "display_data"
    }
   ],
   "source": []
  },
  {
   "cell_type": "code",
   "execution_count": 42,
   "id": "ae1da9f7",
   "metadata": {},
   "outputs": [
    {
     "name": "stdout",
     "output_type": "stream",
     "text": [
      "The probability that he will be able to complete the trip without having to replace the car battery:\n",
      " 0.6047\n"
     ]
    }
   ],
   "source": []
  },
  {
   "cell_type": "markdown",
   "id": "2130b518",
   "metadata": {},
   "source": [
    "## Normal (Gaussian) Distribution\n",
    "- Most graduate schools of business require applicants for admission to take the Graduate Management Admission Council’s GMAT examination. \n",
    "- Scores on the GMAT are roughly normally distributed with a mean of <b>527</b> and a standard deviation of <b>112</b>. \n",
    "- Plot the <b>pdf</b> and <b>cdf</b> with the given parameters. <b>(you can use scipy.stats.norm.cdf() and scipy.stats.norm.cdf()) </b>\n",
    "- Use <b>numpy.random.normal()</b> to Generate random sample with the given parameters. <b>(Use sample size of your choice)</b>\n",
    "- Compute <b>mean</b> and <b>variance</b> for the generated data and compare with the original parameters.\n",
    "- Plot the <b>distribution</b> for the generated data. \n",
    "\n",
    "#### Answer the following question:\n",
    "- What is the probability of an individual scoring above 500 on the GMAT? \n",
    "##### You must answer the above questions with all of the following methods:\n",
    "1. Using <b>scipy.stats.norm.cdf()</b> with the distribution parameters.\n",
    "2. Convert the the given score <b>(e.g., 500)</b> to a <b>z-score</b> and find the answer from the <b>z-table</b>.\n",
    "3. Use the <b>z-score</b> and use scipy.stats.norm.cdf() to obtain the result.\n",
    "4. Use the generated data sample.\n",
    "5. Convert the generated data sample to stabdard normal distribution (once using <b>sklearn.preprocessing.StandardScaler()</b> and once using <b>scipy.stats.zscore()</b>) then calculate the result.\n",
    "\n",
    "##### Use any way you want to answer the following question:\n",
    "- How high must an individual score on the GMAT in order to score in the highest 5%? (<b>scipy.stats.norm.ppf is useful in this case</b>)"
   ]
  },
  {
   "cell_type": "code",
   "execution_count": 43,
   "id": "a931d5fe",
   "metadata": {},
   "outputs": [],
   "source": []
  },
  {
   "cell_type": "code",
   "execution_count": 44,
   "id": "6c5d963e",
   "metadata": {},
   "outputs": [],
   "source": []
  },
  {
   "cell_type": "code",
   "execution_count": 45,
   "id": "15d9a42e",
   "metadata": {},
   "outputs": [
    {
     "name": "stdout",
     "output_type": "stream",
     "text": [
      "mean: 527.0\n",
      "var: 12544.0\n"
     ]
    },
    {
     "data": {
      "text/plain": [
       "[<matplotlib.lines.Line2D at 0x145df1f0dc0>]"
      ]
     },
     "execution_count": 45,
     "metadata": {},
     "output_type": "execute_result"
    },
    {
     "data": {
      "image/png": "[encoded data removed]",
      "text/plain": [
       "<Figure size 720x1008 with 2 Axes>"
      ]
     },
     "metadata": {
      "needs_background": "light"
     },
     "output_type": "display_data"
    }
   ],
   "source": []
  },
  {
   "cell_type": "code",
   "execution_count": 46,
   "id": "de10d23b",
   "metadata": {},
   "outputs": [
    {
     "name": "stdout",
     "output_type": "stream",
     "text": [
      "mean: 528.6019195915244\n",
      "var: 12909.419867722378\n",
      "std: 113.61962800380213\n"
     ]
    },
    {
     "data": {
      "text/plain": [
       "<matplotlib.legend.Legend at 0x145df83ffd0>"
      ]
     },
     "execution_count": 46,
     "metadata": {},
     "output_type": "execute_result"
    },
    {
     "data": {
      "image/png": "[encoded data removed]",
      "text/plain": [
       "<Figure size 720x504 with 1 Axes>"
      ]
     },
     "metadata": {
      "needs_background": "light"
     },
     "output_type": "display_data"
    }
   ],
   "source": []
  },
  {
   "cell_type": "markdown",
   "id": "139f2ac3",
   "metadata": {},
   "source": [
    "##### What is the probability of an individual scoring above 500 on the GMAT?"
   ]
  },
  {
   "cell_type": "code",
   "execution_count": 47,
   "id": "333a956d",
   "metadata": {},
   "outputs": [
    {
     "name": "stdout",
     "output_type": "stream",
     "text": [
      "Probability of an individual scoring above 500 on the GMAT:\n",
      "0.5952501217429682\n"
     ]
    }
   ],
   "source": [
    "# Using scipy.stats.norm.cdf()\n"
   ]
  },
  {
   "cell_type": "code",
   "execution_count": 48,
   "id": "c787f747",
   "metadata": {},
   "outputs": [
    {
     "name": "stdout",
     "output_type": "stream",
     "text": [
      "Z-score: -0.24107142857142858\n"
     ]
    }
   ],
   "source": []
  },
  {
   "cell_type": "code",
   "execution_count": 49,
   "id": "e15dacc4",
   "metadata": {},
   "outputs": [
    {
     "data": {
      "text/plain": [
       "0.59483"
      ]
     },
     "execution_count": 49,
     "metadata": {},
     "output_type": "execute_result"
    }
   ],
   "source": [
    "# from z-table\n"
   ]
  },
  {
   "cell_type": "code",
   "execution_count": 50,
   "id": "edcbfcb4",
   "metadata": {},
   "outputs": [
    {
     "name": "stdout",
     "output_type": "stream",
     "text": [
      "Probability of an individual scoring above 500 on the GMAT:\n",
      "0.5952501217429682\n"
     ]
    }
   ],
   "source": [
    "# Use the z-score and use scipy.stats.norm.cdf() to obtain the result.\n"
   ]
  },
  {
   "cell_type": "code",
   "execution_count": 51,
   "id": "b1449e0a",
   "metadata": {},
   "outputs": [
    {
     "name": "stdout",
     "output_type": "stream",
     "text": [
      "Probability of an individual scoring above 500 on the GMAT:\n",
      "0.622\n"
     ]
    }
   ],
   "source": [
    "# Use the generated data sample.\n"
   ]
  },
  {
   "cell_type": "code",
   "execution_count": 52,
   "id": "2fd182a5",
   "metadata": {},
   "outputs": [
    {
     "name": "stdout",
     "output_type": "stream",
     "text": [
      "Probability of an individual scoring above 500 on the GMAT:\n",
      "0.621\n"
     ]
    }
   ],
   "source": [
    "# Using scipy.stats.zscore()\n"
   ]
  },
  {
   "cell_type": "code",
   "execution_count": 53,
   "id": "05090406",
   "metadata": {},
   "outputs": [
    {
     "name": "stdout",
     "output_type": "stream",
     "text": [
      "Probability of an individual scoring above 500 on the GMAT:\n",
      "0.621\n"
     ]
    }
   ],
   "source": [
    "# Using sklearn.preprocessing.StandardScaler() and once\n"
   ]
  },
  {
   "cell_type": "markdown",
   "id": "33538380",
   "metadata": {},
   "source": [
    "##### How high must an individual score on the GMAT in order to score in the highest 5%? "
   ]
  },
  {
   "cell_type": "code",
   "execution_count": 54,
   "id": "0b8158c7",
   "metadata": {},
   "outputs": [
    {
     "data": {
      "text/plain": [
       "711.2236062185649"
      ]
     },
     "execution_count": 54,
     "metadata": {},
     "output_type": "execute_result"
    }
   ],
   "source": []
  }
 ],
 "metadata": {
  "kernelspec": {
   "display_name": "base",
   "language": "python",
   "name": "python3"
  },
  "language_info": {
   "codemirror_mode": {
    "name": "ipython",
    "version": 3
   },
   "file_extension": ".py",
   "mimetype": "text/x-python",
   "name": "python",
   "nbconvert_exporter": "python",
   "pygments_lexer": "ipython3",
   "version": "3.9.12"
  },
  "vscode": {
   "interpreter": {
    "hash": "3ae364a8bee9e35fdd929719cbdf9e88d2269dcd731e4b2a2c32cc9a820825cc"
   }
  }
 },
 "nbformat": 4,
 "nbformat_minor": 5
}
